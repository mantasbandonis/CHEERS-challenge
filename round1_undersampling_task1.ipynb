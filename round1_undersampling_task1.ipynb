{
  "nbformat": 4,
  "nbformat_minor": 0,
  "metadata": {
    "deepnote": {},
    "deepnote_execution_queue": [],
    "deepnote_notebook_id": "7c27ecd8-cadf-45e6-9a0a-3543fb627261",
    "kernelspec": {
      "display_name": "Python 3",
      "language": "python",
      "name": "python3"
    },
    "language_info": {
      "codemirror_mode": {
        "name": "ipython",
        "version": 3
      },
      "file_extension": ".py",
      "mimetype": "text/x-python",
      "name": "python",
      "nbconvert_exporter": "python",
      "pygments_lexer": "ipython3",
      "version": "3.8.5"
    },
    "colab": {
      "name": "round1_undersampling_task1.ipynb",
      "provenance": [],
      "machine_shape": "hm",
      "include_colab_link": true
    },
    "accelerator": "GPU"
  },
  "cells": [
    {
      "cell_type": "markdown",
      "metadata": {
        "id": "view-in-github",
        "colab_type": "text"
      },
      "source": [
        "<a href=\"https://colab.research.google.com/github/mantasbandonis/CHEERS-challenge/blob/main/round1_undersampling_task1.ipynb\" target=\"_parent\"><img src=\"https://colab.research.google.com/assets/colab-badge.svg\" alt=\"Open In Colab\"/></a>"
      ]
    },
    {
      "cell_type": "code",
      "metadata": {
        "id": "7LmqnG60IUDK",
        "colab": {
          "base_uri": "https://localhost:8080/"
        },
        "outputId": "5878fbf5-5770-44b8-c94c-29314dea2d7c"
      },
      "source": [
        "!pip install transformers\n",
        "!pip install imbalanced-learn"
      ],
      "execution_count": 123,
      "outputs": [
        {
          "output_type": "stream",
          "text": [
            "Requirement already satisfied: transformers in /usr/local/lib/python3.7/dist-packages (4.5.1)\n",
            "Requirement already satisfied: numpy>=1.17 in /usr/local/lib/python3.7/dist-packages (from transformers) (1.19.5)\n",
            "Requirement already satisfied: requests in /usr/local/lib/python3.7/dist-packages (from transformers) (2.23.0)\n",
            "Requirement already satisfied: tokenizers<0.11,>=0.10.1 in /usr/local/lib/python3.7/dist-packages (from transformers) (0.10.2)\n",
            "Requirement already satisfied: regex!=2019.12.17 in /usr/local/lib/python3.7/dist-packages (from transformers) (2019.12.20)\n",
            "Requirement already satisfied: sacremoses in /usr/local/lib/python3.7/dist-packages (from transformers) (0.0.45)\n",
            "Requirement already satisfied: importlib-metadata; python_version < \"3.8\" in /usr/local/lib/python3.7/dist-packages (from transformers) (3.10.1)\n",
            "Requirement already satisfied: packaging in /usr/local/lib/python3.7/dist-packages (from transformers) (20.9)\n",
            "Requirement already satisfied: tqdm>=4.27 in /usr/local/lib/python3.7/dist-packages (from transformers) (4.41.1)\n",
            "Requirement already satisfied: filelock in /usr/local/lib/python3.7/dist-packages (from transformers) (3.0.12)\n",
            "Requirement already satisfied: chardet<4,>=3.0.2 in /usr/local/lib/python3.7/dist-packages (from requests->transformers) (3.0.4)\n",
            "Requirement already satisfied: certifi>=2017.4.17 in /usr/local/lib/python3.7/dist-packages (from requests->transformers) (2020.12.5)\n",
            "Requirement already satisfied: urllib3!=1.25.0,!=1.25.1,<1.26,>=1.21.1 in /usr/local/lib/python3.7/dist-packages (from requests->transformers) (1.24.3)\n",
            "Requirement already satisfied: idna<3,>=2.5 in /usr/local/lib/python3.7/dist-packages (from requests->transformers) (2.10)\n",
            "Requirement already satisfied: joblib in /usr/local/lib/python3.7/dist-packages (from sacremoses->transformers) (1.0.1)\n",
            "Requirement already satisfied: six in /usr/local/lib/python3.7/dist-packages (from sacremoses->transformers) (1.15.0)\n",
            "Requirement already satisfied: click in /usr/local/lib/python3.7/dist-packages (from sacremoses->transformers) (7.1.2)\n",
            "Requirement already satisfied: typing-extensions>=3.6.4; python_version < \"3.8\" in /usr/local/lib/python3.7/dist-packages (from importlib-metadata; python_version < \"3.8\"->transformers) (3.7.4.3)\n",
            "Requirement already satisfied: zipp>=0.5 in /usr/local/lib/python3.7/dist-packages (from importlib-metadata; python_version < \"3.8\"->transformers) (3.4.1)\n",
            "Requirement already satisfied: pyparsing>=2.0.2 in /usr/local/lib/python3.7/dist-packages (from packaging->transformers) (2.4.7)\n",
            "Requirement already satisfied: imbalanced-learn in /usr/local/lib/python3.7/dist-packages (0.4.3)\n",
            "Requirement already satisfied: scipy>=0.13.3 in /usr/local/lib/python3.7/dist-packages (from imbalanced-learn) (1.4.1)\n",
            "Requirement already satisfied: scikit-learn>=0.20 in /usr/local/lib/python3.7/dist-packages (from imbalanced-learn) (0.22.2.post1)\n",
            "Requirement already satisfied: numpy>=1.8.2 in /usr/local/lib/python3.7/dist-packages (from imbalanced-learn) (1.19.5)\n",
            "Requirement already satisfied: joblib>=0.11 in /usr/local/lib/python3.7/dist-packages (from scikit-learn>=0.20->imbalanced-learn) (1.0.1)\n",
            "\u001b[31mERROR: Could not find a version that satisfies the requirement plotcm (from versions: none)\u001b[0m\n",
            "\u001b[31mERROR: No matching distribution found for plotcm\u001b[0m\n"
          ],
          "name": "stdout"
        }
      ]
    },
    {
      "cell_type": "code",
      "metadata": {
        "id": "PaJC7U9mA6LI"
      },
      "source": [
        "from transformers import BertTokenizer, BertForSequenceClassification, DistilBertForSequenceClassification, DistilBertTokenizer\n",
        "import torch\n",
        "from torch import nn\n",
        "import pandas as pd\n",
        "import pickle\n",
        "import numpy as np\n",
        "import matplotlib.pyplot as plt\n",
        "from sklearn.metrics import f1_score, accuracy_score, roc_curve, auc\n",
        "from imblearn.under_sampling import RandomUnderSampler\n",
        "import torch.nn.functional as F\n",
        "import transformers\n",
        "\n",
        "from torch.utils.data import TensorDataset, DataLoader, RandomSampler, SequentialSampler\n",
        "\n",
        "device = torch.device(\"cuda:0\" if torch.cuda.is_available() else \"cpu\")"
      ],
      "execution_count": 120,
      "outputs": []
    },
    {
      "cell_type": "code",
      "metadata": {
        "colab": {
          "base_uri": "https://localhost:8080/"
        },
        "id": "i9mXKBTAJ8mp",
        "outputId": "92c01723-7b3d-45cc-9304-2adc3af3c47b"
      },
      "source": [
        "from google.colab import drive\n",
        "drive.mount('/content/drive')"
      ],
      "execution_count": 19,
      "outputs": [
        {
          "output_type": "stream",
          "text": [
            "Drive already mounted at /content/drive; to attempt to forcibly remount, call drive.mount(\"/content/drive\", force_remount=True).\n"
          ],
          "name": "stdout"
        }
      ]
    },
    {
      "cell_type": "code",
      "metadata": {
        "cell_id": "00001-78bff357-c978-48c5-89d8-153406a65001",
        "deepnote_cell_type": "code",
        "deepnote_to_be_reexecuted": false,
        "execution_millis": 1710,
        "execution_start": 1619186697861,
        "source_hash": "8935307",
        "id": "aCPyaFWdH4lg"
      },
      "source": [
        "documents_train = pd.read_csv(\"/content/drive/MyDrive/cheers_challenge/round1/data_round_1/documents_en_train.csv\")\n",
        "sentences_train = pd.read_csv(\"/content/drive/MyDrive/cheers_challenge/round1/data_round_1/sentences_en_train.csv\")\n",
        "\n",
        "documents_val = pd.read_csv(\"/content/drive/MyDrive/cheers_challenge/round1/data_round_1/documents_en_val.csv\")\n",
        "sentences_val = pd.read_csv(\"/content/drive/MyDrive/cheers_challenge/round1/data_round_1/sentences_en_val.csv\")\n",
        "\n",
        "documents_test = pd.read_csv(\"/content/drive/MyDrive/cheers_challenge/round1/data_round_1/documents_en_test.csv\")\n",
        "sentences_test = pd.read_csv(\"/content/drive/MyDrive/cheers_challenge/round1/data_round_1/sentences_en_test.csv\")\n",
        "\n",
        "with open(\"/content/drive/MyDrive/cheers_challenge/round1/data_round_1/word_embedding.txt\", \"rb\") as fp: \n",
        "    embedding_distilbert = pickle.load(fp)\n",
        "\n",
        "with open(\"/content/drive/MyDrive/cheers_challenge/round1/data_round_1/attention_masks.txt\", \"rb\") as fp: \n",
        "    attention_masks = pickle.load(fp)\n",
        "\n",
        "with open(\"/content/drive/MyDrive/cheers_challenge/round1/data_round_1/word_embedding_val.txt\", \"rb\") as fp: \n",
        "    embedding_distilbert_val = pickle.load(fp)\n",
        "\n",
        "with open(\"/content/drive/MyDrive/cheers_challenge/round1/data_round_1/attention_masks_val.txt\", \"rb\") as fp: \n",
        "    attention_masks_val = pickle.load(fp)\n",
        "\n",
        "#immap_sector_name_to_id.json"
      ],
      "execution_count": 103,
      "outputs": []
    },
    {
      "cell_type": "code",
      "metadata": {
        "id": "Qk87zXA5Waqa"
      },
      "source": [
        "sentences = sentences_train[\"sentence_text\"]"
      ],
      "execution_count": 104,
      "outputs": []
    },
    {
      "cell_type": "code",
      "metadata": {
        "id": "nfBxI8Cl0l48"
      },
      "source": [
        "y = sentences_train[\"is_relevant\"]"
      ],
      "execution_count": 105,
      "outputs": []
    },
    {
      "cell_type": "code",
      "metadata": {
        "id": "iFgGNSGB8YEA"
      },
      "source": [
        "def undersampler(embedding, attention_mask, y):\n",
        "    '''\n",
        "    Given the embedding, attention masks and y returns undersampled versions \n",
        "    of the input variables\n",
        "    '''\n",
        "\n",
        "    nr_y1 = len(pd.DataFrame(y)[y==1])\n",
        "    y_0_idx = np.asarray(pd.DataFrame(y)[y==0].index).flatten()\n",
        "\n",
        "    print(\"Nr samples class 0:\", len(y_0_idx))\n",
        "    print(\"Nr samples class 1:\", nr_y1)\n",
        "\n",
        "    idx_list = np.random.choice(y_0_idx, size = nr_y1)\n",
        "\n",
        "    embedding_0 = embedding_distilbert[idx_list]\n",
        "    masks_0 = np.array(attention_masks)[idx_list]\n",
        "    y_0 = y[idx_list].values\n",
        "\n",
        "    if (len(embedding_0) == len(masks_0) & len(embedding_0) == len(y_0)):\n",
        "        print(\"Nr undersampled samples class 0:\", len(embedding_0))\n",
        "\n",
        "    y_1_idx = np.asarray(pd.DataFrame(y)[y==1].index).flatten()\n",
        "    \n",
        "    embedding_1 = embedding_distilbert[y_1_idx]\n",
        "    masks_1 = np.array(attention_masks)[y_1_idx]\n",
        "    y_1 = y[y_1_idx].values\n",
        "\n",
        "\n",
        "    embedding_undersampled = np.concatenate((embedding_0, embedding_1))\n",
        "    masks_undersampled = np.concatenate((masks_0, masks_1))\n",
        "    y_undersampled = np.concatenate((y_0, y_1))\n",
        "\n",
        "    if (len(embedding_undersampled) == len(masks_undersampled) & len(embedding_undersampled) == len(y_undersampled)):\n",
        "        print(\"\\nSize undersampled dataset:\", len(embedding_undersampled))\n",
        "\n",
        "    print(\"Done!\")\n",
        "    return embedding_undersampled, masks_undersampled, y_undersampled"
      ],
      "execution_count": 106,
      "outputs": []
    },
    {
      "cell_type": "code",
      "metadata": {
        "colab": {
          "base_uri": "https://localhost:8080/"
        },
        "id": "9S8EsCc3E1by",
        "outputId": "3b5b10d8-4c6f-4b39-e3eb-80242c3422e1"
      },
      "source": [
        "embedding_distilbert, attention_masks, y = undersampler(embedding_distilbert, attention_masks, y)"
      ],
      "execution_count": 107,
      "outputs": [
        {
          "output_type": "stream",
          "text": [
            "Nr samples class 0: 220086\n",
            "Nr samples class 1: 41895\n",
            "Nr undersampled samples class 0: 41895\n",
            "\n",
            "Size undersampled dataset: 83790\n",
            "Done!\n"
          ],
          "name": "stdout"
        }
      ]
    },
    {
      "cell_type": "code",
      "metadata": {
        "id": "6LjNGMJJxv8z",
        "colab": {
          "base_uri": "https://localhost:8080/"
        },
        "outputId": "466a6591-8ff9-4875-a7b9-36b55a938f67"
      },
      "source": [
        "model = DistilBertForSequenceClassification.from_pretrained('distilbert-base-uncased', num_labels=2)\n",
        "model.train()"
      ],
      "execution_count": 108,
      "outputs": [
        {
          "output_type": "stream",
          "text": [
            "Some weights of the model checkpoint at distilbert-base-uncased were not used when initializing DistilBertForSequenceClassification: ['vocab_transform.weight', 'vocab_transform.bias', 'vocab_layer_norm.weight', 'vocab_layer_norm.bias', 'vocab_projector.weight', 'vocab_projector.bias']\n",
            "- This IS expected if you are initializing DistilBertForSequenceClassification from the checkpoint of a model trained on another task or with another architecture (e.g. initializing a BertForSequenceClassification model from a BertForPreTraining model).\n",
            "- This IS NOT expected if you are initializing DistilBertForSequenceClassification from the checkpoint of a model that you expect to be exactly identical (initializing a BertForSequenceClassification model from a BertForSequenceClassification model).\n",
            "Some weights of DistilBertForSequenceClassification were not initialized from the model checkpoint at distilbert-base-uncased and are newly initialized: ['pre_classifier.weight', 'pre_classifier.bias', 'classifier.weight', 'classifier.bias']\n",
            "You should probably TRAIN this model on a down-stream task to be able to use it for predictions and inference.\n"
          ],
          "name": "stderr"
        },
        {
          "output_type": "execute_result",
          "data": {
            "text/plain": [
              "DistilBertForSequenceClassification(\n",
              "  (distilbert): DistilBertModel(\n",
              "    (embeddings): Embeddings(\n",
              "      (word_embeddings): Embedding(30522, 768, padding_idx=0)\n",
              "      (position_embeddings): Embedding(512, 768)\n",
              "      (LayerNorm): LayerNorm((768,), eps=1e-12, elementwise_affine=True)\n",
              "      (dropout): Dropout(p=0.1, inplace=False)\n",
              "    )\n",
              "    (transformer): Transformer(\n",
              "      (layer): ModuleList(\n",
              "        (0): TransformerBlock(\n",
              "          (attention): MultiHeadSelfAttention(\n",
              "            (dropout): Dropout(p=0.1, inplace=False)\n",
              "            (q_lin): Linear(in_features=768, out_features=768, bias=True)\n",
              "            (k_lin): Linear(in_features=768, out_features=768, bias=True)\n",
              "            (v_lin): Linear(in_features=768, out_features=768, bias=True)\n",
              "            (out_lin): Linear(in_features=768, out_features=768, bias=True)\n",
              "          )\n",
              "          (sa_layer_norm): LayerNorm((768,), eps=1e-12, elementwise_affine=True)\n",
              "          (ffn): FFN(\n",
              "            (dropout): Dropout(p=0.1, inplace=False)\n",
              "            (lin1): Linear(in_features=768, out_features=3072, bias=True)\n",
              "            (lin2): Linear(in_features=3072, out_features=768, bias=True)\n",
              "          )\n",
              "          (output_layer_norm): LayerNorm((768,), eps=1e-12, elementwise_affine=True)\n",
              "        )\n",
              "        (1): TransformerBlock(\n",
              "          (attention): MultiHeadSelfAttention(\n",
              "            (dropout): Dropout(p=0.1, inplace=False)\n",
              "            (q_lin): Linear(in_features=768, out_features=768, bias=True)\n",
              "            (k_lin): Linear(in_features=768, out_features=768, bias=True)\n",
              "            (v_lin): Linear(in_features=768, out_features=768, bias=True)\n",
              "            (out_lin): Linear(in_features=768, out_features=768, bias=True)\n",
              "          )\n",
              "          (sa_layer_norm): LayerNorm((768,), eps=1e-12, elementwise_affine=True)\n",
              "          (ffn): FFN(\n",
              "            (dropout): Dropout(p=0.1, inplace=False)\n",
              "            (lin1): Linear(in_features=768, out_features=3072, bias=True)\n",
              "            (lin2): Linear(in_features=3072, out_features=768, bias=True)\n",
              "          )\n",
              "          (output_layer_norm): LayerNorm((768,), eps=1e-12, elementwise_affine=True)\n",
              "        )\n",
              "        (2): TransformerBlock(\n",
              "          (attention): MultiHeadSelfAttention(\n",
              "            (dropout): Dropout(p=0.1, inplace=False)\n",
              "            (q_lin): Linear(in_features=768, out_features=768, bias=True)\n",
              "            (k_lin): Linear(in_features=768, out_features=768, bias=True)\n",
              "            (v_lin): Linear(in_features=768, out_features=768, bias=True)\n",
              "            (out_lin): Linear(in_features=768, out_features=768, bias=True)\n",
              "          )\n",
              "          (sa_layer_norm): LayerNorm((768,), eps=1e-12, elementwise_affine=True)\n",
              "          (ffn): FFN(\n",
              "            (dropout): Dropout(p=0.1, inplace=False)\n",
              "            (lin1): Linear(in_features=768, out_features=3072, bias=True)\n",
              "            (lin2): Linear(in_features=3072, out_features=768, bias=True)\n",
              "          )\n",
              "          (output_layer_norm): LayerNorm((768,), eps=1e-12, elementwise_affine=True)\n",
              "        )\n",
              "        (3): TransformerBlock(\n",
              "          (attention): MultiHeadSelfAttention(\n",
              "            (dropout): Dropout(p=0.1, inplace=False)\n",
              "            (q_lin): Linear(in_features=768, out_features=768, bias=True)\n",
              "            (k_lin): Linear(in_features=768, out_features=768, bias=True)\n",
              "            (v_lin): Linear(in_features=768, out_features=768, bias=True)\n",
              "            (out_lin): Linear(in_features=768, out_features=768, bias=True)\n",
              "          )\n",
              "          (sa_layer_norm): LayerNorm((768,), eps=1e-12, elementwise_affine=True)\n",
              "          (ffn): FFN(\n",
              "            (dropout): Dropout(p=0.1, inplace=False)\n",
              "            (lin1): Linear(in_features=768, out_features=3072, bias=True)\n",
              "            (lin2): Linear(in_features=3072, out_features=768, bias=True)\n",
              "          )\n",
              "          (output_layer_norm): LayerNorm((768,), eps=1e-12, elementwise_affine=True)\n",
              "        )\n",
              "        (4): TransformerBlock(\n",
              "          (attention): MultiHeadSelfAttention(\n",
              "            (dropout): Dropout(p=0.1, inplace=False)\n",
              "            (q_lin): Linear(in_features=768, out_features=768, bias=True)\n",
              "            (k_lin): Linear(in_features=768, out_features=768, bias=True)\n",
              "            (v_lin): Linear(in_features=768, out_features=768, bias=True)\n",
              "            (out_lin): Linear(in_features=768, out_features=768, bias=True)\n",
              "          )\n",
              "          (sa_layer_norm): LayerNorm((768,), eps=1e-12, elementwise_affine=True)\n",
              "          (ffn): FFN(\n",
              "            (dropout): Dropout(p=0.1, inplace=False)\n",
              "            (lin1): Linear(in_features=768, out_features=3072, bias=True)\n",
              "            (lin2): Linear(in_features=3072, out_features=768, bias=True)\n",
              "          )\n",
              "          (output_layer_norm): LayerNorm((768,), eps=1e-12, elementwise_affine=True)\n",
              "        )\n",
              "        (5): TransformerBlock(\n",
              "          (attention): MultiHeadSelfAttention(\n",
              "            (dropout): Dropout(p=0.1, inplace=False)\n",
              "            (q_lin): Linear(in_features=768, out_features=768, bias=True)\n",
              "            (k_lin): Linear(in_features=768, out_features=768, bias=True)\n",
              "            (v_lin): Linear(in_features=768, out_features=768, bias=True)\n",
              "            (out_lin): Linear(in_features=768, out_features=768, bias=True)\n",
              "          )\n",
              "          (sa_layer_norm): LayerNorm((768,), eps=1e-12, elementwise_affine=True)\n",
              "          (ffn): FFN(\n",
              "            (dropout): Dropout(p=0.1, inplace=False)\n",
              "            (lin1): Linear(in_features=768, out_features=3072, bias=True)\n",
              "            (lin2): Linear(in_features=3072, out_features=768, bias=True)\n",
              "          )\n",
              "          (output_layer_norm): LayerNorm((768,), eps=1e-12, elementwise_affine=True)\n",
              "        )\n",
              "      )\n",
              "    )\n",
              "  )\n",
              "  (pre_classifier): Linear(in_features=768, out_features=768, bias=True)\n",
              "  (classifier): Linear(in_features=768, out_features=2, bias=True)\n",
              "  (dropout): Dropout(p=0.2, inplace=False)\n",
              ")"
            ]
          },
          "metadata": {
            "tags": []
          },
          "execution_count": 108
        }
      ]
    },
    {
      "cell_type": "code",
      "metadata": {
        "id": "IROh24iL0IGn"
      },
      "source": [
        "tokenizer = DistilBertTokenizer.from_pretrained('bert-base-uncased')\n",
        "input_ids = torch.tensor(embedding_distilbert)\n",
        "attention_mask = torch.tensor(attention_masks)\n",
        "labels = torch.tensor(y)\n",
        "data_size = len(labels)"
      ],
      "execution_count": 109,
      "outputs": []
    },
    {
      "cell_type": "code",
      "metadata": {
        "id": "fXmrCjXZB5Mq"
      },
      "source": [
        "batchsize = 8\n",
        "def get_batches(input_ids, attention_mask, labels, batch_size=batchsize):\n",
        "\n",
        "    tensor_dataset = torch.utils.data.TensorDataset(input_ids, attention_mask, labels)    \n",
        "    tensor_randomsampler = torch.utils.data.RandomSampler(tensor_dataset)    \n",
        "    tensor_dataloader = torch.utils.data.DataLoader(tensor_dataset, sampler=tensor_randomsampler, batch_size=batch_size)    \n",
        "    return tensor_dataloader"
      ],
      "execution_count": 110,
      "outputs": []
    },
    {
      "cell_type": "code",
      "metadata": {
        "id": "UVQnsSzhCxj4"
      },
      "source": [
        "batch_train = get_batches(input_ids, attention_mask, labels)"
      ],
      "execution_count": 111,
      "outputs": []
    },
    {
      "cell_type": "code",
      "metadata": {
        "id": "mtIDIrgLG9UP"
      },
      "source": [
        "#validation dataloader\n",
        "y_val = sentences_val[\"is_relevant\"]\n",
        "y_val = torch.tensor(y_val)#.to(device)\n",
        "input_ids_val = torch.tensor(embedding_distilbert_val)#.to(device)\n",
        "attention_mask_val = torch.tensor(attention_masks_val)#.to(device)\n",
        "\n",
        "batch_size = 8\n",
        "#test_dataset = TensorDataset(input_ids_val, attention_mask_val)\n",
        "#test_sampler = SequentialSampler(test_dataset)\n",
        "#test_dataloader = DataLoader(test_dataset, sampler=test_sampler, batch_size=8)\n",
        "\n",
        "val_data = TensorDataset(input_ids_val, attention_mask_val, y_val)\n",
        "val_sampler = SequentialSampler(val_data)\n",
        "val_dataloader = DataLoader(val_data, \n",
        "                            sampler=val_sampler, \n",
        "                            batch_size=batch_size,\n",
        "                            num_workers= 0)"
      ],
      "execution_count": 114,
      "outputs": []
    },
    {
      "cell_type": "code",
      "metadata": {
        "id": "egoSJWArGcKK"
      },
      "source": [
        "def eval_bert(model, validation_dataloader):\n",
        "    preds = torch.tensor([]).to(\"cpu\")\n",
        "    with torch.no_grad():\n",
        "        i = 0\n",
        "        for b_input_ids, b_input_mask, b_labels in validation_dataloader:\n",
        "            if i % 1000 == 0:\n",
        "                print(\"Batches validated:\", i)\n",
        "            i+=1\n",
        "            b_input_ids = b_input_ids.to(device)\n",
        "            b_input_mask = b_input_mask.to(device)\n",
        "            b_labels = b_labels.to(device)\n",
        "            model.eval()\n",
        "\n",
        "            output = model(b_input_ids, b_input_mask)\n",
        "            y_hat = output.logits.to(\"cpu\")\n",
        "            del b_input_ids, b_input_mask, b_labels, output\n",
        "\n",
        "            preds = torch.cat((preds, y_hat))\n",
        "            del y_hat\n",
        "            \n",
        "        #probs = F.softmax(all_logits, dim=1).cpu().numpy()\n",
        "    print(\"Validation done!\")\n",
        "    return preds"
      ],
      "execution_count": 127,
      "outputs": []
    },
    {
      "cell_type": "code",
      "metadata": {
        "id": "iEYR7EFsHqLv"
      },
      "source": [
        "from sklearn.metrics import confusion_matrix\n",
        "import seaborn as sns\n",
        "def evaluate_roc(probs, y_true):\n",
        "    \"\"\"\n",
        "    - Print AUC and accuracy on the test set\n",
        "    - Plot ROC\n",
        "    @params    probs (np.array): an array of predicted probabilities with shape (len(y_true), 2)\n",
        "    @params    y_true (np.array): an array of the true values with shape (len(y_true),)\n",
        "    \"\"\"\n",
        "    preds = probs[:, 1]\n",
        "    fpr, tpr, threshold = roc_curve(y_true, preds)\n",
        "    roc_auc = auc(fpr, tpr)\n",
        "    print(f'AUC: {roc_auc:.4f}')\n",
        "       \n",
        "    # Get accuracy over the test set\n",
        "    y_pred = np.where(preds >= 0.5, 1, 0)\n",
        "    accuracy = accuracy_score(y_true, y_pred)\n",
        "    print(f'Accuracy: {accuracy*100:.2f}%')\n",
        "    f1 = f1_score(y_true, y_pred)\n",
        "    print('F1 score:', f1)\n",
        "\n",
        "    cm=confusion_matrix(y_true,y_pred)\n",
        "    print(cm)\n",
        "    cm = pd.DataFrame(cm, index = [0,1], columns = [0,1])\n",
        "    sns.heatmap(cm, annot=True, fmt = '.0f')\n",
        "    plt.show()\n",
        "    # Plot ROC AUC\n",
        "    plt.title('Receiver Operating Characteristic')\n",
        "    plt.plot(fpr, tpr, 'b', label = 'AUC = %0.2f' % roc_auc)\n",
        "    plt.legend(loc = 'lower right')\n",
        "    plt.plot([0, 1], [0, 1],'r--')\n",
        "    plt.xlim([0, 1])\n",
        "    plt.ylim([0, 1])\n",
        "    plt.ylabel('True Positive Rate')\n",
        "    plt.xlabel('False Positive Rate')\n",
        "    plt.show()"
      ],
      "execution_count": 155,
      "outputs": []
    },
    {
      "cell_type": "code",
      "metadata": {
        "id": "nc0qbCOpDYMH"
      },
      "source": [
        "def train_model(batch, model, optimizer, scheduler, epochs, device, batchsize):    \n",
        "    model.train()  # Set the mode to training    \n",
        "    for e in range(epochs):\n",
        "        epochs_loss = []        \n",
        "        for i, batch_tuple in enumerate(batch):            \n",
        "            batch_tuple = (t.to(device) for t in batch_tuple)            \n",
        "            input_ids, attention_mask, labels = batch_tuple            \n",
        "            outputs = model(input_ids=input_ids, attention_mask=attention_mask, labels=labels)            \n",
        "            loss = outputs[0]\n",
        "            epochs_loss.append(loss.item())\n",
        "            logits = outputs[1]\n",
        "            hidden_states_output = outputs[2]\n",
        "            attention_mask_output = outputs[3]\n",
        "            steps = 1000\n",
        "            if i % steps == 0:\n",
        "                if i == 0:\n",
        "                    avg_loss = loss.item()\n",
        "                else:\n",
        "                    avg_loss = np.mean(epochs_loss[-steps:])\n",
        "                \n",
        "                depleted = round(100*i*batchsize/data_size, 2)\n",
        "                print(\"Avg. Train Loss: {0}, Step: {1}, depleted: {2}%\".format(round(avg_loss,3), i, depleted))            \n",
        "            \n",
        "            model.zero_grad()            \n",
        "            optimizer.zero_grad()         \n",
        "            loss.backward()            \n",
        "            torch.nn.utils.clip_grad_norm_(model.parameters(), parameters['max_grad_norm'])            \n",
        "            optimizer.step()            \n",
        "            scheduler.step()\n",
        "        \n",
        "        model.save_pretrained('/content/drive/MyDrive/cheers_challenge/round1/models/distilbert_under_epoch_'+str(e))"
      ],
      "execution_count": 156,
      "outputs": []
    },
    {
      "cell_type": "code",
      "metadata": {
        "id": "4P5ezlsAGoCX"
      },
      "source": [
        "def train_eval(batch, model, optimizer, scheduler, epochs, device, batchsize, validation_dataloader):    \n",
        "    for e in range(epochs):\n",
        "        model.train()\n",
        "        epochs_loss = []\n",
        "        print(\"Training: epoch\", e+1)        \n",
        "        for i, batch_tuple in enumerate(batch):            \n",
        "            batch_tuple = (t.to(device) for t in batch_tuple)            \n",
        "            input_ids, attention_mask, labels = batch_tuple            \n",
        "            outputs = model(input_ids=input_ids, attention_mask=attention_mask, labels=labels)            \n",
        "            loss = outputs[0]\n",
        "            epochs_loss.append(loss.item())\n",
        "            logits = outputs[1]\n",
        "            hidden_states_output = outputs[2]\n",
        "            attention_mask_output = outputs[3]\n",
        "            steps = 1000\n",
        "            if i % steps == 0:\n",
        "                if i == 0:\n",
        "                    avg_loss = loss.item()\n",
        "                else:\n",
        "                    avg_loss = np.mean(epochs_loss[-steps:])\n",
        "                \n",
        "                depleted = round(100*i*batchsize/data_size, 2)\n",
        "                print(\"Avg. Train Loss: {0}, Step: {1}, depleted: {2}%\".format(round(avg_loss,3), i, depleted))            \n",
        "            \n",
        "            model.zero_grad()            \n",
        "            optimizer.zero_grad()         \n",
        "            loss.backward()            \n",
        "            torch.nn.utils.clip_grad_norm_(model.parameters(), parameters['max_grad_norm'])            \n",
        "            optimizer.step()            \n",
        "            scheduler.step()\n",
        "        \n",
        "        #save model after epoch\n",
        "        model.save_pretrained('/content/drive/MyDrive/cheers_challenge/round1/models/distilbert_under_1_epoch_'+str(e))\n",
        "        print(\"Model distilbert_under_1_epoch_\"+str(e)+ \" saved!\")\n",
        "        print(\"\\n***************************************************\\n\")\n",
        "        print(\"Evaluation\")\n",
        "        #evaluate after epoch\n",
        "        probs = eval_bert(model, validation_dataloader)\n",
        "        print(\"\\n\")\n",
        "        softm_probs = F.softmax(probs).cpu().numpy()\n",
        "        evaluate_roc(softm_probs, y_val)\n",
        "        print(\"\\n---------------------------------------------------\\n\")"
      ],
      "execution_count": 157,
      "outputs": []
    },
    {
      "cell_type": "code",
      "metadata": {
        "id": "nObR2EaBEHRl",
        "colab": {
          "base_uri": "https://localhost:8080/"
        },
        "outputId": "8f3d1423-5b71-4f86-f4df-d1d826d906d1"
      },
      "source": [
        "epochs=3\n",
        "parameters = {\n",
        "    'learning_rate': 1e-5,\n",
        "    'num_warmup_steps': 1500,\n",
        "    'num_training_steps': len(batch_train) * epochs,\n",
        "    'max_grad_norm': 1\n",
        "    }\n",
        "\n",
        "model = DistilBertForSequenceClassification.from_pretrained('distilbert-base-uncased', \n",
        "                                                      num_labels=2, \n",
        "                                                      output_hidden_states=True, \n",
        "                                                      output_attentions=True)\n",
        "model.to(device)\n",
        "optimizer = transformers.AdamW(model.parameters(), lr=parameters['learning_rate'], correct_bias=False)\n",
        "scheduler = transformers.get_linear_schedule_with_warmup(optimizer,\n",
        "                                                         num_warmup_steps=parameters['num_warmup_steps'],\n",
        "                                                         num_training_steps=parameters['num_training_steps'])"
      ],
      "execution_count": 158,
      "outputs": [
        {
          "output_type": "stream",
          "text": [
            "Some weights of the model checkpoint at distilbert-base-uncased were not used when initializing DistilBertForSequenceClassification: ['vocab_transform.weight', 'vocab_transform.bias', 'vocab_layer_norm.weight', 'vocab_layer_norm.bias', 'vocab_projector.weight', 'vocab_projector.bias']\n",
            "- This IS expected if you are initializing DistilBertForSequenceClassification from the checkpoint of a model trained on another task or with another architecture (e.g. initializing a BertForSequenceClassification model from a BertForPreTraining model).\n",
            "- This IS NOT expected if you are initializing DistilBertForSequenceClassification from the checkpoint of a model that you expect to be exactly identical (initializing a BertForSequenceClassification model from a BertForSequenceClassification model).\n",
            "Some weights of DistilBertForSequenceClassification were not initialized from the model checkpoint at distilbert-base-uncased and are newly initialized: ['pre_classifier.weight', 'pre_classifier.bias', 'classifier.weight', 'classifier.bias']\n",
            "You should probably TRAIN this model on a down-stream task to be able to use it for predictions and inference.\n"
          ],
          "name": "stderr"
        }
      ]
    },
    {
      "cell_type": "code",
      "metadata": {
        "id": "qkYBxpPcEY_G",
        "colab": {
          "base_uri": "https://localhost:8080/",
          "height": 1000
        },
        "outputId": "3f4c0f8a-1a4f-4145-d3aa-52a70825a29d"
      },
      "source": [
        "train_eval(batch_train, model, optimizer, scheduler, epochs, device, batchsize, val_dataloader)"
      ],
      "execution_count": 159,
      "outputs": [
        {
          "output_type": "stream",
          "text": [
            "Training: epoch 1\n",
            "Avg. Train Loss: 0.714, Step: 0, depleted: 0.0%\n",
            "Avg. Train Loss: 0.572, Step: 1000, depleted: 9.55%\n",
            "Avg. Train Loss: 0.481, Step: 2000, depleted: 19.1%\n",
            "Avg. Train Loss: 0.474, Step: 3000, depleted: 28.64%\n",
            "Avg. Train Loss: 0.456, Step: 4000, depleted: 38.19%\n",
            "Avg. Train Loss: 0.443, Step: 5000, depleted: 47.74%\n",
            "Avg. Train Loss: 0.445, Step: 6000, depleted: 57.29%\n",
            "Avg. Train Loss: 0.429, Step: 7000, depleted: 66.83%\n",
            "Avg. Train Loss: 0.431, Step: 8000, depleted: 76.38%\n",
            "Avg. Train Loss: 0.432, Step: 9000, depleted: 85.93%\n",
            "Avg. Train Loss: 0.421, Step: 10000, depleted: 95.48%\n",
            "Model distilbert_under_1_epoch_0 saved!\n",
            "\n",
            "***************************************************\n",
            "\n",
            "Evaluation\n",
            "Batches validated: 0\n",
            "Batches validated: 1000\n",
            "Batches validated: 2000\n",
            "Batches validated: 3000\n",
            "Batches validated: 4000\n",
            "Validation done!\n",
            "\n",
            "\n",
            "AUC: 0.8551\n",
            "Accuracy: 77.26%\n",
            "F1 score: 0.4768458248093733\n",
            "[[24824  7358]\n",
            " [ 1081  3846]]\n"
          ],
          "name": "stdout"
        },
        {
          "output_type": "stream",
          "text": [
            "/usr/local/lib/python3.7/dist-packages/ipykernel_launcher.py:40: UserWarning: Implicit dimension choice for softmax has been deprecated. Change the call to include dim=X as an argument.\n"
          ],
          "name": "stderr"
        },
        {
          "output_type": "display_data",
          "data": {
            "image/png": "[encoded data removed]",
            "text/plain": [
              "<Figure size 432x288 with 2 Axes>"
            ]
          },
          "metadata": {
            "tags": [],
            "needs_background": "light"
          }
        },
        {
          "output_type": "display_data",
          "data": {
            "image/png": "[encoded data removed]",
            "text/plain": [
              "<Figure size 432x288 with 1 Axes>"
            ]
          },
          "metadata": {
            "tags": [],
            "needs_background": "light"
          }
        },
        {
          "output_type": "stream",
          "text": [
            "\n",
            "---------------------------------------------------\n",
            "\n",
            "Training: epoch 2\n",
            "Avg. Train Loss: 0.59, Step: 0, depleted: 0.0%\n",
            "Avg. Train Loss: 0.368, Step: 1000, depleted: 9.55%\n",
            "Avg. Train Loss: 0.374, Step: 2000, depleted: 19.1%\n",
            "Avg. Train Loss: 0.369, Step: 3000, depleted: 28.64%\n",
            "Avg. Train Loss: 0.365, Step: 4000, depleted: 38.19%\n",
            "Avg. Train Loss: 0.37, Step: 5000, depleted: 47.74%\n",
            "Avg. Train Loss: 0.367, Step: 6000, depleted: 57.29%\n",
            "Avg. Train Loss: 0.368, Step: 7000, depleted: 66.83%\n",
            "Avg. Train Loss: 0.363, Step: 8000, depleted: 76.38%\n",
            "Avg. Train Loss: 0.356, Step: 9000, depleted: 85.93%\n",
            "Avg. Train Loss: 0.36, Step: 10000, depleted: 95.48%\n",
            "Model distilbert_under_1_epoch_1 saved!\n",
            "\n",
            "***************************************************\n",
            "\n",
            "Evaluation\n",
            "Batches validated: 0\n",
            "Batches validated: 1000\n",
            "Batches validated: 2000\n",
            "Batches validated: 3000\n",
            "Batches validated: 4000\n",
            "Validation done!\n",
            "\n",
            "\n",
            "AUC: 0.8566\n",
            "Accuracy: 80.55%\n",
            "F1 score: 0.49386352479135986\n",
            "[[26371  5811]\n",
            " [ 1406  3521]]\n"
          ],
          "name": "stdout"
        },
        {
          "output_type": "stream",
          "text": [
            "/usr/local/lib/python3.7/dist-packages/ipykernel_launcher.py:40: UserWarning: Implicit dimension choice for softmax has been deprecated. Change the call to include dim=X as an argument.\n"
          ],
          "name": "stderr"
        },
        {
          "output_type": "display_data",
          "data": {
            "image/png": "[encoded data removed]",
            "text/plain": [
              "<Figure size 432x288 with 2 Axes>"
            ]
          },
          "metadata": {
            "tags": [],
            "needs_background": "light"
          }
        },
        {
          "output_type": "display_data",
          "data": {
            "image/png": "[encoded data removed]",
            "text/plain": [
              "<Figure size 432x288 with 1 Axes>"
            ]
          },
          "metadata": {
            "tags": [],
            "needs_background": "light"
          }
        },
        {
          "output_type": "stream",
          "text": [
            "\n",
            "---------------------------------------------------\n",
            "\n",
            "Training: epoch 3\n",
            "Avg. Train Loss: 0.102, Step: 0, depleted: 0.0%\n",
            "Avg. Train Loss: 0.298, Step: 1000, depleted: 9.55%\n",
            "Avg. Train Loss: 0.304, Step: 2000, depleted: 19.1%\n",
            "Avg. Train Loss: 0.31, Step: 3000, depleted: 28.64%\n",
            "Avg. Train Loss: 0.301, Step: 4000, depleted: 38.19%\n",
            "Avg. Train Loss: 0.321, Step: 5000, depleted: 47.74%\n",
            "Avg. Train Loss: 0.301, Step: 6000, depleted: 57.29%\n",
            "Avg. Train Loss: 0.311, Step: 7000, depleted: 66.83%\n",
            "Avg. Train Loss: 0.319, Step: 8000, depleted: 76.38%\n",
            "Avg. Train Loss: 0.312, Step: 9000, depleted: 85.93%\n",
            "Avg. Train Loss: 0.312, Step: 10000, depleted: 95.48%\n",
            "Model distilbert_under_1_epoch_2 saved!\n",
            "\n",
            "***************************************************\n",
            "\n",
            "Evaluation\n",
            "Batches validated: 0\n",
            "Batches validated: 1000\n",
            "Batches validated: 2000\n",
            "Batches validated: 3000\n",
            "Batches validated: 4000\n",
            "Validation done!\n",
            "\n",
            "\n",
            "AUC: 0.8483\n",
            "Accuracy: 80.03%\n",
            "F1 score: 0.4875553097345132\n",
            "[[26171  6011]\n",
            " [ 1401  3526]]\n"
          ],
          "name": "stdout"
        },
        {
          "output_type": "stream",
          "text": [
            "/usr/local/lib/python3.7/dist-packages/ipykernel_launcher.py:40: UserWarning: Implicit dimension choice for softmax has been deprecated. Change the call to include dim=X as an argument.\n"
          ],
          "name": "stderr"
        },
        {
          "output_type": "display_data",
          "data": {
            "image/png": "[encoded data removed]",
            "text/plain": [
              "<Figure size 432x288 with 2 Axes>"
            ]
          },
          "metadata": {
            "tags": [],
            "needs_background": "light"
          }
        },
        {
          "output_type": "display_data",
          "data": {
            "image/png": "[encoded data removed]",
            "text/plain": [
              "<Figure size 432x288 with 1 Axes>"
            ]
          },
          "metadata": {
            "tags": [],
            "needs_background": "light"
          }
        },
        {
          "output_type": "stream",
          "text": [
            "\n",
            "---------------------------------------------------\n",
            "\n",
            "Training: epoch 4\n",
            "Avg. Train Loss: 0.121, Step: 0, depleted: 0.0%\n",
            "Avg. Train Loss: 0.244, Step: 1000, depleted: 9.55%\n",
            "Avg. Train Loss: 0.26, Step: 2000, depleted: 19.1%\n",
            "Avg. Train Loss: 0.267, Step: 3000, depleted: 28.64%\n",
            "Avg. Train Loss: 0.265, Step: 4000, depleted: 38.19%\n",
            "Avg. Train Loss: 0.267, Step: 5000, depleted: 47.74%\n",
            "Avg. Train Loss: 0.264, Step: 6000, depleted: 57.29%\n",
            "Avg. Train Loss: 0.27, Step: 7000, depleted: 66.83%\n",
            "Avg. Train Loss: 0.273, Step: 8000, depleted: 76.38%\n",
            "Avg. Train Loss: 0.263, Step: 9000, depleted: 85.93%\n",
            "Avg. Train Loss: 0.271, Step: 10000, depleted: 95.48%\n",
            "Model distilbert_under_1_epoch_3 saved!\n",
            "\n",
            "***************************************************\n",
            "\n",
            "Evaluation\n",
            "Batches validated: 0\n",
            "Batches validated: 1000\n",
            "Batches validated: 2000\n",
            "Batches validated: 3000\n",
            "Batches validated: 4000\n",
            "Validation done!\n",
            "\n",
            "\n",
            "AUC: 0.8353\n",
            "Accuracy: 75.76%\n",
            "F1 score: 0.45836093213705065\n",
            "[[24308  7874]\n",
            " [ 1121  3806]]\n"
          ],
          "name": "stdout"
        },
        {
          "output_type": "stream",
          "text": [
            "/usr/local/lib/python3.7/dist-packages/ipykernel_launcher.py:40: UserWarning: Implicit dimension choice for softmax has been deprecated. Change the call to include dim=X as an argument.\n"
          ],
          "name": "stderr"
        },
        {
          "output_type": "display_data",
          "data": {
            "image/png": "[encoded data removed]",
            "text/plain": [
              "<Figure size 432x288 with 2 Axes>"
            ]
          },
          "metadata": {
            "tags": [],
            "needs_background": "light"
          }
        },
        {
          "output_type": "display_data",
          "data": {
            "image/png": "[encoded data removed]",
            "text/plain": [
              "<Figure size 432x288 with 1 Axes>"
            ]
          },
          "metadata": {
            "tags": [],
            "needs_background": "light"
          }
        },
        {
          "output_type": "stream",
          "text": [
            "\n",
            "---------------------------------------------------\n",
            "\n",
            "Training: epoch 5\n",
            "Avg. Train Loss: 0.007, Step: 0, depleted: 0.0%\n",
            "Avg. Train Loss: 0.221, Step: 1000, depleted: 9.55%\n",
            "Avg. Train Loss: 0.229, Step: 2000, depleted: 19.1%\n",
            "Avg. Train Loss: 0.237, Step: 3000, depleted: 28.64%\n",
            "Avg. Train Loss: 0.238, Step: 4000, depleted: 38.19%\n",
            "Avg. Train Loss: 0.226, Step: 5000, depleted: 47.74%\n",
            "Avg. Train Loss: 0.215, Step: 6000, depleted: 57.29%\n",
            "Avg. Train Loss: 0.226, Step: 7000, depleted: 66.83%\n",
            "Avg. Train Loss: 0.221, Step: 8000, depleted: 76.38%\n",
            "Avg. Train Loss: 0.233, Step: 9000, depleted: 85.93%\n",
            "Avg. Train Loss: 0.219, Step: 10000, depleted: 95.48%\n",
            "Model distilbert_under_1_epoch_4 saved!\n",
            "\n",
            "***************************************************\n",
            "\n",
            "Evaluation\n",
            "Batches validated: 0\n",
            "Batches validated: 1000\n",
            "Batches validated: 2000\n",
            "Batches validated: 3000\n",
            "Batches validated: 4000\n",
            "Validation done!\n",
            "\n",
            "\n",
            "AUC: 0.8293\n",
            "Accuracy: 76.99%\n",
            "F1 score: 0.4638955167650383\n",
            "[[24877  7305]\n",
            " [ 1233  3694]]\n"
          ],
          "name": "stdout"
        },
        {
          "output_type": "stream",
          "text": [
            "/usr/local/lib/python3.7/dist-packages/ipykernel_launcher.py:40: UserWarning: Implicit dimension choice for softmax has been deprecated. Change the call to include dim=X as an argument.\n"
          ],
          "name": "stderr"
        },
        {
          "output_type": "display_data",
          "data": {
            "image/png": "[encoded data removed]",
            "text/plain": [
              "<Figure size 432x288 with 2 Axes>"
            ]
          },
          "metadata": {
            "tags": [],
            "needs_background": "light"
          }
        },
        {
          "output_type": "display_data",
          "data": {
            "image/png": "[encoded data removed]",
            "text/plain": [
              "<Figure size 432x288 with 1 Axes>"
            ]
          },
          "metadata": {
            "tags": [],
            "needs_background": "light"
          }
        },
        {
          "output_type": "stream",
          "text": [
            "\n",
            "---------------------------------------------------\n",
            "\n"
          ],
          "name": "stdout"
        }
      ]
    },
    {
      "cell_type": "code",
      "metadata": {
        "id": "ByluEtz8vofv",
        "colab": {
          "base_uri": "https://localhost:8080/"
        },
        "outputId": "ac636327-7ebc-4753-9a84-0476fd7c3075"
      },
      "source": [
        "#In case you want to load the own trained BERT on the dataset:\n",
        "\n",
        "#model = DistilBertForSequenceClassification.from_pretrained('/content/drive/MyDrive/cheers_challenge/round1/models/distilbert_1')\n",
        "#model.to(device)"
      ],
      "execution_count": null,
      "outputs": [
        {
          "output_type": "execute_result",
          "data": {
            "text/plain": [
              "DistilBertForSequenceClassification(\n",
              "  (distilbert): DistilBertModel(\n",
              "    (embeddings): Embeddings(\n",
              "      (word_embeddings): Embedding(30522, 768, padding_idx=0)\n",
              "      (position_embeddings): Embedding(512, 768)\n",
              "      (LayerNorm): LayerNorm((768,), eps=1e-12, elementwise_affine=True)\n",
              "      (dropout): Dropout(p=0.1, inplace=False)\n",
              "    )\n",
              "    (transformer): Transformer(\n",
              "      (layer): ModuleList(\n",
              "        (0): TransformerBlock(\n",
              "          (attention): MultiHeadSelfAttention(\n",
              "            (dropout): Dropout(p=0.1, inplace=False)\n",
              "            (q_lin): Linear(in_features=768, out_features=768, bias=True)\n",
              "            (k_lin): Linear(in_features=768, out_features=768, bias=True)\n",
              "            (v_lin): Linear(in_features=768, out_features=768, bias=True)\n",
              "            (out_lin): Linear(in_features=768, out_features=768, bias=True)\n",
              "          )\n",
              "          (sa_layer_norm): LayerNorm((768,), eps=1e-12, elementwise_affine=True)\n",
              "          (ffn): FFN(\n",
              "            (dropout): Dropout(p=0.1, inplace=False)\n",
              "            (lin1): Linear(in_features=768, out_features=3072, bias=True)\n",
              "            (lin2): Linear(in_features=3072, out_features=768, bias=True)\n",
              "          )\n",
              "          (output_layer_norm): LayerNorm((768,), eps=1e-12, elementwise_affine=True)\n",
              "        )\n",
              "        (1): TransformerBlock(\n",
              "          (attention): MultiHeadSelfAttention(\n",
              "            (dropout): Dropout(p=0.1, inplace=False)\n",
              "            (q_lin): Linear(in_features=768, out_features=768, bias=True)\n",
              "            (k_lin): Linear(in_features=768, out_features=768, bias=True)\n",
              "            (v_lin): Linear(in_features=768, out_features=768, bias=True)\n",
              "            (out_lin): Linear(in_features=768, out_features=768, bias=True)\n",
              "          )\n",
              "          (sa_layer_norm): LayerNorm((768,), eps=1e-12, elementwise_affine=True)\n",
              "          (ffn): FFN(\n",
              "            (dropout): Dropout(p=0.1, inplace=False)\n",
              "            (lin1): Linear(in_features=768, out_features=3072, bias=True)\n",
              "            (lin2): Linear(in_features=3072, out_features=768, bias=True)\n",
              "          )\n",
              "          (output_layer_norm): LayerNorm((768,), eps=1e-12, elementwise_affine=True)\n",
              "        )\n",
              "        (2): TransformerBlock(\n",
              "          (attention): MultiHeadSelfAttention(\n",
              "            (dropout): Dropout(p=0.1, inplace=False)\n",
              "            (q_lin): Linear(in_features=768, out_features=768, bias=True)\n",
              "            (k_lin): Linear(in_features=768, out_features=768, bias=True)\n",
              "            (v_lin): Linear(in_features=768, out_features=768, bias=True)\n",
              "            (out_lin): Linear(in_features=768, out_features=768, bias=True)\n",
              "          )\n",
              "          (sa_layer_norm): LayerNorm((768,), eps=1e-12, elementwise_affine=True)\n",
              "          (ffn): FFN(\n",
              "            (dropout): Dropout(p=0.1, inplace=False)\n",
              "            (lin1): Linear(in_features=768, out_features=3072, bias=True)\n",
              "            (lin2): Linear(in_features=3072, out_features=768, bias=True)\n",
              "          )\n",
              "          (output_layer_norm): LayerNorm((768,), eps=1e-12, elementwise_affine=True)\n",
              "        )\n",
              "        (3): TransformerBlock(\n",
              "          (attention): MultiHeadSelfAttention(\n",
              "            (dropout): Dropout(p=0.1, inplace=False)\n",
              "            (q_lin): Linear(in_features=768, out_features=768, bias=True)\n",
              "            (k_lin): Linear(in_features=768, out_features=768, bias=True)\n",
              "            (v_lin): Linear(in_features=768, out_features=768, bias=True)\n",
              "            (out_lin): Linear(in_features=768, out_features=768, bias=True)\n",
              "          )\n",
              "          (sa_layer_norm): LayerNorm((768,), eps=1e-12, elementwise_affine=True)\n",
              "          (ffn): FFN(\n",
              "            (dropout): Dropout(p=0.1, inplace=False)\n",
              "            (lin1): Linear(in_features=768, out_features=3072, bias=True)\n",
              "            (lin2): Linear(in_features=3072, out_features=768, bias=True)\n",
              "          )\n",
              "          (output_layer_norm): LayerNorm((768,), eps=1e-12, elementwise_affine=True)\n",
              "        )\n",
              "        (4): TransformerBlock(\n",
              "          (attention): MultiHeadSelfAttention(\n",
              "            (dropout): Dropout(p=0.1, inplace=False)\n",
              "            (q_lin): Linear(in_features=768, out_features=768, bias=True)\n",
              "            (k_lin): Linear(in_features=768, out_features=768, bias=True)\n",
              "            (v_lin): Linear(in_features=768, out_features=768, bias=True)\n",
              "            (out_lin): Linear(in_features=768, out_features=768, bias=True)\n",
              "          )\n",
              "          (sa_layer_norm): LayerNorm((768,), eps=1e-12, elementwise_affine=True)\n",
              "          (ffn): FFN(\n",
              "            (dropout): Dropout(p=0.1, inplace=False)\n",
              "            (lin1): Linear(in_features=768, out_features=3072, bias=True)\n",
              "            (lin2): Linear(in_features=3072, out_features=768, bias=True)\n",
              "          )\n",
              "          (output_layer_norm): LayerNorm((768,), eps=1e-12, elementwise_affine=True)\n",
              "        )\n",
              "        (5): TransformerBlock(\n",
              "          (attention): MultiHeadSelfAttention(\n",
              "            (dropout): Dropout(p=0.1, inplace=False)\n",
              "            (q_lin): Linear(in_features=768, out_features=768, bias=True)\n",
              "            (k_lin): Linear(in_features=768, out_features=768, bias=True)\n",
              "            (v_lin): Linear(in_features=768, out_features=768, bias=True)\n",
              "            (out_lin): Linear(in_features=768, out_features=768, bias=True)\n",
              "          )\n",
              "          (sa_layer_norm): LayerNorm((768,), eps=1e-12, elementwise_affine=True)\n",
              "          (ffn): FFN(\n",
              "            (dropout): Dropout(p=0.1, inplace=False)\n",
              "            (lin1): Linear(in_features=768, out_features=3072, bias=True)\n",
              "            (lin2): Linear(in_features=3072, out_features=768, bias=True)\n",
              "          )\n",
              "          (output_layer_norm): LayerNorm((768,), eps=1e-12, elementwise_affine=True)\n",
              "        )\n",
              "      )\n",
              "    )\n",
              "  )\n",
              "  (pre_classifier): Linear(in_features=768, out_features=768, bias=True)\n",
              "  (classifier): Linear(in_features=768, out_features=2, bias=True)\n",
              "  (dropout): Dropout(p=0.2, inplace=False)\n",
              ")"
            ]
          },
          "metadata": {
            "tags": []
          },
          "execution_count": 8
        }
      ]
    },
    {
      "cell_type": "code",
      "metadata": {
        "id": "BrboLYBbipxA"
      },
      "source": [
        ""
      ],
      "execution_count": null,
      "outputs": []
    }
  ]
}