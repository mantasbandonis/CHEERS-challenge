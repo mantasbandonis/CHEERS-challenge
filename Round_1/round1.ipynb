{
  "cells": [
    {
      "cell_type": "code",
      "metadata": {
        "cell_id": "00000-dfc5163a-0da5-4b8e-8f1f-f55efeefe99a",
        "deepnote_to_be_reexecuted": false,
        "source_hash": "2c6f8d73",
        "execution_millis": 4,
        "execution_start": 1619187712571,
        "deepnote_cell_type": "code"
      },
      "source": "import pandas as pd\nimport matplotlib.pyplot as plt\nimport numpy as np",
      "execution_count": 66,
      "outputs": []
    },
    {
      "cell_type": "code",
      "metadata": {
        "cell_id": "00001-78bff357-c978-48c5-89d8-153406a65001",
        "deepnote_to_be_reexecuted": false,
        "source_hash": "8935307",
        "execution_start": 1619186697861,
        "execution_millis": 1710,
        "deepnote_cell_type": "code"
      },
      "source": "documents_train = pd.read_csv(\"data_round_1/documents_en_train.csv\")\nsentences_train = pd.read_csv(\"data_round_1/sentences_en_train.csv\")\n\ndocuments_val = pd.read_csv(\"data_round_1/documents_en_val.csv\")\nsentences_val = pd.read_csv(\"data_round_1/sentences_en_val.csv\")\n\ndocuments_test = pd.read_csv(\"data_round_1/documents_en_test.csv\")\nsentences_test = pd.read_csv(\"data_round_1/sentences_en_test.csv\")\n\n#immap_sector_name_to_id.json",
      "execution_count": 2,
      "outputs": []
    },
    {
      "cell_type": "markdown",
      "source": "## Investigate Document data",
      "metadata": {
        "cell_id": "00002-73f94c74-9fa2-40a4-8987-a811d3d14faf",
        "deepnote_cell_type": "markdown"
      }
    },
    {
      "cell_type": "code",
      "metadata": {
        "cell_id": "00003-ce0a154c-e309-41cd-b1ef-ed32bdbe8d1d",
        "deepnote_to_be_reexecuted": false,
        "source_hash": "d6d984e6",
        "execution_start": 1619186716077,
        "execution_millis": 11,
        "deepnote_cell_type": "code"
      },
      "source": "documents_train.head()",
      "execution_count": 4,
      "outputs": [
        {
          "output_type": "execute_result",
          "execution_count": 4,
          "data": {
            "application/vnd.deepnote.dataframe.v2+json": {
              "row_count": 5,
              "column_count": 6,
              "columns": [
                {
                  "name": "project_name",
                  "dtype": "object",
                  "stats": {
                    "unique_count": 3,
                    "nan_count": 0,
                    "categories": [
                      {
                        "name": "IMMAP/DFS Syria",
                        "count": 3
                      },
                      {
                        "name": "IMMAP/DFS Burkina Faso",
                        "count": 1
                      },
                      {
                        "name": "IMMAP/DFS Nigeria",
                        "count": 1
                      }
                    ]
                  }
                },
                {
                  "name": "country_code",
                  "dtype": "object",
                  "stats": {
                    "unique_count": 3,
                    "nan_count": 0,
                    "categories": [
                      {
                        "name": "SYR",
                        "count": 3
                      },
                      {
                        "name": "BFA",
                        "count": 1
                      },
                      {
                        "name": "NGA",
                        "count": 1
                      }
                    ]
                  }
                },
                {
                  "name": "lang_code",
                  "dtype": "object",
                  "stats": {
                    "unique_count": 1,
                    "nan_count": 0,
                    "categories": [
                      {
                        "name": "en",
                        "count": 5
                      }
                    ]
                  }
                },
                {
                  "name": "doc_id",
                  "dtype": "int64",
                  "stats": {
                    "unique_count": 5,
                    "nan_count": 0,
                    "min": "41032",
                    "max": "48582",
                    "histogram": [
                      {
                        "bin_start": 41032,
                        "bin_end": 41787,
                        "count": 2
                      },
                      {
                        "bin_start": 41787,
                        "bin_end": 42542,
                        "count": 1
                      },
                      {
                        "bin_start": 42542,
                        "bin_end": 43297,
                        "count": 0
                      },
                      {
                        "bin_start": 43297,
                        "bin_end": 44052,
                        "count": 1
                      },
                      {
                        "bin_start": 44052,
                        "bin_end": 44807,
                        "count": 0
                      },
                      {
                        "bin_start": 44807,
                        "bin_end": 45562,
                        "count": 0
                      },
                      {
                        "bin_start": 45562,
                        "bin_end": 46317,
                        "count": 0
                      },
                      {
                        "bin_start": 46317,
                        "bin_end": 47072,
                        "count": 0
                      },
                      {
                        "bin_start": 47072,
                        "bin_end": 47827,
                        "count": 0
                      },
                      {
                        "bin_start": 47827,
                        "bin_end": 48582,
                        "count": 1
                      }
                    ]
                  }
                },
                {
                  "name": "doc_text",
                  "dtype": "object",
                  "stats": {
                    "unique_count": 5,
                    "nan_count": 0,
                    "categories": [
                      {
                        "name": "This website uses cookies to improve your experience. We'll assume you're ok with this, but you can opt-out if you wish.Accept",
                        "count": 1
                      },
                      {
                        "name": "Please enable Cookies and reload the page.\n\nThis process is automatic. Your browser will redirect to your requested content shortly.\n\nPlease allow up to 5 seconds…",
                        "count": 1
                      },
                      {
                        "name": "3 others",
                        "count": 3
                      }
                    ]
                  }
                },
                {
                  "name": "doc_url",
                  "dtype": "object",
                  "stats": {
                    "unique_count": 5,
                    "nan_count": 0,
                    "categories": [
                      {
                        "name": "https://www.syriahr.com/en/203844/",
                        "count": 1
                      },
                      {
                        "name": "https://www.syriahr.com/en/187230/",
                        "count": 1
                      },
                      {
                        "name": "3 others",
                        "count": 3
                      }
                    ]
                  }
                },
                {
                  "name": "_deepnote_index_column",
                  "dtype": "int64"
                }
              ],
              "rows_top": [
                {
                  "project_name": "IMMAP/DFS Syria",
                  "country_code": "SYR",
                  "lang_code": "en",
                  "doc_id": 48582,
                  "doc_text": "This website uses cookies to improve your experience. We'll assume you're ok with this, but you can opt-out if you wish.Accept",
                  "doc_url": "https://www.syriahr.com/en/203844/",
                  "_deepnote_index_column": 0
                },
                {
                  "project_name": "IMMAP/DFS Syria",
                  "country_code": "SYR",
                  "lang_code": "en",
                  "doc_id": 41032,
                  "doc_text": "Please enable Cookies and reload the page.\n\nThis process is automatic. Your browser will redirect to your requested content shortly.\n\nPlease allow up to 5 seconds…",
                  "doc_url": "https://www.syriahr.com/en/187230/",
                  "_deepnote_index_column": 1
                },
                {
                  "project_name": "IMMAP/DFS Burkina Faso",
                  "country_code": "BFA",
                  "lang_code": "en",
                  "doc_id": 41306,
                  "doc_text": "When Burkina Faso’s government called for civilians to fight against the jihadists terrorising their communities, Amadoum Tamboura was stirred to act. But the weapons the politicians promised never arrived, leaving the 56-year-old defenceless as militants attacked his village.\n\n“We were told our mission was to protect our community. [But] you can’t use your bare hands,” said Tamboura, who fled along with hundreds of others and now lives in the northern town of Kongoussi.\n\nHundreds of civilians in towns and villages across extremist-hit parts of Burkina Faso have signed up to protect their communities and combat jihadist groups since a new law – known as the Volunteers for the Defence of the Homeland Act – passed through parliament in January.\n\nThe government, which wouldn’t provide a precise number of volunteers enrolled, had hoped the flagship initiative would bolster its demoralised army following waves of jihadist and inter-communal violence that have uprooted more than one million people – most since the beginning of last year.\n\nBut nine months into the programme, volunteers who were supposed to receive weapons and two weeks of training from the government told The New Humanitarian they were ill-equipped and often too afraid to fight the better-armed and battle-hardened militants.\n\nAnd several residents who live in areas where the vigilante groups operate accused the men of abusive behaviour – from stealing cattle to attacking those accused of collaborating with the jihadist militants. Many also worry they will be attacked by the jihadists, if they are suspected of supporting the volunteers.\n\nLast week, 25 displaced people travelling in a convoy back to their village were killed by extremists who cited the presence of volunteers in the area as a motive for the attack, according to several witnesses who spoke to TNH.\n\nWith presidential elections approaching next month, analysts and opposition candidates also warned that politicians may look to exploit the volunteer groups and other self-defence militias to increase their influence or undermine rivals.\n\n“This law was supposed to bring security and stability,” said Flore Berger, a Sahel researcher and analyst. “But volunteers are both perpetrators and victims of violence, and civilians are trapped between attacks from all sides.”\n\n\nThe plan to recruit volunteers was announced last November after37 civilians were killedin a jihadist attack on workers at a Canadian gold mining company in eastern Burkina Faso.\n\nAt the time, it was one of the deadliest attacks yet by jihadists, who began an insurgency in Burkina Faso’s arid north in 2016 and have since spread to the east and west, cutting off large parts of the country.\n\nGovernment officials in Kongoussi said the volunteers have successfully prevented the extremists from attacking larger towns, and also credited them with helping to escort residents on risky roads, bringing them to their farms during the ongoing rainy season.\n\nRead more →Conflict and coronavirus spark a hunger crisis in Burkina Faso\n\nBut the programme was rolled out in a rush, according to Heni Nsaibia, a researcher at the Armed Conflict Location and Event Data Project, or ACLED. He described it as “a low-cost… dubious alternative” to strengthening the army.\n\nIn Kongoussi – one of several northern and eastern towns where THN met volunteer groups – Tamboura and his band of seven other vigilantes said they were struggling to put up much resistance to the jihadists.\n\n“How can the government think I have money to buy a rifle?”\n\nSoldiers taught the men how to load guns, dig ditches, and protect themselves during clashes in a week of training. But the group had to bring their own rifles to the course, and subsequent promises of weapons never materialised.\n\nThe only arms the group currently has in its arsenal are two hunting rifles – one held together with sticky tape – a homemade wooden shotgun that takes a long time to load, and a three-inch table knife.\n\n“How can the government think I have money to buy a rifle?” said Abdoulaye, a member of Tamboura’s group who asked for his surname to be withheld. “I’m turning to them to protect me and my community.”\n\nThe lack of training has left these volunteer groups vulnerable and exposed to jihadists. At least 40 attacks have been directed against them – including one on a vigilante headquarters in the north of the country – since February, according to ACLED.\n\nIn the eastern town of Natiaboani, three out of 20 volunteers have been killed this year, according to a local resident who asked not to be named. The resident said one man was targeted in his home immediately after enrolling.\n\nThe risk of jihadists collectively punishing communities where recruits assemble was thrown into sharp focus by last week’s attack on the convoy of displaced people, who were returning home after a year and a half absence.\n\nWitnesses told TNH that men were separated from women and children, and then dragged away. “They told us that our husbands were trying to kill them,” said Wendpengda Ouedraogo, who was amongthe 21 women and children releasedby the jihadists.\n\nAccording to ACLED data, more than half of the 19 attacks launched by volunteers since February have been against civilians – all from the country’s Fulani community, which is often accused of collaborating with the jihadists.\n\nAnalysts said these attacks – which have left dozens of Fulani dead – have worsened ethnic tensions between the cattle herding community and other non-Fulani groups whose members have enrolled as volunteers.\n\nRead more →Burkina Faso, part 2: Communities buckle as conflict ripples through the Sahel\n\nA 59-year-old from a village called Sam – 15 kilometres from Kongoussi – said volunteers lined four Fulani civilians up against a wall in February and shot them – killing two and injuring the others.\n\nThe volunteers then warned non-Fulani community members they would suffer the same fate if they visited Fulani towns, according to the 59-year-old, who did not witness the incident but said he spoke to one of the injured men afterwards.\n\n“Fulani populations are systematically taken out of vehicles, checked, humiliated, tortured and sometimes killed for their ethnic appearance by the defence volunteers,” read a statement last week from the Collective Against Impunity and the Stigmatisation of Communities, a local rights group that campaigns against the abuse of Fulani.\n\nOther community members – not just Fulani – say volunteers have stolen property and threatened them for no clear reason. A 65-year-old man, also from Sam, said a group demanded to search his house in February because they had seen men arrive on motorbikes the previous night and suspected they were jihadists.\n\n“I was displaced initially by terrorists, but now I can’t go back because of volunteers.”\n\nThe 65-year-old said he explained that the men were his sons, but the volunteers told him he would suffer consequences if they saw anything suspicious again. “They didn’t directly say, ‘we’ll kill you’, but they said they don’t pity people or make exceptions for people they know,” the man said.\n\nThough a jihadist attack in Sam forced the 65-year-old to flee to Kongoussi shorlty after the incident, he said volunteers are the main reason he hasn’t returned. Other Sam residents agreed: “I was displaced initially by terrorists, but now I can’t go back because of volunteers,” said one.\n\nWhile the volunteer law stipulates that vigilantes should sit morality tests, and community members were told they would have a say in who gets chosen, Tamboura told TNH that he hand-picked his nine men because they were the bravest.\n\nOther volunteers said members were nominated by community leaders, or chosen because they said they had mystical powers that help them fight. “Terrorists know that strong traditional customs in these villages are hard to defeat,” said one volunteer, who asked not to be named.\n\nThe volunteers are not the only vigilantes operating in Burkina Faso: A local defence militia called the Koglweogo has tens of thousands of members who primarily fight crime but often get dragged into scraps with jihadists.\n\n\nArecent reportfrom the Clingendael Institute, a think tank in The Hague, stated that politicians may be tempted to use these groups to secure electoral gains, particularly if the November polls are tightly contested and the result indecisive.\n\n“In fragile settings like Burkina Faso, these groups are not immune from partisan politics and can easily morph into uncontrollable militias,” the report stated.\n\nOpposition figures suggested the volunteers might favour the ruling party should they be approached, but those interviewed by TNH said they hadn’t spoken to politicians about the elections yet.\n\n“The country’s leaders will pay the volunteers to vote for them and to round up others to vote as well,” said Boukary Kaboré, a prominent politician who is hoping to run for the presidency but struggling to get on the electoral list.\n\nRights groups also fear that government officials may choose to outsource even more work to the volunteers as the country’s security forces come underincreasedscrutinyfor alleged abuses committed during counter-terrorism operations.\n\n“We worry that the voluntary forces will end up acting as an unaccountable subcontracting proxy for the state and do the dirty work in their place,\" said Jonathan Pedneault, a researcher at Human Rights Watch.\n\nFamily members of volunteers called for more support from the government for their loved ones: “The situation isn’t fair,” said Adama Sayoré, whose 25-year-old son had never held a gun before joining the programme. “He can’t fight against terrorists.”\n\nsm/pk/ag",
                  "doc_url": "https://www.thenewhumanitarian.org/news-feature/2020/10/12/Burkina-Faso-conflict-jihadist-vigilante-volunteer-fighters",
                  "_deepnote_index_column": 2
                },
                {
                  "project_name": "IMMAP/DFS Syria",
                  "country_code": "SYR",
                  "lang_code": "en",
                  "doc_id": 43779,
                  "doc_text": "DAMASCUS – The United Nations World Food Programme (WFP) welcomes a donation of €2 million from the European Union (EU) for monthly food assistance for Syrian families facing unprecedented levels of hunger.\n\nThe donation will help Syrians across the country, but particularly those in the northwest hardest hit by conflict, displacement, soaring food prices and COVID-19. Families will get a monthly nutritious food basket at a time when parents are struggling to afford basic food items.\n\n“After almost 10 years of relentless war and shelling, many Syrians have exhausted all their resources and need our support more than ever. The European Union is committed to continue providing humanitarian aid and food assistance for as long as the man-made crisis in Syria causes intolerable human suffering,” said European Commissioner for Crisis Management Janez Lenarčič.\n\nA record 9.3 million Syrians are food insecure and an additional 2.2 million are at risk across the country. Families are facing multiple shocks compounded by COVID-19, including food prices that are now the highest ever recorded. Basic food items are 2.5 times more expensive than they were last year and highly vulnerable families are increasingly dependent on food from WFP to survive.\n\n“Syrian families have nothing left and the needs have never been greater,” said WFP Representative and Country Director in Syria Corinne Fleischer. “WFP is grateful for the EU’s support, and this funding will help us reach some of the country’s most vulnerable people who risk slipping further into hunger and poverty after more than nine years of conflict.”\n\nThe EU is a close partner and a significant donor to WFP’s operations in Syria. Since 2012, it has contributed over €190 million to WFP’s lifesaving work in the country. Thanks to continuous funding from donors like the EU, WFP provides 4.8 million Syrians each month with food, nutrition support, school meals and snacks as well as assistance designed to help them rebuild their livelihoods.\n\nContact\n\nFor more information please contact (email address: firstname.lastname@wfp.org):\n\nAbeer Etefa, WFP/ Cairo,\n\nMob. +2010 6663 4352\n\nJessica Lawson, WFP/ Syria,\n\nTel. +963 965 077 834\n\nAneta Szczyglowska WFP/ Brussels,\n\nMob. +32 491395420",
                  "doc_url": "https://reliefweb.int/report/syrian-arab-republic/european-union-provides-support-wfp-syrians-face-unprecedented-food",
                  "_deepnote_index_column": 3
                },
                {
                  "project_name": "IMMAP/DFS Nigeria",
                  "country_code": "NGA",
                  "lang_code": "en",
                  "doc_id": 42212,
                  "doc_text": "Overview The continuation of conflict in Northeast Nigeria has created a complex humanitarian crisis, rendering sections of Borno and Adamawa states as hard to reach. To address information gaps facing the humanitarian response in Northeast Nigeria and inform humanitarian actors on the demographics of households in hard-to-reach areas of Northeast Nigeria, as well as to identify their needs, access to services and movement intentions, REACH has been conducting a monthly assessment of hard-to- reach areas in Northeast Nigeria since November 2018. Using its Area of Knowledge (AoK) methodology, REACH remotely monitors the situation in hard-to-\n\nreach areas through monthly multi-sector interviews in accessible Local Government Area (LGA) capitals with key informants (KIs) who either (1) are newly arrived internally displaced persons (IDPs) who have left a hard-to-reach settlement in the last 3 months or (2) KIs who have had contact with someone living or having been in a hard-to-reach settlement in the last month (traders, migrants, family members, etc.)1 If not stated otherwise, the recall period for each question is set to one month prior to the last information the KI has had from the hard-to-reach area. Selected KIs are purposively sampled and are interviewed on settlement-wide circumstances in hard-to-reach areas, rather than their individual \n\nexperiences. Responses from KIs reporting on the same settlement are then aggregated to the settlement level. The most common response provided by the greatest number of KIs is reported for each settlement. When no most common response could be identified, the response is considered as ‘no consensus’. While included in the calculations, the percentage of settlements for which no consensus was reached is not displayed in the results below. Results presented in this factsheet, unless otherwise specified, represent the proportion of settlements assessed within an LGA. Findings are only reported on LGAs where at least 5% of populated settlements and at least 5 settlements in the respective LGA \n\nhave been assessed. The findings presented are indicative of broader trends in assessed settlements in September 2020, and are not statistically generalisable.2 Due to precautions related to the COVID-19 outbreak, data was collected remotely through phone based interviews with assistance from local stakeholders. Data collection took place from September 1st to September 30th. Assessment Coverage 588 Key informants interviewed 389 Settlements assessed 23 LGAs assessed 11 LGAs with sufficient coverage3\n\nAssessment coverage Proportion of settlements assessed: Proportion of settlements assessed:\n\n\nAccess to health services Proportion of assessed settlements where it was reported that Proportion of assessed settlements where it was reported that there was a functional health service that the population could there was a functional health service that the population could reach and return from in one day: reach and return from in one day:\n\nMost commonly reported main health problem, by % of assessed settlements: \n\nMost commonly reported main barriers to accessing health care, by % of assessed settlements where barriers were reported:\n\n1 Where possible, only KIs that have arrived recently (0-3 weeks prior to data collection) were interviewed. 2Due to changes in migration patterns, the specific settlements assessed within each LGA vary each month. Changes in results reported in this factsheet, compared to previous factsheets, may therefore be due to variations in the assessed settlements instead of changes over time. 3 The most recent version of the VTS dataset (released in February 2019 on vts.eocng.org) has been used as the reference for settlement names and locations, and adjusted to account for deserted villages based on information shared by OCHA. \n\nNigerChadAdamawaBornoGombeYobeState boundaryLGA boundaryUnder 5% or lessthan 5 settlements5 - 10%11 - 20%21 - 50%51 - 100%Assessed SettlementCameroonMadagaliMichikaAbadamAskira/UbaBamaChibokDamboaDikwaGubioGuzamalaGwozaJereKala/BalgeKondugaKukawaMafaMarteMongunoNgalaNganzai05010025kmLGA boundary0%1 - 20%21 - 40%41 - 60%61 - 80%81 - 100%Assessed SettlementAdamawa and Borno - HealthAssessment of Hard-to-Reach Areas in Northeast Nigeria September 2020For more information on this factsheet please contact:REACHreach.nigeria@reach-initiative.orgREACHInformingmore effectivehumanitarian action",
                  "doc_url": "https://reliefweb.int/sites/reliefweb.int/files/resources/REACH_NGA_Factsheet_Borno_STM_H2R_Health_0.pdf",
                  "_deepnote_index_column": 4
                }
              ],
              "rows_bottom": null
            },
            "text/plain": "             project_name country_code lang_code  doc_id  \\\n0         IMMAP/DFS Syria          SYR        en   48582   \n1         IMMAP/DFS Syria          SYR        en   41032   \n2  IMMAP/DFS Burkina Faso          BFA        en   41306   \n3         IMMAP/DFS Syria          SYR        en   43779   \n4       IMMAP/DFS Nigeria          NGA        en   42212   \n\n                                            doc_text  \\\n0  This website uses cookies to improve your expe...   \n1  Please enable Cookies and reload the page.\\n\\n...   \n2  When Burkina Faso’s government called for civi...   \n3  DAMASCUS – The United Nations World Food Progr...   \n4  Overview The continuation of conflict in North...   \n\n                                             doc_url  \n0                 https://www.syriahr.com/en/203844/  \n1                 https://www.syriahr.com/en/187230/  \n2  https://www.thenewhumanitarian.org/news-featur...  \n3  https://reliefweb.int/report/syrian-arab-repub...  \n4  https://reliefweb.int/sites/reliefweb.int/file...  ",
            "text/html": "<div>\n<style scoped>\n    .dataframe tbody tr th:only-of-type {\n        vertical-align: middle;\n    }\n\n    .dataframe tbody tr th {\n        vertical-align: top;\n    }\n\n    .dataframe thead th {\n        text-align: right;\n    }\n</style>\n<table border=\"1\" class=\"dataframe\">\n  <thead>\n    <tr style=\"text-align: right;\">\n      <th></th>\n      <th>project_name</th>\n      <th>country_code</th>\n      <th>lang_code</th>\n      <th>doc_id</th>\n      <th>doc_text</th>\n      <th>doc_url</th>\n    </tr>\n  </thead>\n  <tbody>\n    <tr>\n      <th>0</th>\n      <td>IMMAP/DFS Syria</td>\n      <td>SYR</td>\n      <td>en</td>\n      <td>48582</td>\n      <td>This website uses cookies to improve your expe...</td>\n      <td>https://www.syriahr.com/en/203844/</td>\n    </tr>\n    <tr>\n      <th>1</th>\n      <td>IMMAP/DFS Syria</td>\n      <td>SYR</td>\n      <td>en</td>\n      <td>41032</td>\n      <td>Please enable Cookies and reload the page.\\n\\n...</td>\n      <td>https://www.syriahr.com/en/187230/</td>\n    </tr>\n    <tr>\n      <th>2</th>\n      <td>IMMAP/DFS Burkina Faso</td>\n      <td>BFA</td>\n      <td>en</td>\n      <td>41306</td>\n      <td>When Burkina Faso’s government called for civi...</td>\n      <td>https://www.thenewhumanitarian.org/news-featur...</td>\n    </tr>\n    <tr>\n      <th>3</th>\n      <td>IMMAP/DFS Syria</td>\n      <td>SYR</td>\n      <td>en</td>\n      <td>43779</td>\n      <td>DAMASCUS – The United Nations World Food Progr...</td>\n      <td>https://reliefweb.int/report/syrian-arab-repub...</td>\n    </tr>\n    <tr>\n      <th>4</th>\n      <td>IMMAP/DFS Nigeria</td>\n      <td>NGA</td>\n      <td>en</td>\n      <td>42212</td>\n      <td>Overview The continuation of conflict in North...</td>\n      <td>https://reliefweb.int/sites/reliefweb.int/file...</td>\n    </tr>\n  </tbody>\n</table>\n</div>"
          },
          "metadata": {}
        }
      ]
    },
    {
      "cell_type": "markdown",
      "source": "## Investigate full text data",
      "metadata": {
        "cell_id": "00004-26838619-14fb-49dd-bd4b-1dccb328711c",
        "deepnote_cell_type": "markdown"
      }
    },
    {
      "cell_type": "code",
      "metadata": {
        "cell_id": "00005-f9e74a0e-7fb5-4c92-9707-ac3f880d115b",
        "deepnote_to_be_reexecuted": false,
        "source_hash": "e05f7d63",
        "execution_millis": 7,
        "execution_start": 1619186721962,
        "deepnote_cell_type": "code"
      },
      "source": "sentences_train.head()",
      "execution_count": 5,
      "outputs": [
        {
          "output_type": "execute_result",
          "execution_count": 5,
          "data": {
            "application/vnd.deepnote.dataframe.v2+json": {
              "row_count": 5,
              "column_count": 5,
              "columns": [
                {
                  "name": "doc_id",
                  "dtype": "int64",
                  "stats": {
                    "unique_count": 1,
                    "nan_count": 0,
                    "min": "51657",
                    "max": "51657",
                    "histogram": [
                      {
                        "bin_start": 51656.5,
                        "bin_end": 51656.6,
                        "count": 0
                      },
                      {
                        "bin_start": 51656.6,
                        "bin_end": 51656.7,
                        "count": 0
                      },
                      {
                        "bin_start": 51656.7,
                        "bin_end": 51656.8,
                        "count": 0
                      },
                      {
                        "bin_start": 51656.8,
                        "bin_end": 51656.9,
                        "count": 0
                      },
                      {
                        "bin_start": 51656.9,
                        "bin_end": 51657,
                        "count": 0
                      },
                      {
                        "bin_start": 51657,
                        "bin_end": 51657.1,
                        "count": 5
                      },
                      {
                        "bin_start": 51657.1,
                        "bin_end": 51657.2,
                        "count": 0
                      },
                      {
                        "bin_start": 51657.2,
                        "bin_end": 51657.3,
                        "count": 0
                      },
                      {
                        "bin_start": 51657.3,
                        "bin_end": 51657.4,
                        "count": 0
                      },
                      {
                        "bin_start": 51657.4,
                        "bin_end": 51657.5,
                        "count": 0
                      }
                    ]
                  }
                },
                {
                  "name": "sentence_id",
                  "dtype": "int64",
                  "stats": {
                    "unique_count": 5,
                    "nan_count": 0,
                    "min": "0",
                    "max": "4",
                    "histogram": [
                      {
                        "bin_start": 0,
                        "bin_end": 0.4,
                        "count": 1
                      },
                      {
                        "bin_start": 0.4,
                        "bin_end": 0.8,
                        "count": 0
                      },
                      {
                        "bin_start": 0.8,
                        "bin_end": 1.2000000000000002,
                        "count": 1
                      },
                      {
                        "bin_start": 1.2000000000000002,
                        "bin_end": 1.6,
                        "count": 0
                      },
                      {
                        "bin_start": 1.6,
                        "bin_end": 2,
                        "count": 0
                      },
                      {
                        "bin_start": 2,
                        "bin_end": 2.4000000000000004,
                        "count": 1
                      },
                      {
                        "bin_start": 2.4000000000000004,
                        "bin_end": 2.8000000000000003,
                        "count": 0
                      },
                      {
                        "bin_start": 2.8000000000000003,
                        "bin_end": 3.2,
                        "count": 1
                      },
                      {
                        "bin_start": 3.2,
                        "bin_end": 3.6,
                        "count": 0
                      },
                      {
                        "bin_start": 3.6,
                        "bin_end": 4,
                        "count": 1
                      }
                    ]
                  }
                },
                {
                  "name": "sentence_text",
                  "dtype": "object",
                  "stats": {
                    "unique_count": 5,
                    "nan_count": 0,
                    "categories": [
                      {
                        "name": "New Salesian youth center in La Cecilia district serves more than 100 youth (MissionNewswire) Salesian missionaries have opened a youth center in the La Cecilia district of Armenia, Colombia.",
                        "count": 1
                      },
                      {
                        "name": "Armenia is at the center of the Colombian coffee growing axis.",
                        "count": 1
                      },
                      {
                        "name": "3 others",
                        "count": 3
                      }
                    ]
                  }
                },
                {
                  "name": "is_relevant",
                  "dtype": "int64",
                  "stats": {
                    "unique_count": 1,
                    "nan_count": 0,
                    "min": "0",
                    "max": "0",
                    "histogram": [
                      {
                        "bin_start": -0.5,
                        "bin_end": -0.4,
                        "count": 0
                      },
                      {
                        "bin_start": -0.4,
                        "bin_end": -0.3,
                        "count": 0
                      },
                      {
                        "bin_start": -0.3,
                        "bin_end": -0.19999999999999996,
                        "count": 0
                      },
                      {
                        "bin_start": -0.19999999999999996,
                        "bin_end": -0.09999999999999998,
                        "count": 0
                      },
                      {
                        "bin_start": -0.09999999999999998,
                        "bin_end": 0,
                        "count": 0
                      },
                      {
                        "bin_start": 0,
                        "bin_end": 0.10000000000000009,
                        "count": 5
                      },
                      {
                        "bin_start": 0.10000000000000009,
                        "bin_end": 0.20000000000000007,
                        "count": 0
                      },
                      {
                        "bin_start": 0.20000000000000007,
                        "bin_end": 0.30000000000000004,
                        "count": 0
                      },
                      {
                        "bin_start": 0.30000000000000004,
                        "bin_end": 0.4,
                        "count": 0
                      },
                      {
                        "bin_start": 0.4,
                        "bin_end": 0.5,
                        "count": 0
                      }
                    ]
                  }
                },
                {
                  "name": "sector_ids",
                  "dtype": "object",
                  "stats": {
                    "unique_count": 1,
                    "nan_count": 0,
                    "categories": [
                      {
                        "name": "[]",
                        "count": 5
                      }
                    ]
                  }
                },
                {
                  "name": "_deepnote_index_column",
                  "dtype": "int64"
                }
              ],
              "rows_top": [
                {
                  "doc_id": 51657,
                  "sentence_id": 0,
                  "sentence_text": "New Salesian youth center in La Cecilia district serves more than 100 youth (MissionNewswire) Salesian missionaries have opened a youth center in the La Cecilia district of Armenia, Colombia.",
                  "is_relevant": 0,
                  "sector_ids": "[]",
                  "_deepnote_index_column": 0
                },
                {
                  "doc_id": 51657,
                  "sentence_id": 1,
                  "sentence_text": "Armenia is at the center of the Colombian coffee growing axis.",
                  "is_relevant": 0,
                  "sector_ids": "[]",
                  "_deepnote_index_column": 1
                },
                {
                  "doc_id": 51657,
                  "sentence_id": 2,
                  "sentence_text": "The new youth center has served more than 100 youth to date and focuses on educational and pastoral support.",
                  "is_relevant": 0,
                  "sector_ids": "[]",
                  "_deepnote_index_column": 2
                },
                {
                  "doc_id": 51657,
                  "sentence_id": 3,
                  "sentence_text": "The Salesian youth center was developed in response to a call to launch initiatives that respond to the needs of youth in the area.",
                  "is_relevant": 0,
                  "sector_ids": "[]",
                  "_deepnote_index_column": 3
                },
                {
                  "doc_id": 51657,
                  "sentence_id": 4,
                  "sentence_text": "Many of these youth come from poor families and have few resources.",
                  "is_relevant": 0,
                  "sector_ids": "[]",
                  "_deepnote_index_column": 4
                }
              ],
              "rows_bottom": null
            },
            "text/plain": "   doc_id  sentence_id                                      sentence_text  \\\n0   51657            0  New Salesian youth center in La Cecilia distri...   \n1   51657            1  Armenia is at the center of the Colombian coff...   \n2   51657            2  The new youth center has served more than 100 ...   \n3   51657            3  The Salesian youth center was developed in res...   \n4   51657            4  Many of these youth come from poor families an...   \n\n   is_relevant sector_ids  \n0            0         []  \n1            0         []  \n2            0         []  \n3            0         []  \n4            0         []  ",
            "text/html": "<div>\n<style scoped>\n    .dataframe tbody tr th:only-of-type {\n        vertical-align: middle;\n    }\n\n    .dataframe tbody tr th {\n        vertical-align: top;\n    }\n\n    .dataframe thead th {\n        text-align: right;\n    }\n</style>\n<table border=\"1\" class=\"dataframe\">\n  <thead>\n    <tr style=\"text-align: right;\">\n      <th></th>\n      <th>doc_id</th>\n      <th>sentence_id</th>\n      <th>sentence_text</th>\n      <th>is_relevant</th>\n      <th>sector_ids</th>\n    </tr>\n  </thead>\n  <tbody>\n    <tr>\n      <th>0</th>\n      <td>51657</td>\n      <td>0</td>\n      <td>New Salesian youth center in La Cecilia distri...</td>\n      <td>0</td>\n      <td>[]</td>\n    </tr>\n    <tr>\n      <th>1</th>\n      <td>51657</td>\n      <td>1</td>\n      <td>Armenia is at the center of the Colombian coff...</td>\n      <td>0</td>\n      <td>[]</td>\n    </tr>\n    <tr>\n      <th>2</th>\n      <td>51657</td>\n      <td>2</td>\n      <td>The new youth center has served more than 100 ...</td>\n      <td>0</td>\n      <td>[]</td>\n    </tr>\n    <tr>\n      <th>3</th>\n      <td>51657</td>\n      <td>3</td>\n      <td>The Salesian youth center was developed in res...</td>\n      <td>0</td>\n      <td>[]</td>\n    </tr>\n    <tr>\n      <th>4</th>\n      <td>51657</td>\n      <td>4</td>\n      <td>Many of these youth come from poor families an...</td>\n      <td>0</td>\n      <td>[]</td>\n    </tr>\n  </tbody>\n</table>\n</div>"
          },
          "metadata": {}
        }
      ]
    },
    {
      "cell_type": "code",
      "source": "counts = sentences_train[[\"sentence_id\", \"doc_id\"]].groupby(\"doc_id\").count()\nprint(\"Median sentence lenght of document:\", np.median(counts))\ncounts",
      "metadata": {
        "tags": [],
        "cell_id": "00006-dafbc99b-26f9-45ab-9080-687d4e204210",
        "deepnote_to_be_reexecuted": false,
        "source_hash": "5cb89a83",
        "execution_millis": 75,
        "execution_start": 1619187768221,
        "deepnote_cell_type": "code"
      },
      "outputs": [
        {
          "name": "stdout",
          "text": "Median sentence lenght of document: 24.0\n",
          "output_type": "stream"
        },
        {
          "output_type": "execute_result",
          "execution_count": 68,
          "data": {
            "application/vnd.deepnote.dataframe.v2+json": {
              "row_count": 2744,
              "column_count": 1,
              "columns": [
                {
                  "name": "sentence_id",
                  "dtype": "int64",
                  "stats": {
                    "unique_count": 372,
                    "nan_count": 0,
                    "min": "1",
                    "max": "19971",
                    "histogram": [
                      {
                        "bin_start": 1,
                        "bin_end": 1998,
                        "count": 2728
                      },
                      {
                        "bin_start": 1998,
                        "bin_end": 3995,
                        "count": 10
                      },
                      {
                        "bin_start": 3995,
                        "bin_end": 5992,
                        "count": 4
                      },
                      {
                        "bin_start": 5992,
                        "bin_end": 7989,
                        "count": 1
                      },
                      {
                        "bin_start": 7989,
                        "bin_end": 9986,
                        "count": 0
                      },
                      {
                        "bin_start": 9986,
                        "bin_end": 11983,
                        "count": 0
                      },
                      {
                        "bin_start": 11983,
                        "bin_end": 13980,
                        "count": 0
                      },
                      {
                        "bin_start": 13980,
                        "bin_end": 15977,
                        "count": 0
                      },
                      {
                        "bin_start": 15977,
                        "bin_end": 17974,
                        "count": 0
                      },
                      {
                        "bin_start": 17974,
                        "bin_end": 19971,
                        "count": 1
                      }
                    ]
                  }
                },
                {
                  "name": "_deepnote_index_column",
                  "dtype": "int64"
                }
              ],
              "rows_top": [
                {
                  "sentence_id": 126,
                  "_deepnote_index_column": 34512
                },
                {
                  "sentence_id": 296,
                  "_deepnote_index_column": 34513
                },
                {
                  "sentence_id": 750,
                  "_deepnote_index_column": 34547
                },
                {
                  "sentence_id": 65,
                  "_deepnote_index_column": 34549
                },
                {
                  "sentence_id": 36,
                  "_deepnote_index_column": 34550
                },
                {
                  "sentence_id": 385,
                  "_deepnote_index_column": 34551
                },
                {
                  "sentence_id": 1749,
                  "_deepnote_index_column": 34552
                },
                {
                  "sentence_id": 146,
                  "_deepnote_index_column": 34554
                },
                {
                  "sentence_id": 137,
                  "_deepnote_index_column": 34555
                },
                {
                  "sentence_id": 35,
                  "_deepnote_index_column": 34556
                },
                {
                  "sentence_id": 385,
                  "_deepnote_index_column": 34558
                },
                {
                  "sentence_id": 59,
                  "_deepnote_index_column": 34559
                },
                {
                  "sentence_id": 1,
                  "_deepnote_index_column": 34560
                },
                {
                  "sentence_id": 6,
                  "_deepnote_index_column": 34592
                },
                {
                  "sentence_id": 6,
                  "_deepnote_index_column": 34593
                },
                {
                  "sentence_id": 62,
                  "_deepnote_index_column": 34595
                },
                {
                  "sentence_id": 94,
                  "_deepnote_index_column": 34597
                },
                {
                  "sentence_id": 4,
                  "_deepnote_index_column": 34598
                },
                {
                  "sentence_id": 4,
                  "_deepnote_index_column": 34599
                },
                {
                  "sentence_id": 4,
                  "_deepnote_index_column": 34600
                },
                {
                  "sentence_id": 10,
                  "_deepnote_index_column": 34604
                },
                {
                  "sentence_id": 10,
                  "_deepnote_index_column": 34605
                },
                {
                  "sentence_id": 8,
                  "_deepnote_index_column": 34607
                },
                {
                  "sentence_id": 8,
                  "_deepnote_index_column": 34608
                },
                {
                  "sentence_id": 8,
                  "_deepnote_index_column": 34609
                },
                {
                  "sentence_id": 12,
                  "_deepnote_index_column": 34610
                },
                {
                  "sentence_id": 12,
                  "_deepnote_index_column": 34612
                },
                {
                  "sentence_id": 12,
                  "_deepnote_index_column": 34613
                },
                {
                  "sentence_id": 12,
                  "_deepnote_index_column": 34614
                },
                {
                  "sentence_id": 12,
                  "_deepnote_index_column": 34615
                },
                {
                  "sentence_id": 12,
                  "_deepnote_index_column": 34616
                },
                {
                  "sentence_id": 12,
                  "_deepnote_index_column": 34617
                },
                {
                  "sentence_id": 12,
                  "_deepnote_index_column": 34618
                },
                {
                  "sentence_id": 10,
                  "_deepnote_index_column": 34620
                },
                {
                  "sentence_id": 10,
                  "_deepnote_index_column": 34621
                },
                {
                  "sentence_id": 12,
                  "_deepnote_index_column": 34623
                },
                {
                  "sentence_id": 12,
                  "_deepnote_index_column": 34624
                },
                {
                  "sentence_id": 11,
                  "_deepnote_index_column": 34625
                },
                {
                  "sentence_id": 11,
                  "_deepnote_index_column": 34627
                },
                {
                  "sentence_id": 11,
                  "_deepnote_index_column": 34628
                },
                {
                  "sentence_id": 11,
                  "_deepnote_index_column": 34630
                },
                {
                  "sentence_id": 11,
                  "_deepnote_index_column": 34632
                },
                {
                  "sentence_id": 11,
                  "_deepnote_index_column": 34633
                },
                {
                  "sentence_id": 11,
                  "_deepnote_index_column": 34634
                },
                {
                  "sentence_id": 44,
                  "_deepnote_index_column": 34637
                },
                {
                  "sentence_id": 268,
                  "_deepnote_index_column": 34640
                },
                {
                  "sentence_id": 35,
                  "_deepnote_index_column": 34641
                },
                {
                  "sentence_id": 32,
                  "_deepnote_index_column": 34642
                },
                {
                  "sentence_id": 43,
                  "_deepnote_index_column": 34643
                },
                {
                  "sentence_id": 38,
                  "_deepnote_index_column": 34645
                },
                {
                  "sentence_id": 32,
                  "_deepnote_index_column": 34647
                },
                {
                  "sentence_id": 32,
                  "_deepnote_index_column": 34648
                },
                {
                  "sentence_id": 44,
                  "_deepnote_index_column": 34649
                },
                {
                  "sentence_id": 34,
                  "_deepnote_index_column": 34653
                },
                {
                  "sentence_id": 14,
                  "_deepnote_index_column": 34654
                },
                {
                  "sentence_id": 733,
                  "_deepnote_index_column": 34655
                },
                {
                  "sentence_id": 140,
                  "_deepnote_index_column": 34656
                },
                {
                  "sentence_id": 14,
                  "_deepnote_index_column": 34657
                },
                {
                  "sentence_id": 4,
                  "_deepnote_index_column": 34659
                },
                {
                  "sentence_id": 4,
                  "_deepnote_index_column": 34660
                },
                {
                  "sentence_id": 4,
                  "_deepnote_index_column": 34661
                },
                {
                  "sentence_id": 4,
                  "_deepnote_index_column": 34663
                },
                {
                  "sentence_id": 4,
                  "_deepnote_index_column": 34664
                },
                {
                  "sentence_id": 4,
                  "_deepnote_index_column": 34665
                },
                {
                  "sentence_id": 4,
                  "_deepnote_index_column": 34666
                },
                {
                  "sentence_id": 4,
                  "_deepnote_index_column": 34667
                },
                {
                  "sentence_id": 4,
                  "_deepnote_index_column": 34668
                },
                {
                  "sentence_id": 4,
                  "_deepnote_index_column": 34672
                },
                {
                  "sentence_id": 17,
                  "_deepnote_index_column": 34673
                },
                {
                  "sentence_id": 17,
                  "_deepnote_index_column": 34674
                },
                {
                  "sentence_id": 17,
                  "_deepnote_index_column": 34675
                },
                {
                  "sentence_id": 17,
                  "_deepnote_index_column": 34676
                },
                {
                  "sentence_id": 17,
                  "_deepnote_index_column": 34677
                },
                {
                  "sentence_id": 32,
                  "_deepnote_index_column": 34795
                },
                {
                  "sentence_id": 508,
                  "_deepnote_index_column": 34801
                },
                {
                  "sentence_id": 451,
                  "_deepnote_index_column": 34802
                },
                {
                  "sentence_id": 445,
                  "_deepnote_index_column": 34803
                },
                {
                  "sentence_id": 165,
                  "_deepnote_index_column": 34804
                },
                {
                  "sentence_id": 360,
                  "_deepnote_index_column": 34805
                },
                {
                  "sentence_id": 381,
                  "_deepnote_index_column": 34806
                },
                {
                  "sentence_id": 364,
                  "_deepnote_index_column": 34807
                },
                {
                  "sentence_id": 386,
                  "_deepnote_index_column": 34808
                },
                {
                  "sentence_id": 445,
                  "_deepnote_index_column": 34809
                },
                {
                  "sentence_id": 343,
                  "_deepnote_index_column": 34811
                },
                {
                  "sentence_id": 15,
                  "_deepnote_index_column": 34812
                },
                {
                  "sentence_id": 13,
                  "_deepnote_index_column": 34813
                },
                {
                  "sentence_id": 203,
                  "_deepnote_index_column": 34872
                },
                {
                  "sentence_id": 238,
                  "_deepnote_index_column": 34874
                },
                {
                  "sentence_id": 186,
                  "_deepnote_index_column": 34876
                },
                {
                  "sentence_id": 58,
                  "_deepnote_index_column": 34877
                },
                {
                  "sentence_id": 1445,
                  "_deepnote_index_column": 35073
                },
                {
                  "sentence_id": 38,
                  "_deepnote_index_column": 35126
                },
                {
                  "sentence_id": 34,
                  "_deepnote_index_column": 35129
                },
                {
                  "sentence_id": 4565,
                  "_deepnote_index_column": 35130
                },
                {
                  "sentence_id": 15,
                  "_deepnote_index_column": 35132
                },
                {
                  "sentence_id": 40,
                  "_deepnote_index_column": 35133
                },
                {
                  "sentence_id": 36,
                  "_deepnote_index_column": 35136
                },
                {
                  "sentence_id": 31,
                  "_deepnote_index_column": 35137
                },
                {
                  "sentence_id": 22,
                  "_deepnote_index_column": 35138
                },
                {
                  "sentence_id": 29,
                  "_deepnote_index_column": 35143
                },
                {
                  "sentence_id": 23,
                  "_deepnote_index_column": 35145
                },
                {
                  "sentence_id": 20,
                  "_deepnote_index_column": 35146
                },
                {
                  "sentence_id": 29,
                  "_deepnote_index_column": 35147
                },
                {
                  "sentence_id": 21,
                  "_deepnote_index_column": 35148
                },
                {
                  "sentence_id": 21,
                  "_deepnote_index_column": 35150
                },
                {
                  "sentence_id": 395,
                  "_deepnote_index_column": 35151
                },
                {
                  "sentence_id": 65,
                  "_deepnote_index_column": 35154
                },
                {
                  "sentence_id": 79,
                  "_deepnote_index_column": 35155
                },
                {
                  "sentence_id": 93,
                  "_deepnote_index_column": 35156
                },
                {
                  "sentence_id": 152,
                  "_deepnote_index_column": 35157
                },
                {
                  "sentence_id": 110,
                  "_deepnote_index_column": 35158
                },
                {
                  "sentence_id": 56,
                  "_deepnote_index_column": 35226
                },
                {
                  "sentence_id": 3,
                  "_deepnote_index_column": 35227
                },
                {
                  "sentence_id": 450,
                  "_deepnote_index_column": 35228
                },
                {
                  "sentence_id": 16,
                  "_deepnote_index_column": 35229
                },
                {
                  "sentence_id": 15,
                  "_deepnote_index_column": 35230
                },
                {
                  "sentence_id": 94,
                  "_deepnote_index_column": 35231
                },
                {
                  "sentence_id": 15,
                  "_deepnote_index_column": 35233
                },
                {
                  "sentence_id": 59,
                  "_deepnote_index_column": 35236
                },
                {
                  "sentence_id": 73,
                  "_deepnote_index_column": 35237
                },
                {
                  "sentence_id": 120,
                  "_deepnote_index_column": 35296
                },
                {
                  "sentence_id": 92,
                  "_deepnote_index_column": 35297
                },
                {
                  "sentence_id": 35,
                  "_deepnote_index_column": 35298
                },
                {
                  "sentence_id": 15,
                  "_deepnote_index_column": 35299
                },
                {
                  "sentence_id": 33,
                  "_deepnote_index_column": 35302
                },
                {
                  "sentence_id": 26,
                  "_deepnote_index_column": 35303
                },
                {
                  "sentence_id": 24,
                  "_deepnote_index_column": 35304
                },
                {
                  "sentence_id": 89,
                  "_deepnote_index_column": 35305
                },
                {
                  "sentence_id": 30,
                  "_deepnote_index_column": 35307
                },
                {
                  "sentence_id": 29,
                  "_deepnote_index_column": 35310
                },
                {
                  "sentence_id": 32,
                  "_deepnote_index_column": 35311
                },
                {
                  "sentence_id": 115,
                  "_deepnote_index_column": 35312
                },
                {
                  "sentence_id": 37,
                  "_deepnote_index_column": 35313
                },
                {
                  "sentence_id": 64,
                  "_deepnote_index_column": 35315
                },
                {
                  "sentence_id": 3,
                  "_deepnote_index_column": 35817
                },
                {
                  "sentence_id": 15,
                  "_deepnote_index_column": 35818
                },
                {
                  "sentence_id": 69,
                  "_deepnote_index_column": 35820
                },
                {
                  "sentence_id": 72,
                  "_deepnote_index_column": 35822
                },
                {
                  "sentence_id": 10,
                  "_deepnote_index_column": 35824
                },
                {
                  "sentence_id": 6,
                  "_deepnote_index_column": 35825
                },
                {
                  "sentence_id": 7,
                  "_deepnote_index_column": 35826
                },
                {
                  "sentence_id": 33,
                  "_deepnote_index_column": 35827
                },
                {
                  "sentence_id": 52,
                  "_deepnote_index_column": 35828
                },
                {
                  "sentence_id": 89,
                  "_deepnote_index_column": 35830
                },
                {
                  "sentence_id": 15,
                  "_deepnote_index_column": 35832
                },
                {
                  "sentence_id": 5,
                  "_deepnote_index_column": 35834
                },
                {
                  "sentence_id": 168,
                  "_deepnote_index_column": 35835
                },
                {
                  "sentence_id": 330,
                  "_deepnote_index_column": 35836
                },
                {
                  "sentence_id": 33,
                  "_deepnote_index_column": 35837
                },
                {
                  "sentence_id": 71,
                  "_deepnote_index_column": 35838
                },
                {
                  "sentence_id": 8,
                  "_deepnote_index_column": 35843
                },
                {
                  "sentence_id": 27,
                  "_deepnote_index_column": 35846
                },
                {
                  "sentence_id": 39,
                  "_deepnote_index_column": 35847
                },
                {
                  "sentence_id": 14,
                  "_deepnote_index_column": 35849
                },
                {
                  "sentence_id": 780,
                  "_deepnote_index_column": 35850
                },
                {
                  "sentence_id": 94,
                  "_deepnote_index_column": 35851
                },
                {
                  "sentence_id": 156,
                  "_deepnote_index_column": 35852
                },
                {
                  "sentence_id": 3,
                  "_deepnote_index_column": 35853
                },
                {
                  "sentence_id": 15,
                  "_deepnote_index_column": 35854
                },
                {
                  "sentence_id": 56,
                  "_deepnote_index_column": 35856
                },
                {
                  "sentence_id": 64,
                  "_deepnote_index_column": 35858
                },
                {
                  "sentence_id": 60,
                  "_deepnote_index_column": 35860
                },
                {
                  "sentence_id": 449,
                  "_deepnote_index_column": 35861
                },
                {
                  "sentence_id": 82,
                  "_deepnote_index_column": 35862
                },
                {
                  "sentence_id": 105,
                  "_deepnote_index_column": 35863
                },
                {
                  "sentence_id": 278,
                  "_deepnote_index_column": 35864
                },
                {
                  "sentence_id": 87,
                  "_deepnote_index_column": 35865
                },
                {
                  "sentence_id": 16,
                  "_deepnote_index_column": 35867
                },
                {
                  "sentence_id": 59,
                  "_deepnote_index_column": 35868
                },
                {
                  "sentence_id": 508,
                  "_deepnote_index_column": 35869
                },
                {
                  "sentence_id": 343,
                  "_deepnote_index_column": 35870
                },
                {
                  "sentence_id": 13,
                  "_deepnote_index_column": 35872
                },
                {
                  "sentence_id": 15,
                  "_deepnote_index_column": 35873
                },
                {
                  "sentence_id": 3257,
                  "_deepnote_index_column": 35874
                },
                {
                  "sentence_id": 64,
                  "_deepnote_index_column": 35875
                },
                {
                  "sentence_id": 238,
                  "_deepnote_index_column": 35876
                },
                {
                  "sentence_id": 9,
                  "_deepnote_index_column": 35882
                },
                {
                  "sentence_id": 32,
                  "_deepnote_index_column": 35888
                },
                {
                  "sentence_id": 14,
                  "_deepnote_index_column": 35889
                },
                {
                  "sentence_id": 7,
                  "_deepnote_index_column": 36001
                },
                {
                  "sentence_id": 62,
                  "_deepnote_index_column": 36003
                },
                {
                  "sentence_id": 22,
                  "_deepnote_index_column": 36006
                },
                {
                  "sentence_id": 65,
                  "_deepnote_index_column": 36008
                },
                {
                  "sentence_id": 4,
                  "_deepnote_index_column": 36010
                },
                {
                  "sentence_id": 8,
                  "_deepnote_index_column": 36013
                },
                {
                  "sentence_id": 4,
                  "_deepnote_index_column": 36015
                },
                {
                  "sentence_id": 98,
                  "_deepnote_index_column": 36016
                },
                {
                  "sentence_id": 165,
                  "_deepnote_index_column": 36019
                },
                {
                  "sentence_id": 15,
                  "_deepnote_index_column": 36022
                },
                {
                  "sentence_id": 20,
                  "_deepnote_index_column": 36024
                },
                {
                  "sentence_id": 100,
                  "_deepnote_index_column": 36025
                },
                {
                  "sentence_id": 31,
                  "_deepnote_index_column": 36026
                },
                {
                  "sentence_id": 13,
                  "_deepnote_index_column": 36027
                },
                {
                  "sentence_id": 9,
                  "_deepnote_index_column": 36028
                },
                {
                  "sentence_id": 18,
                  "_deepnote_index_column": 36029
                },
                {
                  "sentence_id": 11,
                  "_deepnote_index_column": 36030
                },
                {
                  "sentence_id": 465,
                  "_deepnote_index_column": 36031
                },
                {
                  "sentence_id": 11,
                  "_deepnote_index_column": 36034
                },
                {
                  "sentence_id": 10,
                  "_deepnote_index_column": 36036
                },
                {
                  "sentence_id": 14,
                  "_deepnote_index_column": 36037
                },
                {
                  "sentence_id": 341,
                  "_deepnote_index_column": 36039
                },
                {
                  "sentence_id": 14,
                  "_deepnote_index_column": 36040
                },
                {
                  "sentence_id": 17,
                  "_deepnote_index_column": 36042
                },
                {
                  "sentence_id": 16,
                  "_deepnote_index_column": 36043
                },
                {
                  "sentence_id": 22,
                  "_deepnote_index_column": 36044
                },
                {
                  "sentence_id": 5,
                  "_deepnote_index_column": 36045
                },
                {
                  "sentence_id": 19,
                  "_deepnote_index_column": 36049
                },
                {
                  "sentence_id": 6,
                  "_deepnote_index_column": 36054
                },
                {
                  "sentence_id": 15,
                  "_deepnote_index_column": 36055
                },
                {
                  "sentence_id": 8,
                  "_deepnote_index_column": 36057
                },
                {
                  "sentence_id": 16,
                  "_deepnote_index_column": 36058
                },
                {
                  "sentence_id": 205,
                  "_deepnote_index_column": 36059
                },
                {
                  "sentence_id": 186,
                  "_deepnote_index_column": 36060
                },
                {
                  "sentence_id": 5,
                  "_deepnote_index_column": 36063
                },
                {
                  "sentence_id": 6,
                  "_deepnote_index_column": 36067
                },
                {
                  "sentence_id": 81,
                  "_deepnote_index_column": 36068
                },
                {
                  "sentence_id": 422,
                  "_deepnote_index_column": 36069
                },
                {
                  "sentence_id": 17,
                  "_deepnote_index_column": 36070
                },
                {
                  "sentence_id": 34,
                  "_deepnote_index_column": 36071
                },
                {
                  "sentence_id": 10,
                  "_deepnote_index_column": 36172
                },
                {
                  "sentence_id": 13,
                  "_deepnote_index_column": 36174
                },
                {
                  "sentence_id": 7,
                  "_deepnote_index_column": 36177
                },
                {
                  "sentence_id": 22,
                  "_deepnote_index_column": 36295
                },
                {
                  "sentence_id": 103,
                  "_deepnote_index_column": 36297
                },
                {
                  "sentence_id": 526,
                  "_deepnote_index_column": 36310
                },
                {
                  "sentence_id": 28,
                  "_deepnote_index_column": 36451
                },
                {
                  "sentence_id": 63,
                  "_deepnote_index_column": 36455
                },
                {
                  "sentence_id": 137,
                  "_deepnote_index_column": 36458
                },
                {
                  "sentence_id": 93,
                  "_deepnote_index_column": 36460
                },
                {
                  "sentence_id": 79,
                  "_deepnote_index_column": 36461
                },
                {
                  "sentence_id": 33,
                  "_deepnote_index_column": 37682
                },
                {
                  "sentence_id": 489,
                  "_deepnote_index_column": 37684
                },
                {
                  "sentence_id": 426,
                  "_deepnote_index_column": 37685
                },
                {
                  "sentence_id": 53,
                  "_deepnote_index_column": 37686
                },
                {
                  "sentence_id": 4,
                  "_deepnote_index_column": 37687
                },
                {
                  "sentence_id": 15,
                  "_deepnote_index_column": 37689
                },
                {
                  "sentence_id": 21,
                  "_deepnote_index_column": 37690
                },
                {
                  "sentence_id": 92,
                  "_deepnote_index_column": 37692
                },
                {
                  "sentence_id": 70,
                  "_deepnote_index_column": 37693
                },
                {
                  "sentence_id": 53,
                  "_deepnote_index_column": 37694
                },
                {
                  "sentence_id": 34,
                  "_deepnote_index_column": 37695
                },
                {
                  "sentence_id": 90,
                  "_deepnote_index_column": 37697
                },
                {
                  "sentence_id": 98,
                  "_deepnote_index_column": 37700
                },
                {
                  "sentence_id": 336,
                  "_deepnote_index_column": 37702
                },
                {
                  "sentence_id": 33,
                  "_deepnote_index_column": 37703
                },
                {
                  "sentence_id": 52,
                  "_deepnote_index_column": 37755
                },
                {
                  "sentence_id": 240,
                  "_deepnote_index_column": 37757
                },
                {
                  "sentence_id": 20,
                  "_deepnote_index_column": 37758
                },
                {
                  "sentence_id": 18,
                  "_deepnote_index_column": 37759
                },
                {
                  "sentence_id": 18,
                  "_deepnote_index_column": 37760
                },
                {
                  "sentence_id": 18,
                  "_deepnote_index_column": 37761
                },
                {
                  "sentence_id": 37,
                  "_deepnote_index_column": 37770
                },
                {
                  "sentence_id": 73,
                  "_deepnote_index_column": 37771
                },
                {
                  "sentence_id": 28,
                  "_deepnote_index_column": 37772
                },
                {
                  "sentence_id": 133,
                  "_deepnote_index_column": 37775
                },
                {
                  "sentence_id": 18,
                  "_deepnote_index_column": 37776
                },
                {
                  "sentence_id": 18,
                  "_deepnote_index_column": 37777
                },
                {
                  "sentence_id": 18,
                  "_deepnote_index_column": 37778
                },
                {
                  "sentence_id": 26,
                  "_deepnote_index_column": 37779
                },
                {
                  "sentence_id": 75,
                  "_deepnote_index_column": 37781
                },
                {
                  "sentence_id": 124,
                  "_deepnote_index_column": 37782
                },
                {
                  "sentence_id": 110,
                  "_deepnote_index_column": 37783
                },
                {
                  "sentence_id": 148,
                  "_deepnote_index_column": 37811
                },
                {
                  "sentence_id": 29,
                  "_deepnote_index_column": 37812
                },
                {
                  "sentence_id": 242,
                  "_deepnote_index_column": 37813
                },
                {
                  "sentence_id": 66,
                  "_deepnote_index_column": 37814
                },
                {
                  "sentence_id": 57,
                  "_deepnote_index_column": 37815
                },
                {
                  "sentence_id": 44,
                  "_deepnote_index_column": 37816
                },
                {
                  "sentence_id": 31,
                  "_deepnote_index_column": 37817
                },
                {
                  "sentence_id": 30,
                  "_deepnote_index_column": 37818
                },
                {
                  "sentence_id": 16,
                  "_deepnote_index_column": 37819
                },
                {
                  "sentence_id": 777,
                  "_deepnote_index_column": 37821
                },
                {
                  "sentence_id": 83,
                  "_deepnote_index_column": 37822
                },
                {
                  "sentence_id": 19,
                  "_deepnote_index_column": 37828
                },
                {
                  "sentence_id": 19,
                  "_deepnote_index_column": 37829
                },
                {
                  "sentence_id": 12,
                  "_deepnote_index_column": 37830
                },
                {
                  "sentence_id": 52,
                  "_deepnote_index_column": 37832
                },
                {
                  "sentence_id": 90,
                  "_deepnote_index_column": 37833
                },
                {
                  "sentence_id": 144,
                  "_deepnote_index_column": 37834
                },
                {
                  "sentence_id": 25,
                  "_deepnote_index_column": 37836
                },
                {
                  "sentence_id": 30,
                  "_deepnote_index_column": 37837
                },
                {
                  "sentence_id": 34,
                  "_deepnote_index_column": 37839
                },
                {
                  "sentence_id": 29,
                  "_deepnote_index_column": 37840
                },
                {
                  "sentence_id": 100,
                  "_deepnote_index_column": 37845
                },
                {
                  "sentence_id": 14,
                  "_deepnote_index_column": 37847
                },
                {
                  "sentence_id": 13,
                  "_deepnote_index_column": 37850
                },
                {
                  "sentence_id": 44,
                  "_deepnote_index_column": 37851
                },
                {
                  "sentence_id": 47,
                  "_deepnote_index_column": 37852
                },
                {
                  "sentence_id": 46,
                  "_deepnote_index_column": 37863
                },
                {
                  "sentence_id": 169,
                  "_deepnote_index_column": 37865
                },
                {
                  "sentence_id": 4,
                  "_deepnote_index_column": 37875
                },
                {
                  "sentence_id": 6,
                  "_deepnote_index_column": 37876
                },
                {
                  "sentence_id": 12,
                  "_deepnote_index_column": 37877
                },
                {
                  "sentence_id": 6,
                  "_deepnote_index_column": 37878
                },
                {
                  "sentence_id": 4,
                  "_deepnote_index_column": 37879
                },
                {
                  "sentence_id": 4,
                  "_deepnote_index_column": 37881
                },
                {
                  "sentence_id": 4,
                  "_deepnote_index_column": 37883
                },
                {
                  "sentence_id": 7,
                  "_deepnote_index_column": 37884
                },
                {
                  "sentence_id": 7,
                  "_deepnote_index_column": 37885
                },
                {
                  "sentence_id": 4,
                  "_deepnote_index_column": 37886
                },
                {
                  "sentence_id": 4,
                  "_deepnote_index_column": 37887
                },
                {
                  "sentence_id": 4,
                  "_deepnote_index_column": 37888
                },
                {
                  "sentence_id": 4,
                  "_deepnote_index_column": 37889
                },
                {
                  "sentence_id": 4,
                  "_deepnote_index_column": 37890
                },
                {
                  "sentence_id": 4,
                  "_deepnote_index_column": 37891
                },
                {
                  "sentence_id": 4,
                  "_deepnote_index_column": 37893
                },
                {
                  "sentence_id": 2,
                  "_deepnote_index_column": 37894
                },
                {
                  "sentence_id": 2,
                  "_deepnote_index_column": 37895
                },
                {
                  "sentence_id": 2,
                  "_deepnote_index_column": 37896
                },
                {
                  "sentence_id": 2,
                  "_deepnote_index_column": 37897
                },
                {
                  "sentence_id": 2,
                  "_deepnote_index_column": 37900
                },
                {
                  "sentence_id": 40,
                  "_deepnote_index_column": 37901
                },
                {
                  "sentence_id": 75,
                  "_deepnote_index_column": 37903
                },
                {
                  "sentence_id": 10,
                  "_deepnote_index_column": 37904
                },
                {
                  "sentence_id": 113,
                  "_deepnote_index_column": 37905
                },
                {
                  "sentence_id": 231,
                  "_deepnote_index_column": 37907
                },
                {
                  "sentence_id": 9,
                  "_deepnote_index_column": 37908
                },
                {
                  "sentence_id": 140,
                  "_deepnote_index_column": 37909
                },
                {
                  "sentence_id": 5,
                  "_deepnote_index_column": 37911
                },
                {
                  "sentence_id": 148,
                  "_deepnote_index_column": 37912
                },
                {
                  "sentence_id": 115,
                  "_deepnote_index_column": 37915
                },
                {
                  "sentence_id": 21,
                  "_deepnote_index_column": 37916
                },
                {
                  "sentence_id": 21,
                  "_deepnote_index_column": 37918
                },
                {
                  "sentence_id": 20,
                  "_deepnote_index_column": 38002
                },
                {
                  "sentence_id": 5,
                  "_deepnote_index_column": 38003
                },
                {
                  "sentence_id": 160,
                  "_deepnote_index_column": 38004
                },
                {
                  "sentence_id": 2,
                  "_deepnote_index_column": 38018
                },
                {
                  "sentence_id": 2,
                  "_deepnote_index_column": 38019
                },
                {
                  "sentence_id": 2,
                  "_deepnote_index_column": 38021
                },
                {
                  "sentence_id": 2,
                  "_deepnote_index_column": 38023
                },
                {
                  "sentence_id": 2,
                  "_deepnote_index_column": 38024
                },
                {
                  "sentence_id": 2,
                  "_deepnote_index_column": 38025
                },
                {
                  "sentence_id": 2,
                  "_deepnote_index_column": 38026
                },
                {
                  "sentence_id": 2,
                  "_deepnote_index_column": 38027
                },
                {
                  "sentence_id": 4,
                  "_deepnote_index_column": 38042
                },
                {
                  "sentence_id": 4,
                  "_deepnote_index_column": 38043
                },
                {
                  "sentence_id": 4,
                  "_deepnote_index_column": 38044
                },
                {
                  "sentence_id": 5,
                  "_deepnote_index_column": 38045
                },
                {
                  "sentence_id": 5,
                  "_deepnote_index_column": 38046
                },
                {
                  "sentence_id": 4,
                  "_deepnote_index_column": 38047
                },
                {
                  "sentence_id": 5,
                  "_deepnote_index_column": 38048
                },
                {
                  "sentence_id": 8,
                  "_deepnote_index_column": 38051
                },
                {
                  "sentence_id": 3,
                  "_deepnote_index_column": 38052
                },
                {
                  "sentence_id": 4,
                  "_deepnote_index_column": 38053
                },
                {
                  "sentence_id": 4,
                  "_deepnote_index_column": 38054
                },
                {
                  "sentence_id": 7,
                  "_deepnote_index_column": 38056
                },
                {
                  "sentence_id": 4,
                  "_deepnote_index_column": 38058
                },
                {
                  "sentence_id": 5,
                  "_deepnote_index_column": 38061
                },
                {
                  "sentence_id": 4,
                  "_deepnote_index_column": 38062
                },
                {
                  "sentence_id": 292,
                  "_deepnote_index_column": 38063
                },
                {
                  "sentence_id": 7,
                  "_deepnote_index_column": 38064
                },
                {
                  "sentence_id": 3,
                  "_deepnote_index_column": 38069
                },
                {
                  "sentence_id": 4,
                  "_deepnote_index_column": 38070
                },
                {
                  "sentence_id": 5,
                  "_deepnote_index_column": 38071
                },
                {
                  "sentence_id": 4,
                  "_deepnote_index_column": 38072
                },
                {
                  "sentence_id": 58,
                  "_deepnote_index_column": 38083
                },
                {
                  "sentence_id": 78,
                  "_deepnote_index_column": 38102
                },
                {
                  "sentence_id": 55,
                  "_deepnote_index_column": 38127
                },
                {
                  "sentence_id": 110,
                  "_deepnote_index_column": 38129
                },
                {
                  "sentence_id": 44,
                  "_deepnote_index_column": 38130
                },
                {
                  "sentence_id": 76,
                  "_deepnote_index_column": 38132
                },
                {
                  "sentence_id": 90,
                  "_deepnote_index_column": 38134
                },
                {
                  "sentence_id": 79,
                  "_deepnote_index_column": 38135
                },
                {
                  "sentence_id": 207,
                  "_deepnote_index_column": 38136
                },
                {
                  "sentence_id": 105,
                  "_deepnote_index_column": 38137
                },
                {
                  "sentence_id": 19,
                  "_deepnote_index_column": 38138
                },
                {
                  "sentence_id": 136,
                  "_deepnote_index_column": 38139
                },
                {
                  "sentence_id": 92,
                  "_deepnote_index_column": 38140
                },
                {
                  "sentence_id": 196,
                  "_deepnote_index_column": 38141
                },
                {
                  "sentence_id": 27,
                  "_deepnote_index_column": 38153
                },
                {
                  "sentence_id": 423,
                  "_deepnote_index_column": 38282
                },
                {
                  "sentence_id": 19,
                  "_deepnote_index_column": 38283
                },
                {
                  "sentence_id": 4,
                  "_deepnote_index_column": 38333
                },
                {
                  "sentence_id": 2,
                  "_deepnote_index_column": 38334
                },
                {
                  "sentence_id": 4,
                  "_deepnote_index_column": 38335
                },
                {
                  "sentence_id": 11,
                  "_deepnote_index_column": 38337
                },
                {
                  "sentence_id": 487,
                  "_deepnote_index_column": 38338
                },
                {
                  "sentence_id": 114,
                  "_deepnote_index_column": 38340
                },
                {
                  "sentence_id": 171,
                  "_deepnote_index_column": 38341
                },
                {
                  "sentence_id": 76,
                  "_deepnote_index_column": 38342
                },
                {
                  "sentence_id": 61,
                  "_deepnote_index_column": 38343
                },
                {
                  "sentence_id": 8,
                  "_deepnote_index_column": 38362
                },
                {
                  "sentence_id": 2,
                  "_deepnote_index_column": 38409
                },
                {
                  "sentence_id": 49,
                  "_deepnote_index_column": 38411
                },
                {
                  "sentence_id": 6,
                  "_deepnote_index_column": 38412
                },
                {
                  "sentence_id": 23,
                  "_deepnote_index_column": 38414
                },
                {
                  "sentence_id": 88,
                  "_deepnote_index_column": 38415
                },
                {
                  "sentence_id": 52,
                  "_deepnote_index_column": 38416
                },
                {
                  "sentence_id": 15,
                  "_deepnote_index_column": 38417
                },
                {
                  "sentence_id": 100,
                  "_deepnote_index_column": 38419
                },
                {
                  "sentence_id": 228,
                  "_deepnote_index_column": 38420
                },
                {
                  "sentence_id": 5,
                  "_deepnote_index_column": 38421
                },
                {
                  "sentence_id": 33,
                  "_deepnote_index_column": 38422
                },
                {
                  "sentence_id": 16,
                  "_deepnote_index_column": 38423
                },
                {
                  "sentence_id": 142,
                  "_deepnote_index_column": 38428
                },
                {
                  "sentence_id": 87,
                  "_deepnote_index_column": 38432
                },
                {
                  "sentence_id": 30,
                  "_deepnote_index_column": 38490
                },
                {
                  "sentence_id": 108,
                  "_deepnote_index_column": 38492
                },
                {
                  "sentence_id": 106,
                  "_deepnote_index_column": 38494
                },
                {
                  "sentence_id": 98,
                  "_deepnote_index_column": 38495
                },
                {
                  "sentence_id": 123,
                  "_deepnote_index_column": 38496
                },
                {
                  "sentence_id": 70,
                  "_deepnote_index_column": 38498
                },
                {
                  "sentence_id": 465,
                  "_deepnote_index_column": 38499
                },
                {
                  "sentence_id": 109,
                  "_deepnote_index_column": 38501
                },
                {
                  "sentence_id": 22,
                  "_deepnote_index_column": 38504
                },
                {
                  "sentence_id": 10,
                  "_deepnote_index_column": 38505
                },
                {
                  "sentence_id": 65,
                  "_deepnote_index_column": 38506
                },
                {
                  "sentence_id": 26,
                  "_deepnote_index_column": 38507
                },
                {
                  "sentence_id": 78,
                  "_deepnote_index_column": 38511
                },
                {
                  "sentence_id": 629,
                  "_deepnote_index_column": 38512
                },
                {
                  "sentence_id": 28,
                  "_deepnote_index_column": 38513
                },
                {
                  "sentence_id": 82,
                  "_deepnote_index_column": 38514
                },
                {
                  "sentence_id": 39,
                  "_deepnote_index_column": 38515
                },
                {
                  "sentence_id": 119,
                  "_deepnote_index_column": 38524
                },
                {
                  "sentence_id": 4,
                  "_deepnote_index_column": 38657
                },
                {
                  "sentence_id": 5,
                  "_deepnote_index_column": 38658
                },
                {
                  "sentence_id": 4,
                  "_deepnote_index_column": 38659
                },
                {
                  "sentence_id": 4,
                  "_deepnote_index_column": 38660
                },
                {
                  "sentence_id": 7,
                  "_deepnote_index_column": 38662
                },
                {
                  "sentence_id": 4,
                  "_deepnote_index_column": 38663
                },
                {
                  "sentence_id": 14,
                  "_deepnote_index_column": 38665
                },
                {
                  "sentence_id": 21,
                  "_deepnote_index_column": 38677
                },
                {
                  "sentence_id": 6,
                  "_deepnote_index_column": 38686
                },
                {
                  "sentence_id": 81,
                  "_deepnote_index_column": 38695
                },
                {
                  "sentence_id": 176,
                  "_deepnote_index_column": 38697
                },
                {
                  "sentence_id": 39,
                  "_deepnote_index_column": 38699
                },
                {
                  "sentence_id": 92,
                  "_deepnote_index_column": 38700
                },
                {
                  "sentence_id": 35,
                  "_deepnote_index_column": 38703
                },
                {
                  "sentence_id": 34,
                  "_deepnote_index_column": 38704
                },
                {
                  "sentence_id": 21,
                  "_deepnote_index_column": 38705
                },
                {
                  "sentence_id": 897,
                  "_deepnote_index_column": 38706
                },
                {
                  "sentence_id": 21,
                  "_deepnote_index_column": 38708
                },
                {
                  "sentence_id": 103,
                  "_deepnote_index_column": 38709
                },
                {
                  "sentence_id": 18,
                  "_deepnote_index_column": 38714
                },
                {
                  "sentence_id": 139,
                  "_deepnote_index_column": 38715
                },
                {
                  "sentence_id": 8,
                  "_deepnote_index_column": 38717
                },
                {
                  "sentence_id": 50,
                  "_deepnote_index_column": 38718
                },
                {
                  "sentence_id": 76,
                  "_deepnote_index_column": 38721
                },
                {
                  "sentence_id": 118,
                  "_deepnote_index_column": 38777
                },
                {
                  "sentence_id": 6,
                  "_deepnote_index_column": 38778
                },
                {
                  "sentence_id": 11,
                  "_deepnote_index_column": 38779
                },
                {
                  "sentence_id": 24,
                  "_deepnote_index_column": 38780
                },
                {
                  "sentence_id": 111,
                  "_deepnote_index_column": 38781
                },
                {
                  "sentence_id": 106,
                  "_deepnote_index_column": 38783
                },
                {
                  "sentence_id": 28,
                  "_deepnote_index_column": 38785
                },
                {
                  "sentence_id": 8,
                  "_deepnote_index_column": 38786
                },
                {
                  "sentence_id": 53,
                  "_deepnote_index_column": 38787
                },
                {
                  "sentence_id": 13,
                  "_deepnote_index_column": 38788
                },
                {
                  "sentence_id": 326,
                  "_deepnote_index_column": 38789
                },
                {
                  "sentence_id": 3,
                  "_deepnote_index_column": 38790
                },
                {
                  "sentence_id": 24,
                  "_deepnote_index_column": 38791
                },
                {
                  "sentence_id": 33,
                  "_deepnote_index_column": 38792
                },
                {
                  "sentence_id": 181,
                  "_deepnote_index_column": 38793
                },
                {
                  "sentence_id": 11,
                  "_deepnote_index_column": 38794
                },
                {
                  "sentence_id": 34,
                  "_deepnote_index_column": 38796
                },
                {
                  "sentence_id": 72,
                  "_deepnote_index_column": 38797
                },
                {
                  "sentence_id": 186,
                  "_deepnote_index_column": 38800
                },
                {
                  "sentence_id": 114,
                  "_deepnote_index_column": 38819
                },
                {
                  "sentence_id": 23,
                  "_deepnote_index_column": 38880
                },
                {
                  "sentence_id": 310,
                  "_deepnote_index_column": 38881
                },
                {
                  "sentence_id": 51,
                  "_deepnote_index_column": 38882
                },
                {
                  "sentence_id": 313,
                  "_deepnote_index_column": 38883
                },
                {
                  "sentence_id": 20,
                  "_deepnote_index_column": 38884
                },
                {
                  "sentence_id": 2,
                  "_deepnote_index_column": 38885
                },
                {
                  "sentence_id": 5,
                  "_deepnote_index_column": 38886
                },
                {
                  "sentence_id": 86,
                  "_deepnote_index_column": 38887
                },
                {
                  "sentence_id": 5,
                  "_deepnote_index_column": 38888
                },
                {
                  "sentence_id": 307,
                  "_deepnote_index_column": 38889
                },
                {
                  "sentence_id": 80,
                  "_deepnote_index_column": 38890
                },
                {
                  "sentence_id": 45,
                  "_deepnote_index_column": 38891
                },
                {
                  "sentence_id": 19,
                  "_deepnote_index_column": 38921
                },
                {
                  "sentence_id": 22,
                  "_deepnote_index_column": 38922
                },
                {
                  "sentence_id": 22,
                  "_deepnote_index_column": 38943
                },
                {
                  "sentence_id": 4,
                  "_deepnote_index_column": 38944
                },
                {
                  "sentence_id": 4,
                  "_deepnote_index_column": 38945
                },
                {
                  "sentence_id": 8,
                  "_deepnote_index_column": 38947
                },
                {
                  "sentence_id": 13,
                  "_deepnote_index_column": 38957
                },
                {
                  "sentence_id": 18,
                  "_deepnote_index_column": 38959
                },
                {
                  "sentence_id": 102,
                  "_deepnote_index_column": 38962
                },
                {
                  "sentence_id": 35,
                  "_deepnote_index_column": 38963
                },
                {
                  "sentence_id": 21,
                  "_deepnote_index_column": 38964
                },
                {
                  "sentence_id": 97,
                  "_deepnote_index_column": 38966
                },
                {
                  "sentence_id": 45,
                  "_deepnote_index_column": 38967
                },
                {
                  "sentence_id": 23,
                  "_deepnote_index_column": 38968
                },
                {
                  "sentence_id": 486,
                  "_deepnote_index_column": 38969
                },
                {
                  "sentence_id": 20,
                  "_deepnote_index_column": 38970
                },
                {
                  "sentence_id": 459,
                  "_deepnote_index_column": 38999
                },
                {
                  "sentence_id": 39,
                  "_deepnote_index_column": 39032
                },
                {
                  "sentence_id": 92,
                  "_deepnote_index_column": 39035
                },
                {
                  "sentence_id": 29,
                  "_deepnote_index_column": 39036
                },
                {
                  "sentence_id": 267,
                  "_deepnote_index_column": 39039
                },
                {
                  "sentence_id": 34,
                  "_deepnote_index_column": 39040
                },
                {
                  "sentence_id": 70,
                  "_deepnote_index_column": 39043
                },
                {
                  "sentence_id": 33,
                  "_deepnote_index_column": 39045
                },
                {
                  "sentence_id": 8,
                  "_deepnote_index_column": 39053
                },
                {
                  "sentence_id": 17,
                  "_deepnote_index_column": 39054
                },
                {
                  "sentence_id": 62,
                  "_deepnote_index_column": 39055
                },
                {
                  "sentence_id": 62,
                  "_deepnote_index_column": 39056
                },
                {
                  "sentence_id": 17,
                  "_deepnote_index_column": 39060
                },
                {
                  "sentence_id": 17,
                  "_deepnote_index_column": 39061
                }
              ],
              "rows_bottom": [
                {
                  "sentence_id": 80,
                  "_deepnote_index_column": 48911
                },
                {
                  "sentence_id": 97,
                  "_deepnote_index_column": 48915
                },
                {
                  "sentence_id": 29,
                  "_deepnote_index_column": 48977
                },
                {
                  "sentence_id": 46,
                  "_deepnote_index_column": 48981
                },
                {
                  "sentence_id": 23,
                  "_deepnote_index_column": 48983
                },
                {
                  "sentence_id": 175,
                  "_deepnote_index_column": 48984
                },
                {
                  "sentence_id": 7,
                  "_deepnote_index_column": 48988
                },
                {
                  "sentence_id": 8,
                  "_deepnote_index_column": 48989
                },
                {
                  "sentence_id": 18,
                  "_deepnote_index_column": 48993
                },
                {
                  "sentence_id": 14,
                  "_deepnote_index_column": 48996
                },
                {
                  "sentence_id": 23,
                  "_deepnote_index_column": 48998
                },
                {
                  "sentence_id": 14,
                  "_deepnote_index_column": 48999
                },
                {
                  "sentence_id": 7,
                  "_deepnote_index_column": 49001
                },
                {
                  "sentence_id": 19,
                  "_deepnote_index_column": 49003
                },
                {
                  "sentence_id": 17,
                  "_deepnote_index_column": 49005
                },
                {
                  "sentence_id": 37,
                  "_deepnote_index_column": 49006
                },
                {
                  "sentence_id": 16,
                  "_deepnote_index_column": 49007
                },
                {
                  "sentence_id": 10,
                  "_deepnote_index_column": 49008
                },
                {
                  "sentence_id": 10,
                  "_deepnote_index_column": 49009
                },
                {
                  "sentence_id": 15,
                  "_deepnote_index_column": 49010
                },
                {
                  "sentence_id": 26,
                  "_deepnote_index_column": 49011
                },
                {
                  "sentence_id": 6,
                  "_deepnote_index_column": 49012
                },
                {
                  "sentence_id": 26,
                  "_deepnote_index_column": 49014
                },
                {
                  "sentence_id": 21,
                  "_deepnote_index_column": 49015
                },
                {
                  "sentence_id": 9,
                  "_deepnote_index_column": 49016
                },
                {
                  "sentence_id": 10,
                  "_deepnote_index_column": 49017
                },
                {
                  "sentence_id": 14,
                  "_deepnote_index_column": 49018
                },
                {
                  "sentence_id": 26,
                  "_deepnote_index_column": 49020
                },
                {
                  "sentence_id": 4,
                  "_deepnote_index_column": 49022
                },
                {
                  "sentence_id": 32,
                  "_deepnote_index_column": 49023
                },
                {
                  "sentence_id": 28,
                  "_deepnote_index_column": 49024
                },
                {
                  "sentence_id": 18,
                  "_deepnote_index_column": 49026
                },
                {
                  "sentence_id": 18,
                  "_deepnote_index_column": 49027
                },
                {
                  "sentence_id": 307,
                  "_deepnote_index_column": 49042
                },
                {
                  "sentence_id": 22,
                  "_deepnote_index_column": 49043
                },
                {
                  "sentence_id": 183,
                  "_deepnote_index_column": 49044
                },
                {
                  "sentence_id": 75,
                  "_deepnote_index_column": 49046
                },
                {
                  "sentence_id": 17,
                  "_deepnote_index_column": 49048
                },
                {
                  "sentence_id": 274,
                  "_deepnote_index_column": 49050
                },
                {
                  "sentence_id": 112,
                  "_deepnote_index_column": 49053
                },
                {
                  "sentence_id": 98,
                  "_deepnote_index_column": 49217
                },
                {
                  "sentence_id": 15,
                  "_deepnote_index_column": 49229
                },
                {
                  "sentence_id": 111,
                  "_deepnote_index_column": 49231
                },
                {
                  "sentence_id": 14,
                  "_deepnote_index_column": 49238
                },
                {
                  "sentence_id": 272,
                  "_deepnote_index_column": 49258
                },
                {
                  "sentence_id": 56,
                  "_deepnote_index_column": 49259
                },
                {
                  "sentence_id": 66,
                  "_deepnote_index_column": 49260
                },
                {
                  "sentence_id": 4,
                  "_deepnote_index_column": 49263
                },
                {
                  "sentence_id": 38,
                  "_deepnote_index_column": 49264
                },
                {
                  "sentence_id": 23,
                  "_deepnote_index_column": 49370
                },
                {
                  "sentence_id": 13,
                  "_deepnote_index_column": 49371
                },
                {
                  "sentence_id": 14,
                  "_deepnote_index_column": 49373
                },
                {
                  "sentence_id": 16,
                  "_deepnote_index_column": 49374
                },
                {
                  "sentence_id": 8,
                  "_deepnote_index_column": 49376
                },
                {
                  "sentence_id": 28,
                  "_deepnote_index_column": 49377
                },
                {
                  "sentence_id": 15,
                  "_deepnote_index_column": 49379
                },
                {
                  "sentence_id": 23,
                  "_deepnote_index_column": 49417
                },
                {
                  "sentence_id": 24,
                  "_deepnote_index_column": 49418
                },
                {
                  "sentence_id": 22,
                  "_deepnote_index_column": 49419
                },
                {
                  "sentence_id": 18,
                  "_deepnote_index_column": 49420
                },
                {
                  "sentence_id": 17,
                  "_deepnote_index_column": 49421
                },
                {
                  "sentence_id": 17,
                  "_deepnote_index_column": 49422
                },
                {
                  "sentence_id": 15,
                  "_deepnote_index_column": 49423
                },
                {
                  "sentence_id": 26,
                  "_deepnote_index_column": 49424
                },
                {
                  "sentence_id": 34,
                  "_deepnote_index_column": 49426
                },
                {
                  "sentence_id": 22,
                  "_deepnote_index_column": 49428
                },
                {
                  "sentence_id": 22,
                  "_deepnote_index_column": 49431
                },
                {
                  "sentence_id": 20,
                  "_deepnote_index_column": 49432
                },
                {
                  "sentence_id": 18,
                  "_deepnote_index_column": 49433
                },
                {
                  "sentence_id": 19,
                  "_deepnote_index_column": 49434
                },
                {
                  "sentence_id": 17,
                  "_deepnote_index_column": 49436
                },
                {
                  "sentence_id": 19,
                  "_deepnote_index_column": 49437
                },
                {
                  "sentence_id": 19,
                  "_deepnote_index_column": 49438
                },
                {
                  "sentence_id": 20,
                  "_deepnote_index_column": 49440
                },
                {
                  "sentence_id": 26,
                  "_deepnote_index_column": 49441
                },
                {
                  "sentence_id": 22,
                  "_deepnote_index_column": 49442
                },
                {
                  "sentence_id": 29,
                  "_deepnote_index_column": 49443
                },
                {
                  "sentence_id": 49,
                  "_deepnote_index_column": 49454
                },
                {
                  "sentence_id": 31,
                  "_deepnote_index_column": 49492
                },
                {
                  "sentence_id": 254,
                  "_deepnote_index_column": 49494
                },
                {
                  "sentence_id": 16,
                  "_deepnote_index_column": 49495
                },
                {
                  "sentence_id": 16,
                  "_deepnote_index_column": 49496
                },
                {
                  "sentence_id": 10,
                  "_deepnote_index_column": 49498
                },
                {
                  "sentence_id": 26,
                  "_deepnote_index_column": 49499
                },
                {
                  "sentence_id": 30,
                  "_deepnote_index_column": 49500
                },
                {
                  "sentence_id": 54,
                  "_deepnote_index_column": 49501
                },
                {
                  "sentence_id": 4,
                  "_deepnote_index_column": 49505
                },
                {
                  "sentence_id": 4,
                  "_deepnote_index_column": 49506
                },
                {
                  "sentence_id": 7,
                  "_deepnote_index_column": 49508
                },
                {
                  "sentence_id": 4,
                  "_deepnote_index_column": 49509
                },
                {
                  "sentence_id": 25,
                  "_deepnote_index_column": 49526
                },
                {
                  "sentence_id": 304,
                  "_deepnote_index_column": 49527
                },
                {
                  "sentence_id": 34,
                  "_deepnote_index_column": 49534
                },
                {
                  "sentence_id": 29,
                  "_deepnote_index_column": 49535
                },
                {
                  "sentence_id": 29,
                  "_deepnote_index_column": 49537
                },
                {
                  "sentence_id": 16,
                  "_deepnote_index_column": 49539
                },
                {
                  "sentence_id": 18,
                  "_deepnote_index_column": 49540
                },
                {
                  "sentence_id": 7,
                  "_deepnote_index_column": 49541
                },
                {
                  "sentence_id": 15,
                  "_deepnote_index_column": 49542
                },
                {
                  "sentence_id": 39,
                  "_deepnote_index_column": 49544
                },
                {
                  "sentence_id": 29,
                  "_deepnote_index_column": 49545
                },
                {
                  "sentence_id": 18,
                  "_deepnote_index_column": 49546
                },
                {
                  "sentence_id": 10,
                  "_deepnote_index_column": 49547
                },
                {
                  "sentence_id": 17,
                  "_deepnote_index_column": 49594
                },
                {
                  "sentence_id": 505,
                  "_deepnote_index_column": 49595
                },
                {
                  "sentence_id": 50,
                  "_deepnote_index_column": 49610
                },
                {
                  "sentence_id": 76,
                  "_deepnote_index_column": 49635
                },
                {
                  "sentence_id": 17,
                  "_deepnote_index_column": 49638
                },
                {
                  "sentence_id": 405,
                  "_deepnote_index_column": 49640
                },
                {
                  "sentence_id": 21,
                  "_deepnote_index_column": 49648
                },
                {
                  "sentence_id": 13,
                  "_deepnote_index_column": 49654
                },
                {
                  "sentence_id": 62,
                  "_deepnote_index_column": 49663
                },
                {
                  "sentence_id": 372,
                  "_deepnote_index_column": 49673
                },
                {
                  "sentence_id": 51,
                  "_deepnote_index_column": 49678
                },
                {
                  "sentence_id": 109,
                  "_deepnote_index_column": 49680
                },
                {
                  "sentence_id": 14,
                  "_deepnote_index_column": 49682
                },
                {
                  "sentence_id": 18,
                  "_deepnote_index_column": 49684
                },
                {
                  "sentence_id": 81,
                  "_deepnote_index_column": 49701
                },
                {
                  "sentence_id": 50,
                  "_deepnote_index_column": 49702
                },
                {
                  "sentence_id": 35,
                  "_deepnote_index_column": 49705
                },
                {
                  "sentence_id": 98,
                  "_deepnote_index_column": 49722
                },
                {
                  "sentence_id": 14,
                  "_deepnote_index_column": 49723
                },
                {
                  "sentence_id": 37,
                  "_deepnote_index_column": 49724
                },
                {
                  "sentence_id": 17,
                  "_deepnote_index_column": 49725
                },
                {
                  "sentence_id": 46,
                  "_deepnote_index_column": 49726
                },
                {
                  "sentence_id": 20,
                  "_deepnote_index_column": 49727
                },
                {
                  "sentence_id": 42,
                  "_deepnote_index_column": 49733
                },
                {
                  "sentence_id": 2,
                  "_deepnote_index_column": 49749
                },
                {
                  "sentence_id": 38,
                  "_deepnote_index_column": 49751
                },
                {
                  "sentence_id": 23,
                  "_deepnote_index_column": 49759
                },
                {
                  "sentence_id": 19,
                  "_deepnote_index_column": 49761
                },
                {
                  "sentence_id": 9,
                  "_deepnote_index_column": 49762
                },
                {
                  "sentence_id": 22,
                  "_deepnote_index_column": 49763
                },
                {
                  "sentence_id": 4,
                  "_deepnote_index_column": 49766
                },
                {
                  "sentence_id": 4,
                  "_deepnote_index_column": 49767
                },
                {
                  "sentence_id": 4,
                  "_deepnote_index_column": 49768
                },
                {
                  "sentence_id": 7,
                  "_deepnote_index_column": 49769
                },
                {
                  "sentence_id": 13,
                  "_deepnote_index_column": 49770
                },
                {
                  "sentence_id": 95,
                  "_deepnote_index_column": 49772
                },
                {
                  "sentence_id": 83,
                  "_deepnote_index_column": 49773
                },
                {
                  "sentence_id": 300,
                  "_deepnote_index_column": 49774
                },
                {
                  "sentence_id": 50,
                  "_deepnote_index_column": 49775
                },
                {
                  "sentence_id": 93,
                  "_deepnote_index_column": 49776
                },
                {
                  "sentence_id": 19,
                  "_deepnote_index_column": 49778
                },
                {
                  "sentence_id": 12,
                  "_deepnote_index_column": 49779
                },
                {
                  "sentence_id": 18,
                  "_deepnote_index_column": 49793
                },
                {
                  "sentence_id": 131,
                  "_deepnote_index_column": 49804
                },
                {
                  "sentence_id": 495,
                  "_deepnote_index_column": 49807
                },
                {
                  "sentence_id": 481,
                  "_deepnote_index_column": 49814
                },
                {
                  "sentence_id": 26,
                  "_deepnote_index_column": 49858
                },
                {
                  "sentence_id": 20,
                  "_deepnote_index_column": 49863
                },
                {
                  "sentence_id": 28,
                  "_deepnote_index_column": 49864
                },
                {
                  "sentence_id": 17,
                  "_deepnote_index_column": 49865
                },
                {
                  "sentence_id": 12,
                  "_deepnote_index_column": 49866
                },
                {
                  "sentence_id": 28,
                  "_deepnote_index_column": 49867
                },
                {
                  "sentence_id": 19,
                  "_deepnote_index_column": 49868
                },
                {
                  "sentence_id": 43,
                  "_deepnote_index_column": 49869
                },
                {
                  "sentence_id": 13,
                  "_deepnote_index_column": 49870
                },
                {
                  "sentence_id": 42,
                  "_deepnote_index_column": 49872
                },
                {
                  "sentence_id": 31,
                  "_deepnote_index_column": 49873
                },
                {
                  "sentence_id": 20,
                  "_deepnote_index_column": 49874
                },
                {
                  "sentence_id": 22,
                  "_deepnote_index_column": 49876
                },
                {
                  "sentence_id": 28,
                  "_deepnote_index_column": 49878
                },
                {
                  "sentence_id": 11,
                  "_deepnote_index_column": 49880
                },
                {
                  "sentence_id": 19,
                  "_deepnote_index_column": 49882
                },
                {
                  "sentence_id": 9,
                  "_deepnote_index_column": 49884
                },
                {
                  "sentence_id": 15,
                  "_deepnote_index_column": 49885
                },
                {
                  "sentence_id": 9,
                  "_deepnote_index_column": 49887
                },
                {
                  "sentence_id": 20,
                  "_deepnote_index_column": 49889
                },
                {
                  "sentence_id": 14,
                  "_deepnote_index_column": 49892
                },
                {
                  "sentence_id": 9,
                  "_deepnote_index_column": 49893
                },
                {
                  "sentence_id": 13,
                  "_deepnote_index_column": 49904
                },
                {
                  "sentence_id": 46,
                  "_deepnote_index_column": 49905
                },
                {
                  "sentence_id": 75,
                  "_deepnote_index_column": 49906
                },
                {
                  "sentence_id": 194,
                  "_deepnote_index_column": 49907
                },
                {
                  "sentence_id": 26,
                  "_deepnote_index_column": 49908
                },
                {
                  "sentence_id": 967,
                  "_deepnote_index_column": 49919
                },
                {
                  "sentence_id": 241,
                  "_deepnote_index_column": 49920
                },
                {
                  "sentence_id": 303,
                  "_deepnote_index_column": 49954
                },
                {
                  "sentence_id": 31,
                  "_deepnote_index_column": 50067
                },
                {
                  "sentence_id": 26,
                  "_deepnote_index_column": 50068
                },
                {
                  "sentence_id": 21,
                  "_deepnote_index_column": 50069
                },
                {
                  "sentence_id": 24,
                  "_deepnote_index_column": 50071
                },
                {
                  "sentence_id": 24,
                  "_deepnote_index_column": 50076
                },
                {
                  "sentence_id": 39,
                  "_deepnote_index_column": 50078
                },
                {
                  "sentence_id": 14,
                  "_deepnote_index_column": 50079
                },
                {
                  "sentence_id": 15,
                  "_deepnote_index_column": 50081
                },
                {
                  "sentence_id": 14,
                  "_deepnote_index_column": 50082
                },
                {
                  "sentence_id": 42,
                  "_deepnote_index_column": 50088
                },
                {
                  "sentence_id": 20,
                  "_deepnote_index_column": 50160
                },
                {
                  "sentence_id": 20,
                  "_deepnote_index_column": 50162
                },
                {
                  "sentence_id": 3,
                  "_deepnote_index_column": 50164
                },
                {
                  "sentence_id": 50,
                  "_deepnote_index_column": 50168
                },
                {
                  "sentence_id": 98,
                  "_deepnote_index_column": 50169
                },
                {
                  "sentence_id": 8,
                  "_deepnote_index_column": 50170
                },
                {
                  "sentence_id": 30,
                  "_deepnote_index_column": 50171
                },
                {
                  "sentence_id": 4,
                  "_deepnote_index_column": 50175
                },
                {
                  "sentence_id": 18,
                  "_deepnote_index_column": 50176
                },
                {
                  "sentence_id": 4,
                  "_deepnote_index_column": 50177
                },
                {
                  "sentence_id": 4,
                  "_deepnote_index_column": 50179
                },
                {
                  "sentence_id": 19,
                  "_deepnote_index_column": 50180
                },
                {
                  "sentence_id": 18,
                  "_deepnote_index_column": 50184
                },
                {
                  "sentence_id": 171,
                  "_deepnote_index_column": 50193
                },
                {
                  "sentence_id": 7,
                  "_deepnote_index_column": 50194
                },
                {
                  "sentence_id": 19,
                  "_deepnote_index_column": 50195
                },
                {
                  "sentence_id": 67,
                  "_deepnote_index_column": 50199
                },
                {
                  "sentence_id": 13,
                  "_deepnote_index_column": 50200
                },
                {
                  "sentence_id": 80,
                  "_deepnote_index_column": 50210
                },
                {
                  "sentence_id": 299,
                  "_deepnote_index_column": 50211
                },
                {
                  "sentence_id": 110,
                  "_deepnote_index_column": 50212
                },
                {
                  "sentence_id": 113,
                  "_deepnote_index_column": 50213
                },
                {
                  "sentence_id": 2,
                  "_deepnote_index_column": 50214
                },
                {
                  "sentence_id": 694,
                  "_deepnote_index_column": 50218
                },
                {
                  "sentence_id": 32,
                  "_deepnote_index_column": 50241
                },
                {
                  "sentence_id": 139,
                  "_deepnote_index_column": 50250
                },
                {
                  "sentence_id": 107,
                  "_deepnote_index_column": 50251
                },
                {
                  "sentence_id": 28,
                  "_deepnote_index_column": 50258
                },
                {
                  "sentence_id": 23,
                  "_deepnote_index_column": 50261
                },
                {
                  "sentence_id": 25,
                  "_deepnote_index_column": 50280
                },
                {
                  "sentence_id": 25,
                  "_deepnote_index_column": 50282
                },
                {
                  "sentence_id": 22,
                  "_deepnote_index_column": 50286
                },
                {
                  "sentence_id": 493,
                  "_deepnote_index_column": 50288
                },
                {
                  "sentence_id": 28,
                  "_deepnote_index_column": 50289
                },
                {
                  "sentence_id": 17,
                  "_deepnote_index_column": 50293
                },
                {
                  "sentence_id": 15,
                  "_deepnote_index_column": 50295
                },
                {
                  "sentence_id": 20,
                  "_deepnote_index_column": 50296
                },
                {
                  "sentence_id": 9,
                  "_deepnote_index_column": 50297
                },
                {
                  "sentence_id": 18,
                  "_deepnote_index_column": 50298
                },
                {
                  "sentence_id": 15,
                  "_deepnote_index_column": 50300
                },
                {
                  "sentence_id": 10,
                  "_deepnote_index_column": 50301
                },
                {
                  "sentence_id": 24,
                  "_deepnote_index_column": 50304
                },
                {
                  "sentence_id": 40,
                  "_deepnote_index_column": 50305
                },
                {
                  "sentence_id": 754,
                  "_deepnote_index_column": 50329
                },
                {
                  "sentence_id": 204,
                  "_deepnote_index_column": 50331
                },
                {
                  "sentence_id": 17,
                  "_deepnote_index_column": 50333
                },
                {
                  "sentence_id": 144,
                  "_deepnote_index_column": 50338
                },
                {
                  "sentence_id": 582,
                  "_deepnote_index_column": 50347
                },
                {
                  "sentence_id": 24,
                  "_deepnote_index_column": 50349
                },
                {
                  "sentence_id": 22,
                  "_deepnote_index_column": 50350
                },
                {
                  "sentence_id": 74,
                  "_deepnote_index_column": 50410
                },
                {
                  "sentence_id": 185,
                  "_deepnote_index_column": 50412
                },
                {
                  "sentence_id": 40,
                  "_deepnote_index_column": 50415
                },
                {
                  "sentence_id": 182,
                  "_deepnote_index_column": 50417
                },
                {
                  "sentence_id": 253,
                  "_deepnote_index_column": 50420
                },
                {
                  "sentence_id": 1,
                  "_deepnote_index_column": 50510
                },
                {
                  "sentence_id": 47,
                  "_deepnote_index_column": 50513
                },
                {
                  "sentence_id": 53,
                  "_deepnote_index_column": 50532
                },
                {
                  "sentence_id": 61,
                  "_deepnote_index_column": 50590
                },
                {
                  "sentence_id": 87,
                  "_deepnote_index_column": 50593
                },
                {
                  "sentence_id": 154,
                  "_deepnote_index_column": 50646
                },
                {
                  "sentence_id": 168,
                  "_deepnote_index_column": 50654
                },
                {
                  "sentence_id": 76,
                  "_deepnote_index_column": 50656
                },
                {
                  "sentence_id": 32,
                  "_deepnote_index_column": 50657
                },
                {
                  "sentence_id": 37,
                  "_deepnote_index_column": 50658
                },
                {
                  "sentence_id": 15,
                  "_deepnote_index_column": 50659
                },
                {
                  "sentence_id": 71,
                  "_deepnote_index_column": 50660
                },
                {
                  "sentence_id": 74,
                  "_deepnote_index_column": 50661
                },
                {
                  "sentence_id": 53,
                  "_deepnote_index_column": 50673
                },
                {
                  "sentence_id": 66,
                  "_deepnote_index_column": 50685
                },
                {
                  "sentence_id": 39,
                  "_deepnote_index_column": 50686
                },
                {
                  "sentence_id": 1,
                  "_deepnote_index_column": 50710
                },
                {
                  "sentence_id": 115,
                  "_deepnote_index_column": 50712
                },
                {
                  "sentence_id": 4,
                  "_deepnote_index_column": 50713
                },
                {
                  "sentence_id": 4,
                  "_deepnote_index_column": 50714
                },
                {
                  "sentence_id": 4,
                  "_deepnote_index_column": 50715
                },
                {
                  "sentence_id": 6,
                  "_deepnote_index_column": 50716
                },
                {
                  "sentence_id": 15,
                  "_deepnote_index_column": 50717
                },
                {
                  "sentence_id": 53,
                  "_deepnote_index_column": 50718
                },
                {
                  "sentence_id": 80,
                  "_deepnote_index_column": 50719
                },
                {
                  "sentence_id": 612,
                  "_deepnote_index_column": 50723
                },
                {
                  "sentence_id": 335,
                  "_deepnote_index_column": 50724
                },
                {
                  "sentence_id": 21,
                  "_deepnote_index_column": 50726
                },
                {
                  "sentence_id": 248,
                  "_deepnote_index_column": 50728
                },
                {
                  "sentence_id": 191,
                  "_deepnote_index_column": 50729
                },
                {
                  "sentence_id": 1346,
                  "_deepnote_index_column": 50735
                },
                {
                  "sentence_id": 16,
                  "_deepnote_index_column": 50736
                },
                {
                  "sentence_id": 69,
                  "_deepnote_index_column": 50744
                },
                {
                  "sentence_id": 24,
                  "_deepnote_index_column": 50745
                },
                {
                  "sentence_id": 26,
                  "_deepnote_index_column": 50746
                },
                {
                  "sentence_id": 9,
                  "_deepnote_index_column": 50774
                },
                {
                  "sentence_id": 19,
                  "_deepnote_index_column": 50784
                },
                {
                  "sentence_id": 14,
                  "_deepnote_index_column": 50820
                },
                {
                  "sentence_id": 10,
                  "_deepnote_index_column": 50821
                },
                {
                  "sentence_id": 4,
                  "_deepnote_index_column": 50851
                },
                {
                  "sentence_id": 25,
                  "_deepnote_index_column": 50873
                },
                {
                  "sentence_id": 91,
                  "_deepnote_index_column": 50896
                },
                {
                  "sentence_id": 28,
                  "_deepnote_index_column": 50897
                },
                {
                  "sentence_id": 109,
                  "_deepnote_index_column": 50900
                },
                {
                  "sentence_id": 110,
                  "_deepnote_index_column": 50902
                },
                {
                  "sentence_id": 148,
                  "_deepnote_index_column": 50904
                },
                {
                  "sentence_id": 21,
                  "_deepnote_index_column": 50930
                },
                {
                  "sentence_id": 20,
                  "_deepnote_index_column": 50931
                },
                {
                  "sentence_id": 22,
                  "_deepnote_index_column": 50932
                },
                {
                  "sentence_id": 17,
                  "_deepnote_index_column": 50933
                },
                {
                  "sentence_id": 13,
                  "_deepnote_index_column": 50934
                },
                {
                  "sentence_id": 17,
                  "_deepnote_index_column": 50935
                },
                {
                  "sentence_id": 24,
                  "_deepnote_index_column": 50936
                },
                {
                  "sentence_id": 30,
                  "_deepnote_index_column": 50937
                },
                {
                  "sentence_id": 16,
                  "_deepnote_index_column": 50938
                },
                {
                  "sentence_id": 24,
                  "_deepnote_index_column": 50940
                },
                {
                  "sentence_id": 33,
                  "_deepnote_index_column": 50941
                },
                {
                  "sentence_id": 26,
                  "_deepnote_index_column": 50942
                },
                {
                  "sentence_id": 28,
                  "_deepnote_index_column": 50944
                },
                {
                  "sentence_id": 15,
                  "_deepnote_index_column": 50945
                },
                {
                  "sentence_id": 22,
                  "_deepnote_index_column": 50946
                },
                {
                  "sentence_id": 9,
                  "_deepnote_index_column": 50947
                },
                {
                  "sentence_id": 32,
                  "_deepnote_index_column": 50948
                },
                {
                  "sentence_id": 22,
                  "_deepnote_index_column": 50951
                },
                {
                  "sentence_id": 12,
                  "_deepnote_index_column": 50952
                },
                {
                  "sentence_id": 32,
                  "_deepnote_index_column": 50953
                },
                {
                  "sentence_id": 12,
                  "_deepnote_index_column": 50954
                },
                {
                  "sentence_id": 31,
                  "_deepnote_index_column": 50955
                },
                {
                  "sentence_id": 34,
                  "_deepnote_index_column": 50956
                },
                {
                  "sentence_id": 23,
                  "_deepnote_index_column": 50957
                },
                {
                  "sentence_id": 80,
                  "_deepnote_index_column": 50959
                },
                {
                  "sentence_id": 21,
                  "_deepnote_index_column": 50965
                },
                {
                  "sentence_id": 375,
                  "_deepnote_index_column": 50966
                },
                {
                  "sentence_id": 293,
                  "_deepnote_index_column": 50967
                },
                {
                  "sentence_id": 33,
                  "_deepnote_index_column": 50968
                },
                {
                  "sentence_id": 11,
                  "_deepnote_index_column": 50971
                },
                {
                  "sentence_id": 17,
                  "_deepnote_index_column": 50972
                },
                {
                  "sentence_id": 83,
                  "_deepnote_index_column": 50975
                },
                {
                  "sentence_id": 28,
                  "_deepnote_index_column": 50982
                },
                {
                  "sentence_id": 25,
                  "_deepnote_index_column": 50984
                },
                {
                  "sentence_id": 16,
                  "_deepnote_index_column": 50985
                },
                {
                  "sentence_id": 24,
                  "_deepnote_index_column": 50986
                },
                {
                  "sentence_id": 27,
                  "_deepnote_index_column": 50987
                },
                {
                  "sentence_id": 23,
                  "_deepnote_index_column": 50989
                },
                {
                  "sentence_id": 31,
                  "_deepnote_index_column": 50990
                },
                {
                  "sentence_id": 39,
                  "_deepnote_index_column": 50992
                },
                {
                  "sentence_id": 28,
                  "_deepnote_index_column": 50993
                },
                {
                  "sentence_id": 10,
                  "_deepnote_index_column": 50994
                },
                {
                  "sentence_id": 28,
                  "_deepnote_index_column": 50995
                },
                {
                  "sentence_id": 18,
                  "_deepnote_index_column": 50996
                },
                {
                  "sentence_id": 15,
                  "_deepnote_index_column": 50997
                },
                {
                  "sentence_id": 23,
                  "_deepnote_index_column": 50998
                },
                {
                  "sentence_id": 9,
                  "_deepnote_index_column": 51000
                },
                {
                  "sentence_id": 24,
                  "_deepnote_index_column": 51005
                },
                {
                  "sentence_id": 26,
                  "_deepnote_index_column": 51007
                },
                {
                  "sentence_id": 23,
                  "_deepnote_index_column": 51008
                },
                {
                  "sentence_id": 23,
                  "_deepnote_index_column": 51010
                },
                {
                  "sentence_id": 24,
                  "_deepnote_index_column": 51011
                },
                {
                  "sentence_id": 26,
                  "_deepnote_index_column": 51012
                },
                {
                  "sentence_id": 13,
                  "_deepnote_index_column": 51017
                },
                {
                  "sentence_id": 22,
                  "_deepnote_index_column": 51020
                },
                {
                  "sentence_id": 22,
                  "_deepnote_index_column": 51021
                },
                {
                  "sentence_id": 27,
                  "_deepnote_index_column": 51024
                },
                {
                  "sentence_id": 25,
                  "_deepnote_index_column": 51025
                },
                {
                  "sentence_id": 8,
                  "_deepnote_index_column": 51026
                },
                {
                  "sentence_id": 28,
                  "_deepnote_index_column": 51027
                },
                {
                  "sentence_id": 32,
                  "_deepnote_index_column": 51028
                },
                {
                  "sentence_id": 5,
                  "_deepnote_index_column": 51030
                },
                {
                  "sentence_id": 32,
                  "_deepnote_index_column": 51031
                },
                {
                  "sentence_id": 22,
                  "_deepnote_index_column": 51033
                },
                {
                  "sentence_id": 29,
                  "_deepnote_index_column": 51034
                },
                {
                  "sentence_id": 15,
                  "_deepnote_index_column": 51036
                },
                {
                  "sentence_id": 23,
                  "_deepnote_index_column": 51037
                },
                {
                  "sentence_id": 10,
                  "_deepnote_index_column": 51038
                },
                {
                  "sentence_id": 39,
                  "_deepnote_index_column": 51048
                },
                {
                  "sentence_id": 250,
                  "_deepnote_index_column": 51049
                },
                {
                  "sentence_id": 4,
                  "_deepnote_index_column": 51050
                },
                {
                  "sentence_id": 4,
                  "_deepnote_index_column": 51051
                },
                {
                  "sentence_id": 13,
                  "_deepnote_index_column": 51052
                },
                {
                  "sentence_id": 285,
                  "_deepnote_index_column": 51071
                },
                {
                  "sentence_id": 23,
                  "_deepnote_index_column": 51072
                },
                {
                  "sentence_id": 1,
                  "_deepnote_index_column": 51073
                },
                {
                  "sentence_id": 5,
                  "_deepnote_index_column": 51074
                },
                {
                  "sentence_id": 189,
                  "_deepnote_index_column": 51085
                },
                {
                  "sentence_id": 21,
                  "_deepnote_index_column": 51086
                },
                {
                  "sentence_id": 8,
                  "_deepnote_index_column": 51087
                },
                {
                  "sentence_id": 74,
                  "_deepnote_index_column": 51088
                },
                {
                  "sentence_id": 274,
                  "_deepnote_index_column": 51089
                },
                {
                  "sentence_id": 189,
                  "_deepnote_index_column": 51090
                },
                {
                  "sentence_id": 32,
                  "_deepnote_index_column": 51091
                },
                {
                  "sentence_id": 32,
                  "_deepnote_index_column": 51095
                },
                {
                  "sentence_id": 29,
                  "_deepnote_index_column": 51097
                },
                {
                  "sentence_id": 88,
                  "_deepnote_index_column": 51098
                },
                {
                  "sentence_id": 66,
                  "_deepnote_index_column": 51101
                },
                {
                  "sentence_id": 16,
                  "_deepnote_index_column": 51105
                },
                {
                  "sentence_id": 40,
                  "_deepnote_index_column": 51117
                },
                {
                  "sentence_id": 31,
                  "_deepnote_index_column": 51118
                },
                {
                  "sentence_id": 31,
                  "_deepnote_index_column": 51120
                },
                {
                  "sentence_id": 31,
                  "_deepnote_index_column": 51134
                },
                {
                  "sentence_id": 14,
                  "_deepnote_index_column": 51142
                },
                {
                  "sentence_id": 4,
                  "_deepnote_index_column": 51144
                },
                {
                  "sentence_id": 24,
                  "_deepnote_index_column": 51145
                },
                {
                  "sentence_id": 14,
                  "_deepnote_index_column": 51146
                },
                {
                  "sentence_id": 11,
                  "_deepnote_index_column": 51147
                },
                {
                  "sentence_id": 13,
                  "_deepnote_index_column": 51148
                },
                {
                  "sentence_id": 17,
                  "_deepnote_index_column": 51150
                },
                {
                  "sentence_id": 12,
                  "_deepnote_index_column": 51151
                },
                {
                  "sentence_id": 24,
                  "_deepnote_index_column": 51153
                },
                {
                  "sentence_id": 2195,
                  "_deepnote_index_column": 51156
                },
                {
                  "sentence_id": 53,
                  "_deepnote_index_column": 51157
                },
                {
                  "sentence_id": 46,
                  "_deepnote_index_column": 51159
                },
                {
                  "sentence_id": 30,
                  "_deepnote_index_column": 51164
                },
                {
                  "sentence_id": 124,
                  "_deepnote_index_column": 51252
                },
                {
                  "sentence_id": 21,
                  "_deepnote_index_column": 51288
                },
                {
                  "sentence_id": 17,
                  "_deepnote_index_column": 51294
                },
                {
                  "sentence_id": 36,
                  "_deepnote_index_column": 51296
                },
                {
                  "sentence_id": 62,
                  "_deepnote_index_column": 51302
                },
                {
                  "sentence_id": 538,
                  "_deepnote_index_column": 51363
                },
                {
                  "sentence_id": 67,
                  "_deepnote_index_column": 51419
                },
                {
                  "sentence_id": 49,
                  "_deepnote_index_column": 51421
                },
                {
                  "sentence_id": 15,
                  "_deepnote_index_column": 51422
                },
                {
                  "sentence_id": 46,
                  "_deepnote_index_column": 51424
                },
                {
                  "sentence_id": 4,
                  "_deepnote_index_column": 51425
                },
                {
                  "sentence_id": 14,
                  "_deepnote_index_column": 51426
                },
                {
                  "sentence_id": 18,
                  "_deepnote_index_column": 51428
                },
                {
                  "sentence_id": 53,
                  "_deepnote_index_column": 51430
                },
                {
                  "sentence_id": 270,
                  "_deepnote_index_column": 51431
                },
                {
                  "sentence_id": 24,
                  "_deepnote_index_column": 51432
                },
                {
                  "sentence_id": 18,
                  "_deepnote_index_column": 51434
                },
                {
                  "sentence_id": 10,
                  "_deepnote_index_column": 51436
                },
                {
                  "sentence_id": 35,
                  "_deepnote_index_column": 51438
                },
                {
                  "sentence_id": 19,
                  "_deepnote_index_column": 51439
                },
                {
                  "sentence_id": 23,
                  "_deepnote_index_column": 51440
                },
                {
                  "sentence_id": 27,
                  "_deepnote_index_column": 51442
                },
                {
                  "sentence_id": 29,
                  "_deepnote_index_column": 51444
                },
                {
                  "sentence_id": 14,
                  "_deepnote_index_column": 51445
                },
                {
                  "sentence_id": 46,
                  "_deepnote_index_column": 51449
                },
                {
                  "sentence_id": 15,
                  "_deepnote_index_column": 51450
                },
                {
                  "sentence_id": 39,
                  "_deepnote_index_column": 51451
                },
                {
                  "sentence_id": 25,
                  "_deepnote_index_column": 51453
                },
                {
                  "sentence_id": 276,
                  "_deepnote_index_column": 51455
                },
                {
                  "sentence_id": 16,
                  "_deepnote_index_column": 51457
                },
                {
                  "sentence_id": 37,
                  "_deepnote_index_column": 51458
                },
                {
                  "sentence_id": 43,
                  "_deepnote_index_column": 51459
                },
                {
                  "sentence_id": 1804,
                  "_deepnote_index_column": 51464
                },
                {
                  "sentence_id": 4,
                  "_deepnote_index_column": 51485
                },
                {
                  "sentence_id": 3,
                  "_deepnote_index_column": 51495
                },
                {
                  "sentence_id": 41,
                  "_deepnote_index_column": 51499
                },
                {
                  "sentence_id": 109,
                  "_deepnote_index_column": 51525
                },
                {
                  "sentence_id": 48,
                  "_deepnote_index_column": 51529
                },
                {
                  "sentence_id": 3,
                  "_deepnote_index_column": 51530
                },
                {
                  "sentence_id": 51,
                  "_deepnote_index_column": 51542
                },
                {
                  "sentence_id": 11,
                  "_deepnote_index_column": 51564
                },
                {
                  "sentence_id": 4,
                  "_deepnote_index_column": 51587
                },
                {
                  "sentence_id": 4,
                  "_deepnote_index_column": 51591
                },
                {
                  "sentence_id": 53,
                  "_deepnote_index_column": 51594
                },
                {
                  "sentence_id": 78,
                  "_deepnote_index_column": 51597
                },
                {
                  "sentence_id": 420,
                  "_deepnote_index_column": 51598
                },
                {
                  "sentence_id": 59,
                  "_deepnote_index_column": 51599
                },
                {
                  "sentence_id": 16,
                  "_deepnote_index_column": 51601
                },
                {
                  "sentence_id": 187,
                  "_deepnote_index_column": 51612
                },
                {
                  "sentence_id": 11,
                  "_deepnote_index_column": 51620
                },
                {
                  "sentence_id": 13,
                  "_deepnote_index_column": 51626
                },
                {
                  "sentence_id": 15,
                  "_deepnote_index_column": 51627
                },
                {
                  "sentence_id": 19,
                  "_deepnote_index_column": 51657
                },
                {
                  "sentence_id": 23,
                  "_deepnote_index_column": 51663
                },
                {
                  "sentence_id": 5,
                  "_deepnote_index_column": 51664
                },
                {
                  "sentence_id": 30,
                  "_deepnote_index_column": 51668
                },
                {
                  "sentence_id": 19,
                  "_deepnote_index_column": 51671
                },
                {
                  "sentence_id": 30,
                  "_deepnote_index_column": 51672
                },
                {
                  "sentence_id": 31,
                  "_deepnote_index_column": 51673
                },
                {
                  "sentence_id": 13,
                  "_deepnote_index_column": 51675
                },
                {
                  "sentence_id": 19,
                  "_deepnote_index_column": 51677
                },
                {
                  "sentence_id": 11,
                  "_deepnote_index_column": 51678
                },
                {
                  "sentence_id": 20,
                  "_deepnote_index_column": 51679
                },
                {
                  "sentence_id": 16,
                  "_deepnote_index_column": 51680
                },
                {
                  "sentence_id": 27,
                  "_deepnote_index_column": 51681
                },
                {
                  "sentence_id": 34,
                  "_deepnote_index_column": 51684
                },
                {
                  "sentence_id": 31,
                  "_deepnote_index_column": 51687
                },
                {
                  "sentence_id": 15,
                  "_deepnote_index_column": 51688
                },
                {
                  "sentence_id": 7,
                  "_deepnote_index_column": 51689
                },
                {
                  "sentence_id": 11,
                  "_deepnote_index_column": 51690
                },
                {
                  "sentence_id": 22,
                  "_deepnote_index_column": 51692
                },
                {
                  "sentence_id": 17,
                  "_deepnote_index_column": 51696
                },
                {
                  "sentence_id": 34,
                  "_deepnote_index_column": 51703
                },
                {
                  "sentence_id": 63,
                  "_deepnote_index_column": 51705
                },
                {
                  "sentence_id": 17,
                  "_deepnote_index_column": 51706
                },
                {
                  "sentence_id": 28,
                  "_deepnote_index_column": 51746
                },
                {
                  "sentence_id": 17,
                  "_deepnote_index_column": 51747
                },
                {
                  "sentence_id": 145,
                  "_deepnote_index_column": 51800
                },
                {
                  "sentence_id": 9,
                  "_deepnote_index_column": 51801
                },
                {
                  "sentence_id": 22,
                  "_deepnote_index_column": 51802
                },
                {
                  "sentence_id": 10,
                  "_deepnote_index_column": 51803
                },
                {
                  "sentence_id": 28,
                  "_deepnote_index_column": 51804
                },
                {
                  "sentence_id": 8,
                  "_deepnote_index_column": 51806
                },
                {
                  "sentence_id": 14,
                  "_deepnote_index_column": 51808
                },
                {
                  "sentence_id": 78,
                  "_deepnote_index_column": 51809
                },
                {
                  "sentence_id": 28,
                  "_deepnote_index_column": 51814
                },
                {
                  "sentence_id": 28,
                  "_deepnote_index_column": 51816
                },
                {
                  "sentence_id": 22,
                  "_deepnote_index_column": 51823
                },
                {
                  "sentence_id": 18,
                  "_deepnote_index_column": 51825
                },
                {
                  "sentence_id": 25,
                  "_deepnote_index_column": 51828
                },
                {
                  "sentence_id": 36,
                  "_deepnote_index_column": 51830
                },
                {
                  "sentence_id": 14,
                  "_deepnote_index_column": 51831
                },
                {
                  "sentence_id": 19,
                  "_deepnote_index_column": 51832
                },
                {
                  "sentence_id": 23,
                  "_deepnote_index_column": 51833
                },
                {
                  "sentence_id": 8,
                  "_deepnote_index_column": 51834
                },
                {
                  "sentence_id": 5,
                  "_deepnote_index_column": 51835
                },
                {
                  "sentence_id": 25,
                  "_deepnote_index_column": 51837
                },
                {
                  "sentence_id": 21,
                  "_deepnote_index_column": 51838
                },
                {
                  "sentence_id": 233,
                  "_deepnote_index_column": 51844
                },
                {
                  "sentence_id": 4,
                  "_deepnote_index_column": 51845
                },
                {
                  "sentence_id": 22,
                  "_deepnote_index_column": 51850
                },
                {
                  "sentence_id": 3,
                  "_deepnote_index_column": 51851
                },
                {
                  "sentence_id": 134,
                  "_deepnote_index_column": 51853
                },
                {
                  "sentence_id": 86,
                  "_deepnote_index_column": 51928
                }
              ]
            },
            "text/plain": "        sentence_id\ndoc_id             \n34512           126\n34513           296\n34547           750\n34549            65\n34550            36\n...             ...\n51845             4\n51850            22\n51851             3\n51853           134\n51928            86\n\n[2744 rows x 1 columns]",
            "text/html": "<div>\n<style scoped>\n    .dataframe tbody tr th:only-of-type {\n        vertical-align: middle;\n    }\n\n    .dataframe tbody tr th {\n        vertical-align: top;\n    }\n\n    .dataframe thead th {\n        text-align: right;\n    }\n</style>\n<table border=\"1\" class=\"dataframe\">\n  <thead>\n    <tr style=\"text-align: right;\">\n      <th></th>\n      <th>sentence_id</th>\n    </tr>\n    <tr>\n      <th>doc_id</th>\n      <th></th>\n    </tr>\n  </thead>\n  <tbody>\n    <tr>\n      <th>34512</th>\n      <td>126</td>\n    </tr>\n    <tr>\n      <th>34513</th>\n      <td>296</td>\n    </tr>\n    <tr>\n      <th>34547</th>\n      <td>750</td>\n    </tr>\n    <tr>\n      <th>34549</th>\n      <td>65</td>\n    </tr>\n    <tr>\n      <th>34550</th>\n      <td>36</td>\n    </tr>\n    <tr>\n      <th>...</th>\n      <td>...</td>\n    </tr>\n    <tr>\n      <th>51845</th>\n      <td>4</td>\n    </tr>\n    <tr>\n      <th>51850</th>\n      <td>22</td>\n    </tr>\n    <tr>\n      <th>51851</th>\n      <td>3</td>\n    </tr>\n    <tr>\n      <th>51853</th>\n      <td>134</td>\n    </tr>\n    <tr>\n      <th>51928</th>\n      <td>86</td>\n    </tr>\n  </tbody>\n</table>\n<p>2744 rows × 1 columns</p>\n</div>"
          },
          "metadata": {}
        }
      ],
      "execution_count": 68
    },
    {
      "cell_type": "code",
      "source": "from transformers import DistilBertTokenizer, TFDistilBertModel\ntokenizer = DistilBertTokenizer.from_pretrained('distilbert-base-uncased')\nmodel = TFDistilBertModel.from_pretrained(\"distilbert-base-uncased\")\ntext = \"Replace me by any text you'd like.\"\nencoded_input = tokenizer(text, return_tensors='tf')\noutput = model(encoded_input)",
      "metadata": {
        "tags": [],
        "cell_id": "00007-c828658a-3fd2-4a68-aa17-a1c5bd0687d7",
        "deepnote_cell_type": "code"
      },
      "outputs": [],
      "execution_count": null
    },
    {
      "cell_type": "markdown",
      "source": "<a style='text-decoration:none;line-height:16px;display:flex;color:#5B5B62;padding:10px;justify-content:end;' href='https://deepnote.com?utm_source=created-in-deepnote-cell&projectId=4fd50739-29f7-46cb-8aab-a9724cfcd877' target=\"_blank\">\n<img alt='Created in deepnote.com' style='display:inline;max-height:16px;margin:0px;margin-right:7.5px;' src='data:image/svg+xml;base64,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' > </img>\nCreated in <span style='font-weight:600;margin-left:4px;'>Deepnote</span></a>",
      "metadata": {
        "tags": [],
        "created_in_deepnote_cell": true,
        "deepnote_cell_type": "markdown"
      }
    }
  ],
  "nbformat": 4,
  "nbformat_minor": 4,
  "metadata": {
    "kernelspec": {
      "display_name": "Python 3",
      "language": "python",
      "name": "python3"
    },
    "language_info": {
      "codemirror_mode": {
        "name": "ipython",
        "version": 3
      },
      "file_extension": ".py",
      "mimetype": "text/x-python",
      "name": "python",
      "nbconvert_exporter": "python",
      "pygments_lexer": "ipython3",
      "version": "3.8.5"
    },
    "deepnote_notebook_id": "7c27ecd8-cadf-45e6-9a0a-3543fb627261",
    "deepnote": {},
    "deepnote_execution_queue": []
  }
}