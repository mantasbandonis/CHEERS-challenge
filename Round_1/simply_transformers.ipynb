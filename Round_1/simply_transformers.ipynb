{
  "nbformat": 4,
  "nbformat_minor": 0,
  "metadata": {
    "accelerator": "GPU",
    "colab": {
      "name": "round1.ipynb",
      "provenance": [],
      "toc_visible": true,
      "machine_shape": "hm"
    },
    "deepnote": {},
    "deepnote_execution_queue": [],
    "deepnote_notebook_id": "7c27ecd8-cadf-45e6-9a0a-3543fb627261",
    "kernelspec": {
      "display_name": "Python 3",
      "language": "python",
      "name": "python3"
    },
    "language_info": {
      "codemirror_mode": {
        "name": "ipython",
        "version": 3
      },
      "file_extension": ".py",
      "mimetype": "text/x-python",
      "name": "python",
      "nbconvert_exporter": "python",
      "pygments_lexer": "ipython3",
      "version": "3.8.8"
    },
    "widgets": {
      "application/vnd.jupyter.widget-state+json": {
        "caad2687347b4104a58d38c2056a52d1": {
          "model_module": "@jupyter-widgets/controls",
          "model_name": "HBoxModel",
          "state": {
            "_view_name": "HBoxView",
            "_dom_classes": [],
            "_model_name": "HBoxModel",
            "_view_module": "@jupyter-widgets/controls",
            "_model_module_version": "1.5.0",
            "_view_count": null,
            "_view_module_version": "1.5.0",
            "box_style": "",
            "layout": "IPY_MODEL_8ee44e8a1d51429ab61b14f5fd5c1d00",
            "_model_module": "@jupyter-widgets/controls",
            "children": [
              "IPY_MODEL_b5aac1c275f341a4acb773c3441b43a4",
              "IPY_MODEL_3e9b54b4229649c8b7d05d94c005c50d",
              "IPY_MODEL_d2b65693cb854d4a8f0d750a1a823d3c"
            ]
          }
        },
        "8ee44e8a1d51429ab61b14f5fd5c1d00": {
          "model_module": "@jupyter-widgets/base",
          "model_name": "LayoutModel",
          "state": {
            "_view_name": "LayoutView",
            "grid_template_rows": null,
            "right": null,
            "justify_content": null,
            "_view_module": "@jupyter-widgets/base",
            "overflow": null,
            "_model_module_version": "1.2.0",
            "_view_count": null,
            "flex_flow": null,
            "width": null,
            "min_width": null,
            "border": null,
            "align_items": null,
            "bottom": null,
            "_model_module": "@jupyter-widgets/base",
            "top": null,
            "grid_column": null,
            "overflow_y": null,
            "overflow_x": null,
            "grid_auto_flow": null,
            "grid_area": null,
            "grid_template_columns": null,
            "flex": null,
            "_model_name": "LayoutModel",
            "justify_items": null,
            "grid_row": null,
            "max_height": null,
            "align_content": null,
            "visibility": null,
            "align_self": null,
            "height": null,
            "min_height": null,
            "padding": null,
            "grid_auto_rows": null,
            "grid_gap": null,
            "max_width": null,
            "order": null,
            "_view_module_version": "1.2.0",
            "grid_template_areas": null,
            "object_position": null,
            "object_fit": null,
            "grid_auto_columns": null,
            "margin": null,
            "display": null,
            "left": null
          }
        },
        "b5aac1c275f341a4acb773c3441b43a4": {
          "model_module": "@jupyter-widgets/controls",
          "model_name": "HTMLModel",
          "state": {
            "_view_name": "HTMLView",
            "style": "IPY_MODEL_9f111fdc9201476ebd77d1ca9aa6a9ba",
            "_dom_classes": [],
            "description": "",
            "_model_name": "HTMLModel",
            "placeholder": "​",
            "_view_module": "@jupyter-widgets/controls",
            "_model_module_version": "1.5.0",
            "value": "  0%",
            "_view_count": null,
            "_view_module_version": "1.5.0",
            "description_tooltip": null,
            "_model_module": "@jupyter-widgets/controls",
            "layout": "IPY_MODEL_240ed6ca639e45079c8b47d8ded67e1f"
          }
        },
        "3e9b54b4229649c8b7d05d94c005c50d": {
          "model_module": "@jupyter-widgets/controls",
          "model_name": "FloatProgressModel",
          "state": {
            "_view_name": "ProgressView",
            "style": "IPY_MODEL_51e43455fdf24d05bda29fde747a2cdf",
            "_dom_classes": [],
            "description": "",
            "_model_name": "FloatProgressModel",
            "bar_style": "danger",
            "max": 4927,
            "_view_module": "@jupyter-widgets/controls",
            "_model_module_version": "1.5.0",
            "value": 10,
            "_view_count": null,
            "_view_module_version": "1.5.0",
            "orientation": "horizontal",
            "min": 0,
            "description_tooltip": null,
            "_model_module": "@jupyter-widgets/controls",
            "layout": "IPY_MODEL_b9187ca73b5b4a1091d24fe3059716dc"
          }
        },
        "d2b65693cb854d4a8f0d750a1a823d3c": {
          "model_module": "@jupyter-widgets/controls",
          "model_name": "HTMLModel",
          "state": {
            "_view_name": "HTMLView",
            "style": "IPY_MODEL_327ac225c9db4f1d8e73d43e1ea039dd",
            "_dom_classes": [],
            "description": "",
            "_model_name": "HTMLModel",
            "placeholder": "​",
            "_view_module": "@jupyter-widgets/controls",
            "_model_module_version": "1.5.0",
            "value": " 10/4927 [00:01&lt;13:33,  6.04it/s]",
            "_view_count": null,
            "_view_module_version": "1.5.0",
            "description_tooltip": null,
            "_model_module": "@jupyter-widgets/controls",
            "layout": "IPY_MODEL_c37693189fbf4b8d9fa9c9e1bf1cab25"
          }
        },
        "9f111fdc9201476ebd77d1ca9aa6a9ba": {
          "model_module": "@jupyter-widgets/controls",
          "model_name": "DescriptionStyleModel",
          "state": {
            "_view_name": "StyleView",
            "_model_name": "DescriptionStyleModel",
            "description_width": "",
            "_view_module": "@jupyter-widgets/base",
            "_model_module_version": "1.5.0",
            "_view_count": null,
            "_view_module_version": "1.2.0",
            "_model_module": "@jupyter-widgets/controls"
          }
        },
        "240ed6ca639e45079c8b47d8ded67e1f": {
          "model_module": "@jupyter-widgets/base",
          "model_name": "LayoutModel",
          "state": {
            "_view_name": "LayoutView",
            "grid_template_rows": null,
            "right": null,
            "justify_content": null,
            "_view_module": "@jupyter-widgets/base",
            "overflow": null,
            "_model_module_version": "1.2.0",
            "_view_count": null,
            "flex_flow": null,
            "width": null,
            "min_width": null,
            "border": null,
            "align_items": null,
            "bottom": null,
            "_model_module": "@jupyter-widgets/base",
            "top": null,
            "grid_column": null,
            "overflow_y": null,
            "overflow_x": null,
            "grid_auto_flow": null,
            "grid_area": null,
            "grid_template_columns": null,
            "flex": null,
            "_model_name": "LayoutModel",
            "justify_items": null,
            "grid_row": null,
            "max_height": null,
            "align_content": null,
            "visibility": null,
            "align_self": null,
            "height": null,
            "min_height": null,
            "padding": null,
            "grid_auto_rows": null,
            "grid_gap": null,
            "max_width": null,
            "order": null,
            "_view_module_version": "1.2.0",
            "grid_template_areas": null,
            "object_position": null,
            "object_fit": null,
            "grid_auto_columns": null,
            "margin": null,
            "display": null,
            "left": null
          }
        },
        "51e43455fdf24d05bda29fde747a2cdf": {
          "model_module": "@jupyter-widgets/controls",
          "model_name": "ProgressStyleModel",
          "state": {
            "_view_name": "StyleView",
            "_model_name": "ProgressStyleModel",
            "description_width": "",
            "_view_module": "@jupyter-widgets/base",
            "_model_module_version": "1.5.0",
            "_view_count": null,
            "_view_module_version": "1.2.0",
            "bar_color": null,
            "_model_module": "@jupyter-widgets/controls"
          }
        },
        "b9187ca73b5b4a1091d24fe3059716dc": {
          "model_module": "@jupyter-widgets/base",
          "model_name": "LayoutModel",
          "state": {
            "_view_name": "LayoutView",
            "grid_template_rows": null,
            "right": null,
            "justify_content": null,
            "_view_module": "@jupyter-widgets/base",
            "overflow": null,
            "_model_module_version": "1.2.0",
            "_view_count": null,
            "flex_flow": null,
            "width": null,
            "min_width": null,
            "border": null,
            "align_items": null,
            "bottom": null,
            "_model_module": "@jupyter-widgets/base",
            "top": null,
            "grid_column": null,
            "overflow_y": null,
            "overflow_x": null,
            "grid_auto_flow": null,
            "grid_area": null,
            "grid_template_columns": null,
            "flex": null,
            "_model_name": "LayoutModel",
            "justify_items": null,
            "grid_row": null,
            "max_height": null,
            "align_content": null,
            "visibility": null,
            "align_self": null,
            "height": null,
            "min_height": null,
            "padding": null,
            "grid_auto_rows": null,
            "grid_gap": null,
            "max_width": null,
            "order": null,
            "_view_module_version": "1.2.0",
            "grid_template_areas": null,
            "object_position": null,
            "object_fit": null,
            "grid_auto_columns": null,
            "margin": null,
            "display": null,
            "left": null
          }
        },
        "327ac225c9db4f1d8e73d43e1ea039dd": {
          "model_module": "@jupyter-widgets/controls",
          "model_name": "DescriptionStyleModel",
          "state": {
            "_view_name": "StyleView",
            "_model_name": "DescriptionStyleModel",
            "description_width": "",
            "_view_module": "@jupyter-widgets/base",
            "_model_module_version": "1.5.0",
            "_view_count": null,
            "_view_module_version": "1.2.0",
            "_model_module": "@jupyter-widgets/controls"
          }
        },
        "c37693189fbf4b8d9fa9c9e1bf1cab25": {
          "model_module": "@jupyter-widgets/base",
          "model_name": "LayoutModel",
          "state": {
            "_view_name": "LayoutView",
            "grid_template_rows": null,
            "right": null,
            "justify_content": null,
            "_view_module": "@jupyter-widgets/base",
            "overflow": null,
            "_model_module_version": "1.2.0",
            "_view_count": null,
            "flex_flow": null,
            "width": null,
            "min_width": null,
            "border": null,
            "align_items": null,
            "bottom": null,
            "_model_module": "@jupyter-widgets/base",
            "top": null,
            "grid_column": null,
            "overflow_y": null,
            "overflow_x": null,
            "grid_auto_flow": null,
            "grid_area": null,
            "grid_template_columns": null,
            "flex": null,
            "_model_name": "LayoutModel",
            "justify_items": null,
            "grid_row": null,
            "max_height": null,
            "align_content": null,
            "visibility": null,
            "align_self": null,
            "height": null,
            "min_height": null,
            "padding": null,
            "grid_auto_rows": null,
            "grid_gap": null,
            "max_width": null,
            "order": null,
            "_view_module_version": "1.2.0",
            "grid_template_areas": null,
            "object_position": null,
            "object_fit": null,
            "grid_auto_columns": null,
            "margin": null,
            "display": null,
            "left": null
          }
        },
        "118afee7ea304fbea2be085ac4b2f25a": {
          "model_module": "@jupyter-widgets/controls",
          "model_name": "HBoxModel",
          "state": {
            "_view_name": "HBoxView",
            "_dom_classes": [],
            "_model_name": "HBoxModel",
            "_view_module": "@jupyter-widgets/controls",
            "_model_module_version": "1.5.0",
            "_view_count": null,
            "_view_module_version": "1.5.0",
            "box_style": "",
            "layout": "IPY_MODEL_f0c9e23eaa3c44c88bb9393ffaa340fc",
            "_model_module": "@jupyter-widgets/controls",
            "children": [
              "IPY_MODEL_10c900c510464686b8bb9667af13bea0",
              "IPY_MODEL_05232ce592a544a7b320040a8cc55b13",
              "IPY_MODEL_ee10a72fd28c4b03a07f6e4999425c75"
            ]
          }
        },
        "f0c9e23eaa3c44c88bb9393ffaa340fc": {
          "model_module": "@jupyter-widgets/base",
          "model_name": "LayoutModel",
          "state": {
            "_view_name": "LayoutView",
            "grid_template_rows": null,
            "right": null,
            "justify_content": null,
            "_view_module": "@jupyter-widgets/base",
            "overflow": null,
            "_model_module_version": "1.2.0",
            "_view_count": null,
            "flex_flow": null,
            "width": null,
            "min_width": null,
            "border": null,
            "align_items": null,
            "bottom": null,
            "_model_module": "@jupyter-widgets/base",
            "top": null,
            "grid_column": null,
            "overflow_y": null,
            "overflow_x": null,
            "grid_auto_flow": null,
            "grid_area": null,
            "grid_template_columns": null,
            "flex": null,
            "_model_name": "LayoutModel",
            "justify_items": null,
            "grid_row": null,
            "max_height": null,
            "align_content": null,
            "visibility": null,
            "align_self": null,
            "height": null,
            "min_height": null,
            "padding": null,
            "grid_auto_rows": null,
            "grid_gap": null,
            "max_width": null,
            "order": null,
            "_view_module_version": "1.2.0",
            "grid_template_areas": null,
            "object_position": null,
            "object_fit": null,
            "grid_auto_columns": null,
            "margin": null,
            "display": null,
            "left": null
          }
        },
        "10c900c510464686b8bb9667af13bea0": {
          "model_module": "@jupyter-widgets/controls",
          "model_name": "HTMLModel",
          "state": {
            "_view_name": "HTMLView",
            "style": "IPY_MODEL_c2a6c40a1bf1470797bf89e1537a28c4",
            "_dom_classes": [],
            "description": "",
            "_model_name": "HTMLModel",
            "placeholder": "​",
            "_view_module": "@jupyter-widgets/controls",
            "_model_module_version": "1.5.0",
            "value": "Running Evaluation: 100%",
            "_view_count": null,
            "_view_module_version": "1.5.0",
            "description_tooltip": null,
            "_model_module": "@jupyter-widgets/controls",
            "layout": "IPY_MODEL_f4da4582a28142b883c38d07f004b0cd"
          }
        },
        "05232ce592a544a7b320040a8cc55b13": {
          "model_module": "@jupyter-widgets/controls",
          "model_name": "FloatProgressModel",
          "state": {
            "_view_name": "ProgressView",
            "style": "IPY_MODEL_fb7d2961fd4a4835af723b4dd4792a16",
            "_dom_classes": [],
            "description": "",
            "_model_name": "FloatProgressModel",
            "bar_style": "success",
            "max": 616,
            "_view_module": "@jupyter-widgets/controls",
            "_model_module_version": "1.5.0",
            "value": 616,
            "_view_count": null,
            "_view_module_version": "1.5.0",
            "orientation": "horizontal",
            "min": 0,
            "description_tooltip": null,
            "_model_module": "@jupyter-widgets/controls",
            "layout": "IPY_MODEL_bd8e69acebc84d9fb00030e8aa4de342"
          }
        },
        "ee10a72fd28c4b03a07f6e4999425c75": {
          "model_module": "@jupyter-widgets/controls",
          "model_name": "HTMLModel",
          "state": {
            "_view_name": "HTMLView",
            "style": "IPY_MODEL_809c5dc8b3e941779a2db0c9c8d7de72",
            "_dom_classes": [],
            "description": "",
            "_model_name": "HTMLModel",
            "placeholder": "​",
            "_view_module": "@jupyter-widgets/controls",
            "_model_module_version": "1.5.0",
            "value": " 616/616 [00:12&lt;00:00, 49.35it/s]",
            "_view_count": null,
            "_view_module_version": "1.5.0",
            "description_tooltip": null,
            "_model_module": "@jupyter-widgets/controls",
            "layout": "IPY_MODEL_476b687f3ca14df3bbc2d676e4424326"
          }
        },
        "c2a6c40a1bf1470797bf89e1537a28c4": {
          "model_module": "@jupyter-widgets/controls",
          "model_name": "DescriptionStyleModel",
          "state": {
            "_view_name": "StyleView",
            "_model_name": "DescriptionStyleModel",
            "description_width": "",
            "_view_module": "@jupyter-widgets/base",
            "_model_module_version": "1.5.0",
            "_view_count": null,
            "_view_module_version": "1.2.0",
            "_model_module": "@jupyter-widgets/controls"
          }
        },
        "f4da4582a28142b883c38d07f004b0cd": {
          "model_module": "@jupyter-widgets/base",
          "model_name": "LayoutModel",
          "state": {
            "_view_name": "LayoutView",
            "grid_template_rows": null,
            "right": null,
            "justify_content": null,
            "_view_module": "@jupyter-widgets/base",
            "overflow": null,
            "_model_module_version": "1.2.0",
            "_view_count": null,
            "flex_flow": null,
            "width": null,
            "min_width": null,
            "border": null,
            "align_items": null,
            "bottom": null,
            "_model_module": "@jupyter-widgets/base",
            "top": null,
            "grid_column": null,
            "overflow_y": null,
            "overflow_x": null,
            "grid_auto_flow": null,
            "grid_area": null,
            "grid_template_columns": null,
            "flex": null,
            "_model_name": "LayoutModel",
            "justify_items": null,
            "grid_row": null,
            "max_height": null,
            "align_content": null,
            "visibility": null,
            "align_self": null,
            "height": null,
            "min_height": null,
            "padding": null,
            "grid_auto_rows": null,
            "grid_gap": null,
            "max_width": null,
            "order": null,
            "_view_module_version": "1.2.0",
            "grid_template_areas": null,
            "object_position": null,
            "object_fit": null,
            "grid_auto_columns": null,
            "margin": null,
            "display": null,
            "left": null
          }
        },
        "fb7d2961fd4a4835af723b4dd4792a16": {
          "model_module": "@jupyter-widgets/controls",
          "model_name": "ProgressStyleModel",
          "state": {
            "_view_name": "StyleView",
            "_model_name": "ProgressStyleModel",
            "description_width": "",
            "_view_module": "@jupyter-widgets/base",
            "_model_module_version": "1.5.0",
            "_view_count": null,
            "_view_module_version": "1.2.0",
            "bar_color": null,
            "_model_module": "@jupyter-widgets/controls"
          }
        },
        "bd8e69acebc84d9fb00030e8aa4de342": {
          "model_module": "@jupyter-widgets/base",
          "model_name": "LayoutModel",
          "state": {
            "_view_name": "LayoutView",
            "grid_template_rows": null,
            "right": null,
            "justify_content": null,
            "_view_module": "@jupyter-widgets/base",
            "overflow": null,
            "_model_module_version": "1.2.0",
            "_view_count": null,
            "flex_flow": null,
            "width": null,
            "min_width": null,
            "border": null,
            "align_items": null,
            "bottom": null,
            "_model_module": "@jupyter-widgets/base",
            "top": null,
            "grid_column": null,
            "overflow_y": null,
            "overflow_x": null,
            "grid_auto_flow": null,
            "grid_area": null,
            "grid_template_columns": null,
            "flex": null,
            "_model_name": "LayoutModel",
            "justify_items": null,
            "grid_row": null,
            "max_height": null,
            "align_content": null,
            "visibility": null,
            "align_self": null,
            "height": null,
            "min_height": null,
            "padding": null,
            "grid_auto_rows": null,
            "grid_gap": null,
            "max_width": null,
            "order": null,
            "_view_module_version": "1.2.0",
            "grid_template_areas": null,
            "object_position": null,
            "object_fit": null,
            "grid_auto_columns": null,
            "margin": null,
            "display": null,
            "left": null
          }
        },
        "809c5dc8b3e941779a2db0c9c8d7de72": {
          "model_module": "@jupyter-widgets/controls",
          "model_name": "DescriptionStyleModel",
          "state": {
            "_view_name": "StyleView",
            "_model_name": "DescriptionStyleModel",
            "description_width": "",
            "_view_module": "@jupyter-widgets/base",
            "_model_module_version": "1.5.0",
            "_view_count": null,
            "_view_module_version": "1.2.0",
            "_model_module": "@jupyter-widgets/controls"
          }
        },
        "476b687f3ca14df3bbc2d676e4424326": {
          "model_module": "@jupyter-widgets/base",
          "model_name": "LayoutModel",
          "state": {
            "_view_name": "LayoutView",
            "grid_template_rows": null,
            "right": null,
            "justify_content": null,
            "_view_module": "@jupyter-widgets/base",
            "overflow": null,
            "_model_module_version": "1.2.0",
            "_view_count": null,
            "flex_flow": null,
            "width": null,
            "min_width": null,
            "border": null,
            "align_items": null,
            "bottom": null,
            "_model_module": "@jupyter-widgets/base",
            "top": null,
            "grid_column": null,
            "overflow_y": null,
            "overflow_x": null,
            "grid_auto_flow": null,
            "grid_area": null,
            "grid_template_columns": null,
            "flex": null,
            "_model_name": "LayoutModel",
            "justify_items": null,
            "grid_row": null,
            "max_height": null,
            "align_content": null,
            "visibility": null,
            "align_self": null,
            "height": null,
            "min_height": null,
            "padding": null,
            "grid_auto_rows": null,
            "grid_gap": null,
            "max_width": null,
            "order": null,
            "_view_module_version": "1.2.0",
            "grid_template_areas": null,
            "object_position": null,
            "object_fit": null,
            "grid_auto_columns": null,
            "margin": null,
            "display": null,
            "left": null
          }
        },
        "ad74569ac12f4ab6b960a66b1d4b7844": {
          "model_module": "@jupyter-widgets/controls",
          "model_name": "HBoxModel",
          "state": {
            "_view_name": "HBoxView",
            "_dom_classes": [],
            "_model_name": "HBoxModel",
            "_view_module": "@jupyter-widgets/controls",
            "_model_module_version": "1.5.0",
            "_view_count": null,
            "_view_module_version": "1.5.0",
            "box_style": "",
            "layout": "IPY_MODEL_3d1adec0feba4852965e93ad015f1564",
            "_model_module": "@jupyter-widgets/controls",
            "children": [
              "IPY_MODEL_897335c0ae074cbdbb6dfcdde7375068",
              "IPY_MODEL_3ad53b1cfc554134a0c6b454438b8c3d",
              "IPY_MODEL_df57e998bff1494880753c2e63ff4062"
            ]
          }
        },
        "3d1adec0feba4852965e93ad015f1564": {
          "model_module": "@jupyter-widgets/base",
          "model_name": "LayoutModel",
          "state": {
            "_view_name": "LayoutView",
            "grid_template_rows": null,
            "right": null,
            "justify_content": null,
            "_view_module": "@jupyter-widgets/base",
            "overflow": null,
            "_model_module_version": "1.2.0",
            "_view_count": null,
            "flex_flow": null,
            "width": null,
            "min_width": null,
            "border": null,
            "align_items": null,
            "bottom": null,
            "_model_module": "@jupyter-widgets/base",
            "top": null,
            "grid_column": null,
            "overflow_y": null,
            "overflow_x": null,
            "grid_auto_flow": null,
            "grid_area": null,
            "grid_template_columns": null,
            "flex": null,
            "_model_name": "LayoutModel",
            "justify_items": null,
            "grid_row": null,
            "max_height": null,
            "align_content": null,
            "visibility": null,
            "align_self": null,
            "height": null,
            "min_height": null,
            "padding": null,
            "grid_auto_rows": null,
            "grid_gap": null,
            "max_width": null,
            "order": null,
            "_view_module_version": "1.2.0",
            "grid_template_areas": null,
            "object_position": null,
            "object_fit": null,
            "grid_auto_columns": null,
            "margin": null,
            "display": null,
            "left": null
          }
        },
        "897335c0ae074cbdbb6dfcdde7375068": {
          "model_module": "@jupyter-widgets/controls",
          "model_name": "HTMLModel",
          "state": {
            "_view_name": "HTMLView",
            "style": "IPY_MODEL_158ed2f4b1ae4744af6386a25641905a",
            "_dom_classes": [],
            "description": "",
            "_model_name": "HTMLModel",
            "placeholder": "​",
            "_view_module": "@jupyter-widgets/controls",
            "_model_module_version": "1.5.0",
            "value": "  0%",
            "_view_count": null,
            "_view_module_version": "1.5.0",
            "description_tooltip": null,
            "_model_module": "@jupyter-widgets/controls",
            "layout": "IPY_MODEL_ee2a8f5e924d43cbb5eea45b8f51b513"
          }
        },
        "3ad53b1cfc554134a0c6b454438b8c3d": {
          "model_module": "@jupyter-widgets/controls",
          "model_name": "FloatProgressModel",
          "state": {
            "_view_name": "ProgressView",
            "style": "IPY_MODEL_cf5c7d8ed9d84f458a478e0f48b5f824",
            "_dom_classes": [],
            "description": "",
            "_model_name": "FloatProgressModel",
            "bar_style": "danger",
            "max": 56689,
            "_view_module": "@jupyter-widgets/controls",
            "_model_module_version": "1.5.0",
            "value": 114,
            "_view_count": null,
            "_view_module_version": "1.5.0",
            "orientation": "horizontal",
            "min": 0,
            "description_tooltip": null,
            "_model_module": "@jupyter-widgets/controls",
            "layout": "IPY_MODEL_0a2804eea6124f65b8b84ab8f1e6c021"
          }
        },
        "df57e998bff1494880753c2e63ff4062": {
          "model_module": "@jupyter-widgets/controls",
          "model_name": "HTMLModel",
          "state": {
            "_view_name": "HTMLView",
            "style": "IPY_MODEL_dbe3dd94d9fb45479ab7a31b93a7dc62",
            "_dom_classes": [],
            "description": "",
            "_model_name": "HTMLModel",
            "placeholder": "​",
            "_view_module": "@jupyter-widgets/controls",
            "_model_module_version": "1.5.0",
            "value": " 114/56689 [00:15&lt;2:23:22,  6.58it/s]",
            "_view_count": null,
            "_view_module_version": "1.5.0",
            "description_tooltip": null,
            "_model_module": "@jupyter-widgets/controls",
            "layout": "IPY_MODEL_b109515fdc294868b1ec8d9fe9aa47d6"
          }
        },
        "158ed2f4b1ae4744af6386a25641905a": {
          "model_module": "@jupyter-widgets/controls",
          "model_name": "DescriptionStyleModel",
          "state": {
            "_view_name": "StyleView",
            "_model_name": "DescriptionStyleModel",
            "description_width": "",
            "_view_module": "@jupyter-widgets/base",
            "_model_module_version": "1.5.0",
            "_view_count": null,
            "_view_module_version": "1.2.0",
            "_model_module": "@jupyter-widgets/controls"
          }
        },
        "ee2a8f5e924d43cbb5eea45b8f51b513": {
          "model_module": "@jupyter-widgets/base",
          "model_name": "LayoutModel",
          "state": {
            "_view_name": "LayoutView",
            "grid_template_rows": null,
            "right": null,
            "justify_content": null,
            "_view_module": "@jupyter-widgets/base",
            "overflow": null,
            "_model_module_version": "1.2.0",
            "_view_count": null,
            "flex_flow": null,
            "width": null,
            "min_width": null,
            "border": null,
            "align_items": null,
            "bottom": null,
            "_model_module": "@jupyter-widgets/base",
            "top": null,
            "grid_column": null,
            "overflow_y": null,
            "overflow_x": null,
            "grid_auto_flow": null,
            "grid_area": null,
            "grid_template_columns": null,
            "flex": null,
            "_model_name": "LayoutModel",
            "justify_items": null,
            "grid_row": null,
            "max_height": null,
            "align_content": null,
            "visibility": null,
            "align_self": null,
            "height": null,
            "min_height": null,
            "padding": null,
            "grid_auto_rows": null,
            "grid_gap": null,
            "max_width": null,
            "order": null,
            "_view_module_version": "1.2.0",
            "grid_template_areas": null,
            "object_position": null,
            "object_fit": null,
            "grid_auto_columns": null,
            "margin": null,
            "display": null,
            "left": null
          }
        },
        "cf5c7d8ed9d84f458a478e0f48b5f824": {
          "model_module": "@jupyter-widgets/controls",
          "model_name": "ProgressStyleModel",
          "state": {
            "_view_name": "StyleView",
            "_model_name": "ProgressStyleModel",
            "description_width": "",
            "_view_module": "@jupyter-widgets/base",
            "_model_module_version": "1.5.0",
            "_view_count": null,
            "_view_module_version": "1.2.0",
            "bar_color": null,
            "_model_module": "@jupyter-widgets/controls"
          }
        },
        "0a2804eea6124f65b8b84ab8f1e6c021": {
          "model_module": "@jupyter-widgets/base",
          "model_name": "LayoutModel",
          "state": {
            "_view_name": "LayoutView",
            "grid_template_rows": null,
            "right": null,
            "justify_content": null,
            "_view_module": "@jupyter-widgets/base",
            "overflow": null,
            "_model_module_version": "1.2.0",
            "_view_count": null,
            "flex_flow": null,
            "width": null,
            "min_width": null,
            "border": null,
            "align_items": null,
            "bottom": null,
            "_model_module": "@jupyter-widgets/base",
            "top": null,
            "grid_column": null,
            "overflow_y": null,
            "overflow_x": null,
            "grid_auto_flow": null,
            "grid_area": null,
            "grid_template_columns": null,
            "flex": null,
            "_model_name": "LayoutModel",
            "justify_items": null,
            "grid_row": null,
            "max_height": null,
            "align_content": null,
            "visibility": null,
            "align_self": null,
            "height": null,
            "min_height": null,
            "padding": null,
            "grid_auto_rows": null,
            "grid_gap": null,
            "max_width": null,
            "order": null,
            "_view_module_version": "1.2.0",
            "grid_template_areas": null,
            "object_position": null,
            "object_fit": null,
            "grid_auto_columns": null,
            "margin": null,
            "display": null,
            "left": null
          }
        },
        "dbe3dd94d9fb45479ab7a31b93a7dc62": {
          "model_module": "@jupyter-widgets/controls",
          "model_name": "DescriptionStyleModel",
          "state": {
            "_view_name": "StyleView",
            "_model_name": "DescriptionStyleModel",
            "description_width": "",
            "_view_module": "@jupyter-widgets/base",
            "_model_module_version": "1.5.0",
            "_view_count": null,
            "_view_module_version": "1.2.0",
            "_model_module": "@jupyter-widgets/controls"
          }
        },
        "b109515fdc294868b1ec8d9fe9aa47d6": {
          "model_module": "@jupyter-widgets/base",
          "model_name": "LayoutModel",
          "state": {
            "_view_name": "LayoutView",
            "grid_template_rows": null,
            "right": null,
            "justify_content": null,
            "_view_module": "@jupyter-widgets/base",
            "overflow": null,
            "_model_module_version": "1.2.0",
            "_view_count": null,
            "flex_flow": null,
            "width": null,
            "min_width": null,
            "border": null,
            "align_items": null,
            "bottom": null,
            "_model_module": "@jupyter-widgets/base",
            "top": null,
            "grid_column": null,
            "overflow_y": null,
            "overflow_x": null,
            "grid_auto_flow": null,
            "grid_area": null,
            "grid_template_columns": null,
            "flex": null,
            "_model_name": "LayoutModel",
            "justify_items": null,
            "grid_row": null,
            "max_height": null,
            "align_content": null,
            "visibility": null,
            "align_self": null,
            "height": null,
            "min_height": null,
            "padding": null,
            "grid_auto_rows": null,
            "grid_gap": null,
            "max_width": null,
            "order": null,
            "_view_module_version": "1.2.0",
            "grid_template_areas": null,
            "object_position": null,
            "object_fit": null,
            "grid_auto_columns": null,
            "margin": null,
            "display": null,
            "left": null
          }
        },
        "178275d441fc47779d3bf37846765f58": {
          "model_module": "@jupyter-widgets/controls",
          "model_name": "HBoxModel",
          "state": {
            "_view_name": "HBoxView",
            "_dom_classes": [],
            "_model_name": "HBoxModel",
            "_view_module": "@jupyter-widgets/controls",
            "_model_module_version": "1.5.0",
            "_view_count": null,
            "_view_module_version": "1.5.0",
            "box_style": "",
            "layout": "IPY_MODEL_8debcf2b45b84c25a86da7c6b25f2d4c",
            "_model_module": "@jupyter-widgets/controls",
            "children": [
              "IPY_MODEL_d13adb28a6dc4e568eba82ef05fce6e9",
              "IPY_MODEL_596f2158e0244f969522fc84a6dff202",
              "IPY_MODEL_c3fa238e81804b52a0e39bed3613839b"
            ]
          }
        },
        "8debcf2b45b84c25a86da7c6b25f2d4c": {
          "model_module": "@jupyter-widgets/base",
          "model_name": "LayoutModel",
          "state": {
            "_view_name": "LayoutView",
            "grid_template_rows": null,
            "right": null,
            "justify_content": null,
            "_view_module": "@jupyter-widgets/base",
            "overflow": null,
            "_model_module_version": "1.2.0",
            "_view_count": null,
            "flex_flow": null,
            "width": null,
            "min_width": null,
            "border": null,
            "align_items": null,
            "bottom": null,
            "_model_module": "@jupyter-widgets/base",
            "top": null,
            "grid_column": null,
            "overflow_y": null,
            "overflow_x": null,
            "grid_auto_flow": null,
            "grid_area": null,
            "grid_template_columns": null,
            "flex": null,
            "_model_name": "LayoutModel",
            "justify_items": null,
            "grid_row": null,
            "max_height": null,
            "align_content": null,
            "visibility": null,
            "align_self": null,
            "height": null,
            "min_height": null,
            "padding": null,
            "grid_auto_rows": null,
            "grid_gap": null,
            "max_width": null,
            "order": null,
            "_view_module_version": "1.2.0",
            "grid_template_areas": null,
            "object_position": null,
            "object_fit": null,
            "grid_auto_columns": null,
            "margin": null,
            "display": null,
            "left": null
          }
        },
        "d13adb28a6dc4e568eba82ef05fce6e9": {
          "model_module": "@jupyter-widgets/controls",
          "model_name": "HTMLModel",
          "state": {
            "_view_name": "HTMLView",
            "style": "IPY_MODEL_c910dc0da2a84f3da990c51995f7ac71",
            "_dom_classes": [],
            "description": "",
            "_model_name": "HTMLModel",
            "placeholder": "​",
            "_view_module": "@jupyter-widgets/controls",
            "_model_module_version": "1.5.0",
            "value": "100%",
            "_view_count": null,
            "_view_module_version": "1.5.0",
            "description_tooltip": null,
            "_model_module": "@jupyter-widgets/controls",
            "layout": "IPY_MODEL_bab9bffa5dcb4959a02b7680792609eb"
          }
        },
        "596f2158e0244f969522fc84a6dff202": {
          "model_module": "@jupyter-widgets/controls",
          "model_name": "FloatProgressModel",
          "state": {
            "_view_name": "ProgressView",
            "style": "IPY_MODEL_cffe9633710742b0b03f011c4106d5a6",
            "_dom_classes": [],
            "description": "",
            "_model_name": "FloatProgressModel",
            "bar_style": "success",
            "max": 7087,
            "_view_module": "@jupyter-widgets/controls",
            "_model_module_version": "1.5.0",
            "value": 7087,
            "_view_count": null,
            "_view_module_version": "1.5.0",
            "orientation": "horizontal",
            "min": 0,
            "description_tooltip": null,
            "_model_module": "@jupyter-widgets/controls",
            "layout": "IPY_MODEL_33b2b2be8007498c95f791d1522e04e0"
          }
        },
        "c3fa238e81804b52a0e39bed3613839b": {
          "model_module": "@jupyter-widgets/controls",
          "model_name": "HTMLModel",
          "state": {
            "_view_name": "HTMLView",
            "style": "IPY_MODEL_aef404da70ae46b8b59117bca612cf46",
            "_dom_classes": [],
            "description": "",
            "_model_name": "HTMLModel",
            "placeholder": "​",
            "_view_module": "@jupyter-widgets/controls",
            "_model_module_version": "1.5.0",
            "value": " 7087/7087 [02:25&lt;00:00, 48.79it/s]",
            "_view_count": null,
            "_view_module_version": "1.5.0",
            "description_tooltip": null,
            "_model_module": "@jupyter-widgets/controls",
            "layout": "IPY_MODEL_656b5d8dbd1442cd8c4ba170c311fa71"
          }
        },
        "c910dc0da2a84f3da990c51995f7ac71": {
          "model_module": "@jupyter-widgets/controls",
          "model_name": "DescriptionStyleModel",
          "state": {
            "_view_name": "StyleView",
            "_model_name": "DescriptionStyleModel",
            "description_width": "",
            "_view_module": "@jupyter-widgets/base",
            "_model_module_version": "1.5.0",
            "_view_count": null,
            "_view_module_version": "1.2.0",
            "_model_module": "@jupyter-widgets/controls"
          }
        },
        "bab9bffa5dcb4959a02b7680792609eb": {
          "model_module": "@jupyter-widgets/base",
          "model_name": "LayoutModel",
          "state": {
            "_view_name": "LayoutView",
            "grid_template_rows": null,
            "right": null,
            "justify_content": null,
            "_view_module": "@jupyter-widgets/base",
            "overflow": null,
            "_model_module_version": "1.2.0",
            "_view_count": null,
            "flex_flow": null,
            "width": null,
            "min_width": null,
            "border": null,
            "align_items": null,
            "bottom": null,
            "_model_module": "@jupyter-widgets/base",
            "top": null,
            "grid_column": null,
            "overflow_y": null,
            "overflow_x": null,
            "grid_auto_flow": null,
            "grid_area": null,
            "grid_template_columns": null,
            "flex": null,
            "_model_name": "LayoutModel",
            "justify_items": null,
            "grid_row": null,
            "max_height": null,
            "align_content": null,
            "visibility": null,
            "align_self": null,
            "height": null,
            "min_height": null,
            "padding": null,
            "grid_auto_rows": null,
            "grid_gap": null,
            "max_width": null,
            "order": null,
            "_view_module_version": "1.2.0",
            "grid_template_areas": null,
            "object_position": null,
            "object_fit": null,
            "grid_auto_columns": null,
            "margin": null,
            "display": null,
            "left": null
          }
        },
        "cffe9633710742b0b03f011c4106d5a6": {
          "model_module": "@jupyter-widgets/controls",
          "model_name": "ProgressStyleModel",
          "state": {
            "_view_name": "StyleView",
            "_model_name": "ProgressStyleModel",
            "description_width": "",
            "_view_module": "@jupyter-widgets/base",
            "_model_module_version": "1.5.0",
            "_view_count": null,
            "_view_module_version": "1.2.0",
            "bar_color": null,
            "_model_module": "@jupyter-widgets/controls"
          }
        },
        "33b2b2be8007498c95f791d1522e04e0": {
          "model_module": "@jupyter-widgets/base",
          "model_name": "LayoutModel",
          "state": {
            "_view_name": "LayoutView",
            "grid_template_rows": null,
            "right": null,
            "justify_content": null,
            "_view_module": "@jupyter-widgets/base",
            "overflow": null,
            "_model_module_version": "1.2.0",
            "_view_count": null,
            "flex_flow": null,
            "width": null,
            "min_width": null,
            "border": null,
            "align_items": null,
            "bottom": null,
            "_model_module": "@jupyter-widgets/base",
            "top": null,
            "grid_column": null,
            "overflow_y": null,
            "overflow_x": null,
            "grid_auto_flow": null,
            "grid_area": null,
            "grid_template_columns": null,
            "flex": null,
            "_model_name": "LayoutModel",
            "justify_items": null,
            "grid_row": null,
            "max_height": null,
            "align_content": null,
            "visibility": null,
            "align_self": null,
            "height": null,
            "min_height": null,
            "padding": null,
            "grid_auto_rows": null,
            "grid_gap": null,
            "max_width": null,
            "order": null,
            "_view_module_version": "1.2.0",
            "grid_template_areas": null,
            "object_position": null,
            "object_fit": null,
            "grid_auto_columns": null,
            "margin": null,
            "display": null,
            "left": null
          }
        },
        "aef404da70ae46b8b59117bca612cf46": {
          "model_module": "@jupyter-widgets/controls",
          "model_name": "DescriptionStyleModel",
          "state": {
            "_view_name": "StyleView",
            "_model_name": "DescriptionStyleModel",
            "description_width": "",
            "_view_module": "@jupyter-widgets/base",
            "_model_module_version": "1.5.0",
            "_view_count": null,
            "_view_module_version": "1.2.0",
            "_model_module": "@jupyter-widgets/controls"
          }
        },
        "656b5d8dbd1442cd8c4ba170c311fa71": {
          "model_module": "@jupyter-widgets/base",
          "model_name": "LayoutModel",
          "state": {
            "_view_name": "LayoutView",
            "grid_template_rows": null,
            "right": null,
            "justify_content": null,
            "_view_module": "@jupyter-widgets/base",
            "overflow": null,
            "_model_module_version": "1.2.0",
            "_view_count": null,
            "flex_flow": null,
            "width": null,
            "min_width": null,
            "border": null,
            "align_items": null,
            "bottom": null,
            "_model_module": "@jupyter-widgets/base",
            "top": null,
            "grid_column": null,
            "overflow_y": null,
            "overflow_x": null,
            "grid_auto_flow": null,
            "grid_area": null,
            "grid_template_columns": null,
            "flex": null,
            "_model_name": "LayoutModel",
            "justify_items": null,
            "grid_row": null,
            "max_height": null,
            "align_content": null,
            "visibility": null,
            "align_self": null,
            "height": null,
            "min_height": null,
            "padding": null,
            "grid_auto_rows": null,
            "grid_gap": null,
            "max_width": null,
            "order": null,
            "_view_module_version": "1.2.0",
            "grid_template_areas": null,
            "object_position": null,
            "object_fit": null,
            "grid_auto_columns": null,
            "margin": null,
            "display": null,
            "left": null
          }
        }
      }
    }
  },
  "cells": [
    {
      "cell_type": "code",
      "metadata": {
        "colab": {
          "base_uri": "https://localhost:8080/",
          "height": 1000
        },
        "id": "JduF1aghUd9p",
        "outputId": "da1781b8-e70e-42ef-c967-826596c0ead9"
      },
      "source": [
        "!pip install transformers\n",
        "!pip install simpletransformers"
      ],
      "execution_count": 1,
      "outputs": [
        {
          "output_type": "stream",
          "text": [
            "Collecting transformers\n",
            "\u001b[?25l  Downloading https://files.pythonhosted.org/packages/d5/43/cfe4ee779bbd6a678ac6a97c5a5cdeb03c35f9eaebbb9720b036680f9a2d/transformers-4.6.1-py3-none-any.whl (2.2MB)\n",
            "\r\u001b[K     |▏                               | 10kB 23.0MB/s eta 0:00:01\r\u001b[K     |▎                               | 20kB 30.3MB/s eta 0:00:01\r\u001b[K     |▍                               | 30kB 21.0MB/s eta 0:00:01\r\u001b[K     |▋                               | 40kB 16.9MB/s eta 0:00:01\r\u001b[K     |▊                               | 51kB 8.3MB/s eta 0:00:01\r\u001b[K     |▉                               | 61kB 8.6MB/s eta 0:00:01\r\u001b[K     |█                               | 71kB 8.9MB/s eta 0:00:01\r\u001b[K     |█▏                              | 81kB 9.8MB/s eta 0:00:01\r\u001b[K     |█▎                              | 92kB 10.2MB/s eta 0:00:01\r\u001b[K     |█▌                              | 102kB 8.1MB/s eta 0:00:01\r\u001b[K     |█▋                              | 112kB 8.1MB/s eta 0:00:01\r\u001b[K     |█▊                              | 122kB 8.1MB/s eta 0:00:01\r\u001b[K     |██                              | 133kB 8.1MB/s eta 0:00:01\r\u001b[K     |██                              | 143kB 8.1MB/s eta 0:00:01\r\u001b[K     |██▏                             | 153kB 8.1MB/s eta 0:00:01\r\u001b[K     |██▎                             | 163kB 8.1MB/s eta 0:00:01\r\u001b[K     |██▌                             | 174kB 8.1MB/s eta 0:00:01\r\u001b[K     |██▋                             | 184kB 8.1MB/s eta 0:00:01\r\u001b[K     |██▊                             | 194kB 8.1MB/s eta 0:00:01\r\u001b[K     |███                             | 204kB 8.1MB/s eta 0:00:01\r\u001b[K     |███                             | 215kB 8.1MB/s eta 0:00:01\r\u001b[K     |███▏                            | 225kB 8.1MB/s eta 0:00:01\r\u001b[K     |███▍                            | 235kB 8.1MB/s eta 0:00:01\r\u001b[K     |███▌                            | 245kB 8.1MB/s eta 0:00:01\r\u001b[K     |███▋                            | 256kB 8.1MB/s eta 0:00:01\r\u001b[K     |███▉                            | 266kB 8.1MB/s eta 0:00:01\r\u001b[K     |████                            | 276kB 8.1MB/s eta 0:00:01\r\u001b[K     |████                            | 286kB 8.1MB/s eta 0:00:01\r\u001b[K     |████▎                           | 296kB 8.1MB/s eta 0:00:01\r\u001b[K     |████▍                           | 307kB 8.1MB/s eta 0:00:01\r\u001b[K     |████▌                           | 317kB 8.1MB/s eta 0:00:01\r\u001b[K     |████▋                           | 327kB 8.1MB/s eta 0:00:01\r\u001b[K     |████▉                           | 337kB 8.1MB/s eta 0:00:01\r\u001b[K     |█████                           | 348kB 8.1MB/s eta 0:00:01\r\u001b[K     |█████                           | 358kB 8.1MB/s eta 0:00:01\r\u001b[K     |█████▎                          | 368kB 8.1MB/s eta 0:00:01\r\u001b[K     |█████▍                          | 378kB 8.1MB/s eta 0:00:01\r\u001b[K     |█████▌                          | 389kB 8.1MB/s eta 0:00:01\r\u001b[K     |█████▊                          | 399kB 8.1MB/s eta 0:00:01\r\u001b[K     |█████▉                          | 409kB 8.1MB/s eta 0:00:01\r\u001b[K     |██████                          | 419kB 8.1MB/s eta 0:00:01\r\u001b[K     |██████▏                         | 430kB 8.1MB/s eta 0:00:01\r\u001b[K     |██████▎                         | 440kB 8.1MB/s eta 0:00:01\r\u001b[K     |██████▍                         | 450kB 8.1MB/s eta 0:00:01\r\u001b[K     |██████▌                         | 460kB 8.1MB/s eta 0:00:01\r\u001b[K     |██████▊                         | 471kB 8.1MB/s eta 0:00:01\r\u001b[K     |██████▉                         | 481kB 8.1MB/s eta 0:00:01\r\u001b[K     |███████                         | 491kB 8.1MB/s eta 0:00:01\r\u001b[K     |███████▏                        | 501kB 8.1MB/s eta 0:00:01\r\u001b[K     |███████▎                        | 512kB 8.1MB/s eta 0:00:01\r\u001b[K     |███████▍                        | 522kB 8.1MB/s eta 0:00:01\r\u001b[K     |███████▋                        | 532kB 8.1MB/s eta 0:00:01\r\u001b[K     |███████▊                        | 542kB 8.1MB/s eta 0:00:01\r\u001b[K     |███████▉                        | 552kB 8.1MB/s eta 0:00:01\r\u001b[K     |████████                        | 563kB 8.1MB/s eta 0:00:01\r\u001b[K     |████████▏                       | 573kB 8.1MB/s eta 0:00:01\r\u001b[K     |████████▎                       | 583kB 8.1MB/s eta 0:00:01\r\u001b[K     |████████▌                       | 593kB 8.1MB/s eta 0:00:01\r\u001b[K     |████████▋                       | 604kB 8.1MB/s eta 0:00:01\r\u001b[K     |████████▊                       | 614kB 8.1MB/s eta 0:00:01\r\u001b[K     |████████▉                       | 624kB 8.1MB/s eta 0:00:01\r\u001b[K     |█████████                       | 634kB 8.1MB/s eta 0:00:01\r\u001b[K     |█████████▏                      | 645kB 8.1MB/s eta 0:00:01\r\u001b[K     |█████████▎                      | 655kB 8.1MB/s eta 0:00:01\r\u001b[K     |█████████▌                      | 665kB 8.1MB/s eta 0:00:01\r\u001b[K     |█████████▋                      | 675kB 8.1MB/s eta 0:00:01\r\u001b[K     |█████████▊                      | 686kB 8.1MB/s eta 0:00:01\r\u001b[K     |██████████                      | 696kB 8.1MB/s eta 0:00:01\r\u001b[K     |██████████                      | 706kB 8.1MB/s eta 0:00:01\r\u001b[K     |██████████▏                     | 716kB 8.1MB/s eta 0:00:01\r\u001b[K     |██████████▍                     | 727kB 8.1MB/s eta 0:00:01\r\u001b[K     |██████████▌                     | 737kB 8.1MB/s eta 0:00:01\r\u001b[K     |██████████▋                     | 747kB 8.1MB/s eta 0:00:01\r\u001b[K     |██████████▉                     | 757kB 8.1MB/s eta 0:00:01\r\u001b[K     |███████████                     | 768kB 8.1MB/s eta 0:00:01\r\u001b[K     |███████████                     | 778kB 8.1MB/s eta 0:00:01\r\u001b[K     |███████████▏                    | 788kB 8.1MB/s eta 0:00:01\r\u001b[K     |███████████▍                    | 798kB 8.1MB/s eta 0:00:01\r\u001b[K     |███████████▌                    | 808kB 8.1MB/s eta 0:00:01\r\u001b[K     |███████████▋                    | 819kB 8.1MB/s eta 0:00:01\r\u001b[K     |███████████▉                    | 829kB 8.1MB/s eta 0:00:01\r\u001b[K     |████████████                    | 839kB 8.1MB/s eta 0:00:01\r\u001b[K     |████████████                    | 849kB 8.1MB/s eta 0:00:01\r\u001b[K     |████████████▎                   | 860kB 8.1MB/s eta 0:00:01\r\u001b[K     |████████████▍                   | 870kB 8.1MB/s eta 0:00:01\r\u001b[K     |████████████▌                   | 880kB 8.1MB/s eta 0:00:01\r\u001b[K     |████████████▊                   | 890kB 8.1MB/s eta 0:00:01\r\u001b[K     |████████████▉                   | 901kB 8.1MB/s eta 0:00:01\r\u001b[K     |█████████████                   | 911kB 8.1MB/s eta 0:00:01\r\u001b[K     |█████████████                   | 921kB 8.1MB/s eta 0:00:01\r\u001b[K     |█████████████▎                  | 931kB 8.1MB/s eta 0:00:01\r\u001b[K     |█████████████▍                  | 942kB 8.1MB/s eta 0:00:01\r\u001b[K     |█████████████▌                  | 952kB 8.1MB/s eta 0:00:01\r\u001b[K     |█████████████▊                  | 962kB 8.1MB/s eta 0:00:01\r\u001b[K     |█████████████▉                  | 972kB 8.1MB/s eta 0:00:01\r\u001b[K     |██████████████                  | 983kB 8.1MB/s eta 0:00:01\r\u001b[K     |██████████████▏                 | 993kB 8.1MB/s eta 0:00:01\r\u001b[K     |██████████████▎                 | 1.0MB 8.1MB/s eta 0:00:01\r\u001b[K     |██████████████▍                 | 1.0MB 8.1MB/s eta 0:00:01\r\u001b[K     |██████████████▋                 | 1.0MB 8.1MB/s eta 0:00:01\r\u001b[K     |██████████████▊                 | 1.0MB 8.1MB/s eta 0:00:01\r\u001b[K     |██████████████▉                 | 1.0MB 8.1MB/s eta 0:00:01\r\u001b[K     |███████████████                 | 1.1MB 8.1MB/s eta 0:00:01\r\u001b[K     |███████████████▏                | 1.1MB 8.1MB/s eta 0:00:01\r\u001b[K     |███████████████▎                | 1.1MB 8.1MB/s eta 0:00:01\r\u001b[K     |███████████████▍                | 1.1MB 8.1MB/s eta 0:00:01\r\u001b[K     |███████████████▋                | 1.1MB 8.1MB/s eta 0:00:01\r\u001b[K     |███████████████▊                | 1.1MB 8.1MB/s eta 0:00:01\r\u001b[K     |███████████████▉                | 1.1MB 8.1MB/s eta 0:00:01\r\u001b[K     |████████████████                | 1.1MB 8.1MB/s eta 0:00:01\r\u001b[K     |████████████████▏               | 1.1MB 8.1MB/s eta 0:00:01\r\u001b[K     |████████████████▎               | 1.1MB 8.1MB/s eta 0:00:01\r\u001b[K     |████████████████▌               | 1.2MB 8.1MB/s eta 0:00:01\r\u001b[K     |████████████████▋               | 1.2MB 8.1MB/s eta 0:00:01\r\u001b[K     |████████████████▊               | 1.2MB 8.1MB/s eta 0:00:01\r\u001b[K     |█████████████████               | 1.2MB 8.1MB/s eta 0:00:01\r\u001b[K     |█████████████████               | 1.2MB 8.1MB/s eta 0:00:01\r\u001b[K     |█████████████████▏              | 1.2MB 8.1MB/s eta 0:00:01\r\u001b[K     |█████████████████▎              | 1.2MB 8.1MB/s eta 0:00:01\r\u001b[K     |█████████████████▌              | 1.2MB 8.1MB/s eta 0:00:01\r\u001b[K     |█████████████████▋              | 1.2MB 8.1MB/s eta 0:00:01\r\u001b[K     |█████████████████▊              | 1.2MB 8.1MB/s eta 0:00:01\r\u001b[K     |██████████████████              | 1.3MB 8.1MB/s eta 0:00:01\r\u001b[K     |██████████████████              | 1.3MB 8.1MB/s eta 0:00:01\r\u001b[K     |██████████████████▏             | 1.3MB 8.1MB/s eta 0:00:01\r\u001b[K     |██████████████████▍             | 1.3MB 8.1MB/s eta 0:00:01\r\u001b[K     |██████████████████▌             | 1.3MB 8.1MB/s eta 0:00:01\r\u001b[K     |██████████████████▋             | 1.3MB 8.1MB/s eta 0:00:01\r\u001b[K     |██████████████████▉             | 1.3MB 8.1MB/s eta 0:00:01\r\u001b[K     |███████████████████             | 1.3MB 8.1MB/s eta 0:00:01\r\u001b[K     |███████████████████             | 1.3MB 8.1MB/s eta 0:00:01\r\u001b[K     |███████████████████▎            | 1.4MB 8.1MB/s eta 0:00:01\r\u001b[K     |███████████████████▍            | 1.4MB 8.1MB/s eta 0:00:01\r\u001b[K     |███████████████████▌            | 1.4MB 8.1MB/s eta 0:00:01\r\u001b[K     |███████████████████▋            | 1.4MB 8.1MB/s eta 0:00:01\r\u001b[K     |███████████████████▉            | 1.4MB 8.1MB/s eta 0:00:01\r\u001b[K     |████████████████████            | 1.4MB 8.1MB/s eta 0:00:01\r\u001b[K     |████████████████████            | 1.4MB 8.1MB/s eta 0:00:01\r\u001b[K     |████████████████████▎           | 1.4MB 8.1MB/s eta 0:00:01\r\u001b[K     |████████████████████▍           | 1.4MB 8.1MB/s eta 0:00:01\r\u001b[K     |████████████████████▌           | 1.4MB 8.1MB/s eta 0:00:01\r\u001b[K     |████████████████████▊           | 1.5MB 8.1MB/s eta 0:00:01\r\u001b[K     |████████████████████▉           | 1.5MB 8.1MB/s eta 0:00:01\r\u001b[K     |█████████████████████           | 1.5MB 8.1MB/s eta 0:00:01\r\u001b[K     |█████████████████████▏          | 1.5MB 8.1MB/s eta 0:00:01\r\u001b[K     |█████████████████████▎          | 1.5MB 8.1MB/s eta 0:00:01\r\u001b[K     |█████████████████████▍          | 1.5MB 8.1MB/s eta 0:00:01\r\u001b[K     |█████████████████████▋          | 1.5MB 8.1MB/s eta 0:00:01\r\u001b[K     |█████████████████████▊          | 1.5MB 8.1MB/s eta 0:00:01\r\u001b[K     |█████████████████████▉          | 1.5MB 8.1MB/s eta 0:00:01\r\u001b[K     |██████████████████████          | 1.5MB 8.1MB/s eta 0:00:01\r\u001b[K     |██████████████████████▏         | 1.6MB 8.1MB/s eta 0:00:01\r\u001b[K     |██████████████████████▎         | 1.6MB 8.1MB/s eta 0:00:01\r\u001b[K     |██████████████████████▍         | 1.6MB 8.1MB/s eta 0:00:01\r\u001b[K     |██████████████████████▋         | 1.6MB 8.1MB/s eta 0:00:01\r\u001b[K     |██████████████████████▊         | 1.6MB 8.1MB/s eta 0:00:01\r\u001b[K     |██████████████████████▉         | 1.6MB 8.1MB/s eta 0:00:01\r\u001b[K     |███████████████████████         | 1.6MB 8.1MB/s eta 0:00:01\r\u001b[K     |███████████████████████▏        | 1.6MB 8.1MB/s eta 0:00:01\r\u001b[K     |███████████████████████▎        | 1.6MB 8.1MB/s eta 0:00:01\r\u001b[K     |███████████████████████▌        | 1.6MB 8.1MB/s eta 0:00:01\r\u001b[K     |███████████████████████▋        | 1.7MB 8.1MB/s eta 0:00:01\r\u001b[K     |███████████████████████▊        | 1.7MB 8.1MB/s eta 0:00:01\r\u001b[K     |███████████████████████▉        | 1.7MB 8.1MB/s eta 0:00:01\r\u001b[K     |████████████████████████        | 1.7MB 8.1MB/s eta 0:00:01\r\u001b[K     |████████████████████████▏       | 1.7MB 8.1MB/s eta 0:00:01\r\u001b[K     |████████████████████████▎       | 1.7MB 8.1MB/s eta 0:00:01\r\u001b[K     |████████████████████████▌       | 1.7MB 8.1MB/s eta 0:00:01\r\u001b[K     |████████████████████████▋       | 1.7MB 8.1MB/s eta 0:00:01\r\u001b[K     |████████████████████████▊       | 1.7MB 8.1MB/s eta 0:00:01\r\u001b[K     |█████████████████████████       | 1.8MB 8.1MB/s eta 0:00:01\r\u001b[K     |█████████████████████████       | 1.8MB 8.1MB/s eta 0:00:01\r\u001b[K     |█████████████████████████▏      | 1.8MB 8.1MB/s eta 0:00:01\r\u001b[K     |█████████████████████████▍      | 1.8MB 8.1MB/s eta 0:00:01\r\u001b[K     |█████████████████████████▌      | 1.8MB 8.1MB/s eta 0:00:01\r\u001b[K     |█████████████████████████▋      | 1.8MB 8.1MB/s eta 0:00:01\r\u001b[K     |█████████████████████████▉      | 1.8MB 8.1MB/s eta 0:00:01\r\u001b[K     |██████████████████████████      | 1.8MB 8.1MB/s eta 0:00:01\r\u001b[K     |██████████████████████████      | 1.8MB 8.1MB/s eta 0:00:01\r\u001b[K     |██████████████████████████▏     | 1.8MB 8.1MB/s eta 0:00:01\r\u001b[K     |██████████████████████████▍     | 1.9MB 8.1MB/s eta 0:00:01\r\u001b[K     |██████████████████████████▌     | 1.9MB 8.1MB/s eta 0:00:01\r\u001b[K     |██████████████████████████▋     | 1.9MB 8.1MB/s eta 0:00:01\r\u001b[K     |██████████████████████████▉     | 1.9MB 8.1MB/s eta 0:00:01\r\u001b[K     |███████████████████████████     | 1.9MB 8.1MB/s eta 0:00:01\r\u001b[K     |███████████████████████████     | 1.9MB 8.1MB/s eta 0:00:01\r\u001b[K     |███████████████████████████▎    | 1.9MB 8.1MB/s eta 0:00:01\r\u001b[K     |███████████████████████████▍    | 1.9MB 8.1MB/s eta 0:00:01\r\u001b[K     |███████████████████████████▌    | 1.9MB 8.1MB/s eta 0:00:01\r\u001b[K     |███████████████████████████▊    | 1.9MB 8.1MB/s eta 0:00:01\r\u001b[K     |███████████████████████████▉    | 2.0MB 8.1MB/s eta 0:00:01\r\u001b[K     |████████████████████████████    | 2.0MB 8.1MB/s eta 0:00:01\r\u001b[K     |████████████████████████████▏   | 2.0MB 8.1MB/s eta 0:00:01\r\u001b[K     |████████████████████████████▎   | 2.0MB 8.1MB/s eta 0:00:01\r\u001b[K     |████████████████████████████▍   | 2.0MB 8.1MB/s eta 0:00:01\r\u001b[K     |████████████████████████████▌   | 2.0MB 8.1MB/s eta 0:00:01\r\u001b[K     |████████████████████████████▊   | 2.0MB 8.1MB/s eta 0:00:01\r\u001b[K     |████████████████████████████▉   | 2.0MB 8.1MB/s eta 0:00:01\r\u001b[K     |█████████████████████████████   | 2.0MB 8.1MB/s eta 0:00:01\r\u001b[K     |█████████████████████████████▏  | 2.0MB 8.1MB/s eta 0:00:01\r\u001b[K     |█████████████████████████████▎  | 2.1MB 8.1MB/s eta 0:00:01\r\u001b[K     |█████████████████████████████▍  | 2.1MB 8.1MB/s eta 0:00:01\r\u001b[K     |█████████████████████████████▋  | 2.1MB 8.1MB/s eta 0:00:01\r\u001b[K     |█████████████████████████████▊  | 2.1MB 8.1MB/s eta 0:00:01\r\u001b[K     |█████████████████████████████▉  | 2.1MB 8.1MB/s eta 0:00:01\r\u001b[K     |██████████████████████████████  | 2.1MB 8.1MB/s eta 0:00:01\r\u001b[K     |██████████████████████████████▏ | 2.1MB 8.1MB/s eta 0:00:01\r\u001b[K     |██████████████████████████████▎ | 2.1MB 8.1MB/s eta 0:00:01\r\u001b[K     |██████████████████████████████▍ | 2.1MB 8.1MB/s eta 0:00:01\r\u001b[K     |██████████████████████████████▋ | 2.2MB 8.1MB/s eta 0:00:01\r\u001b[K     |██████████████████████████████▊ | 2.2MB 8.1MB/s eta 0:00:01\r\u001b[K     |██████████████████████████████▉ | 2.2MB 8.1MB/s eta 0:00:01\r\u001b[K     |███████████████████████████████ | 2.2MB 8.1MB/s eta 0:00:01\r\u001b[K     |███████████████████████████████▏| 2.2MB 8.1MB/s eta 0:00:01\r\u001b[K     |███████████████████████████████▎| 2.2MB 8.1MB/s eta 0:00:01\r\u001b[K     |███████████████████████████████▌| 2.2MB 8.1MB/s eta 0:00:01\r\u001b[K     |███████████████████████████████▋| 2.2MB 8.1MB/s eta 0:00:01\r\u001b[K     |███████████████████████████████▊| 2.2MB 8.1MB/s eta 0:00:01\r\u001b[K     |████████████████████████████████| 2.2MB 8.1MB/s eta 0:00:01\r\u001b[K     |████████████████████████████████| 2.3MB 8.1MB/s \n",
            "\u001b[?25hRequirement already satisfied: tqdm>=4.27 in /usr/local/lib/python3.7/dist-packages (from transformers) (4.41.1)\n",
            "Requirement already satisfied: numpy>=1.17 in /usr/local/lib/python3.7/dist-packages (from transformers) (1.19.5)\n",
            "Requirement already satisfied: requests in /usr/local/lib/python3.7/dist-packages (from transformers) (2.23.0)\n",
            "Requirement already satisfied: packaging in /usr/local/lib/python3.7/dist-packages (from transformers) (20.9)\n",
            "Requirement already satisfied: importlib-metadata; python_version < \"3.8\" in /usr/local/lib/python3.7/dist-packages (from transformers) (4.0.1)\n",
            "Collecting huggingface-hub==0.0.8\n",
            "  Downloading https://files.pythonhosted.org/packages/a1/88/7b1e45720ecf59c6c6737ff332f41c955963090a18e72acbcbeac6b25e86/huggingface_hub-0.0.8-py3-none-any.whl\n",
            "Requirement already satisfied: filelock in /usr/local/lib/python3.7/dist-packages (from transformers) (3.0.12)\n",
            "Collecting tokenizers<0.11,>=0.10.1\n",
            "\u001b[?25l  Downloading https://files.pythonhosted.org/packages/d4/e2/df3543e8ffdab68f5acc73f613de9c2b155ac47f162e725dcac87c521c11/tokenizers-0.10.3-cp37-cp37m-manylinux_2_5_x86_64.manylinux1_x86_64.manylinux_2_12_x86_64.manylinux2010_x86_64.whl (3.3MB)\n",
            "\u001b[K     |████████████████████████████████| 3.3MB 56.4MB/s \n",
            "\u001b[?25hCollecting sacremoses\n",
            "\u001b[?25l  Downloading https://files.pythonhosted.org/packages/75/ee/67241dc87f266093c533a2d4d3d69438e57d7a90abb216fa076e7d475d4a/sacremoses-0.0.45-py3-none-any.whl (895kB)\n",
            "\u001b[K     |████████████████████████████████| 901kB 62.5MB/s \n",
            "\u001b[?25hRequirement already satisfied: regex!=2019.12.17 in /usr/local/lib/python3.7/dist-packages (from transformers) (2019.12.20)\n",
            "Requirement already satisfied: chardet<4,>=3.0.2 in /usr/local/lib/python3.7/dist-packages (from requests->transformers) (3.0.4)\n",
            "Requirement already satisfied: certifi>=2017.4.17 in /usr/local/lib/python3.7/dist-packages (from requests->transformers) (2020.12.5)\n",
            "Requirement already satisfied: idna<3,>=2.5 in /usr/local/lib/python3.7/dist-packages (from requests->transformers) (2.10)\n",
            "Requirement already satisfied: urllib3!=1.25.0,!=1.25.1,<1.26,>=1.21.1 in /usr/local/lib/python3.7/dist-packages (from requests->transformers) (1.24.3)\n",
            "Requirement already satisfied: pyparsing>=2.0.2 in /usr/local/lib/python3.7/dist-packages (from packaging->transformers) (2.4.7)\n",
            "Requirement already satisfied: zipp>=0.5 in /usr/local/lib/python3.7/dist-packages (from importlib-metadata; python_version < \"3.8\"->transformers) (3.4.1)\n",
            "Requirement already satisfied: typing-extensions>=3.6.4; python_version < \"3.8\" in /usr/local/lib/python3.7/dist-packages (from importlib-metadata; python_version < \"3.8\"->transformers) (3.7.4.3)\n",
            "Requirement already satisfied: click in /usr/local/lib/python3.7/dist-packages (from sacremoses->transformers) (7.1.2)\n",
            "Requirement already satisfied: six in /usr/local/lib/python3.7/dist-packages (from sacremoses->transformers) (1.15.0)\n",
            "Requirement already satisfied: joblib in /usr/local/lib/python3.7/dist-packages (from sacremoses->transformers) (1.0.1)\n",
            "Installing collected packages: huggingface-hub, tokenizers, sacremoses, transformers\n",
            "Successfully installed huggingface-hub-0.0.8 sacremoses-0.0.45 tokenizers-0.10.3 transformers-4.6.1\n",
            "Collecting simpletransformers\n",
            "\u001b[?25l  Downloading https://files.pythonhosted.org/packages/af/62/c27d9781c7469d4abe7a6e6658120bfb4a41535e8212d11f9d41d379af5d/simpletransformers-0.61.5-py3-none-any.whl (220kB)\n",
            "\u001b[K     |████████████████████████████████| 225kB 6.8MB/s \n",
            "\u001b[?25hCollecting datasets\n",
            "\u001b[?25l  Downloading https://files.pythonhosted.org/packages/94/f8/ff7cd6e3b400b33dcbbfd31c6c1481678a2b2f669f521ad20053009a9aa3/datasets-1.7.0-py3-none-any.whl (234kB)\n",
            "\u001b[K     |████████████████████████████████| 235kB 10.5MB/s \n",
            "\u001b[?25hRequirement already satisfied: regex in /usr/local/lib/python3.7/dist-packages (from simpletransformers) (2019.12.20)\n",
            "Collecting tqdm>=4.47.0\n",
            "\u001b[?25l  Downloading https://files.pythonhosted.org/packages/42/d7/f357d98e9b50346bcb6095fe3ad205d8db3174eb5edb03edfe7c4099576d/tqdm-4.61.0-py2.py3-none-any.whl (75kB)\n",
            "\u001b[K     |████████████████████████████████| 81kB 8.5MB/s \n",
            "\u001b[?25hRequirement already satisfied: requests in /usr/local/lib/python3.7/dist-packages (from simpletransformers) (2.23.0)\n",
            "Requirement already satisfied: scipy in /usr/local/lib/python3.7/dist-packages (from simpletransformers) (1.4.1)\n",
            "Requirement already satisfied: numpy in /usr/local/lib/python3.7/dist-packages (from simpletransformers) (1.19.5)\n",
            "Collecting streamlit\n",
            "\u001b[?25l  Downloading https://files.pythonhosted.org/packages/04/11/57097e14f72a2d1b2a1bbe86c2a8bc375661bfd5c30b5e8cee7c2fad9a44/streamlit-0.82.0-py2.py3-none-any.whl (8.2MB)\n",
            "\u001b[K     |████████████████████████████████| 8.2MB 11.8MB/s \n",
            "\u001b[?25hCollecting sentencepiece\n",
            "\u001b[?25l  Downloading https://files.pythonhosted.org/packages/f5/99/e0808cb947ba10f575839c43e8fafc9cc44e4a7a2c8f79c60db48220a577/sentencepiece-0.1.95-cp37-cp37m-manylinux2014_x86_64.whl (1.2MB)\n",
            "\u001b[K     |████████████████████████████████| 1.2MB 66.4MB/s \n",
            "\u001b[?25hCollecting seqeval\n",
            "\u001b[?25l  Downloading https://files.pythonhosted.org/packages/9d/2d/233c79d5b4e5ab1dbf111242299153f3caddddbb691219f363ad55ce783d/seqeval-1.2.2.tar.gz (43kB)\n",
            "\u001b[K     |████████████████████████████████| 51kB 9.1MB/s \n",
            "\u001b[?25hRequirement already satisfied: tokenizers in /usr/local/lib/python3.7/dist-packages (from simpletransformers) (0.10.3)\n",
            "Requirement already satisfied: pandas in /usr/local/lib/python3.7/dist-packages (from simpletransformers) (1.1.5)\n",
            "Collecting wandb\n",
            "\u001b[?25l  Downloading https://files.pythonhosted.org/packages/6c/48/b199e2b3b341ac842108c5db4956091dd75d961cfa77aceb033e99cac20f/wandb-0.10.31-py2.py3-none-any.whl (1.8MB)\n",
            "\u001b[K     |████████████████████████████████| 1.8MB 52.0MB/s \n",
            "\u001b[?25hRequirement already satisfied: transformers>=4.2.0 in /usr/local/lib/python3.7/dist-packages (from simpletransformers) (4.6.1)\n",
            "Collecting tensorboardx\n",
            "\u001b[?25l  Downloading https://files.pythonhosted.org/packages/07/84/46421bd3e0e89a92682b1a38b40efc22dafb6d8e3d947e4ceefd4a5fabc7/tensorboardX-2.2-py2.py3-none-any.whl (120kB)\n",
            "\u001b[K     |████████████████████████████████| 122kB 57.8MB/s \n",
            "\u001b[?25hRequirement already satisfied: scikit-learn in /usr/local/lib/python3.7/dist-packages (from simpletransformers) (0.22.2.post1)\n",
            "Requirement already satisfied: importlib-metadata; python_version < \"3.8\" in /usr/local/lib/python3.7/dist-packages (from datasets->simpletransformers) (4.0.1)\n",
            "Requirement already satisfied: multiprocess in /usr/local/lib/python3.7/dist-packages (from datasets->simpletransformers) (0.70.11.1)\n",
            "Requirement already satisfied: pyarrow<4.0.0,>=1.0.0 in /usr/local/lib/python3.7/dist-packages (from datasets->simpletransformers) (3.0.0)\n",
            "Requirement already satisfied: dill in /usr/local/lib/python3.7/dist-packages (from datasets->simpletransformers) (0.3.3)\n",
            "Collecting fsspec\n",
            "\u001b[?25l  Downloading https://files.pythonhosted.org/packages/bc/52/816d1a3a599176057bf29dfacb1f8fadb61d35fbd96cb1bab4aaa7df83c0/fsspec-2021.5.0-py3-none-any.whl (111kB)\n",
            "\u001b[K     |████████████████████████████████| 112kB 59.4MB/s \n",
            "\u001b[?25hRequirement already satisfied: huggingface-hub<0.1.0 in /usr/local/lib/python3.7/dist-packages (from datasets->simpletransformers) (0.0.8)\n",
            "Collecting xxhash\n",
            "\u001b[?25l  Downloading https://files.pythonhosted.org/packages/7d/4f/0a862cad26aa2ed7a7cd87178cbbfa824fc1383e472d63596a0d018374e7/xxhash-2.0.2-cp37-cp37m-manylinux2010_x86_64.whl (243kB)\n",
            "\u001b[K     |████████████████████████████████| 245kB 48.2MB/s \n",
            "\u001b[?25hRequirement already satisfied: packaging in /usr/local/lib/python3.7/dist-packages (from datasets->simpletransformers) (20.9)\n",
            "Requirement already satisfied: chardet<4,>=3.0.2 in /usr/local/lib/python3.7/dist-packages (from requests->simpletransformers) (3.0.4)\n",
            "Requirement already satisfied: idna<3,>=2.5 in /usr/local/lib/python3.7/dist-packages (from requests->simpletransformers) (2.10)\n",
            "Requirement already satisfied: certifi>=2017.4.17 in /usr/local/lib/python3.7/dist-packages (from requests->simpletransformers) (2020.12.5)\n",
            "Requirement already satisfied: urllib3!=1.25.0,!=1.25.1,<1.26,>=1.21.1 in /usr/local/lib/python3.7/dist-packages (from requests->simpletransformers) (1.24.3)\n",
            "Collecting watchdog; platform_system != \"Darwin\"\n",
            "\u001b[?25l  Downloading https://files.pythonhosted.org/packages/f2/5b/36b3b11e557830de6fc1dc06e9aa3ee274119b8cea9cc98175dbbf72cf87/watchdog-2.1.2-py3-none-manylinux2014_x86_64.whl (74kB)\n",
            "\u001b[K     |████████████████████████████████| 81kB 10.5MB/s \n",
            "\u001b[?25hRequirement already satisfied: altair>=3.2.0 in /usr/local/lib/python3.7/dist-packages (from streamlit->simpletransformers) (4.1.0)\n",
            "Requirement already satisfied: click<8.0,>=7.0 in /usr/local/lib/python3.7/dist-packages (from streamlit->simpletransformers) (7.1.2)\n",
            "Requirement already satisfied: astor in /usr/local/lib/python3.7/dist-packages (from streamlit->simpletransformers) (0.8.1)\n",
            "Collecting base58\n",
            "  Downloading https://files.pythonhosted.org/packages/b8/a1/d9f565e9910c09fd325dc638765e8843a19fa696275c16cc08cf3b0a3c25/base58-2.1.0-py3-none-any.whl\n",
            "Requirement already satisfied: python-dateutil in /usr/local/lib/python3.7/dist-packages (from streamlit->simpletransformers) (2.8.1)\n",
            "Requirement already satisfied: protobuf!=3.11,>=3.6.0 in /usr/local/lib/python3.7/dist-packages (from streamlit->simpletransformers) (3.12.4)\n",
            "Collecting gitpython\n",
            "\u001b[?25l  Downloading https://files.pythonhosted.org/packages/27/da/6f6224fdfc47dab57881fe20c0d1bc3122be290198ba0bf26a953a045d92/GitPython-3.1.17-py3-none-any.whl (166kB)\n",
            "\u001b[K     |████████████████████████████████| 174kB 65.7MB/s \n",
            "\u001b[?25hRequirement already satisfied: pillow>=6.2.0 in /usr/local/lib/python3.7/dist-packages (from streamlit->simpletransformers) (7.1.2)\n",
            "Collecting pydeck>=0.1.dev5\n",
            "\u001b[?25l  Downloading https://files.pythonhosted.org/packages/d6/bc/f0e44828e4290367c869591d50d3671a4d0ee94926da6cb734b7b200308c/pydeck-0.6.2-py2.py3-none-any.whl (4.2MB)\n",
            "\u001b[K     |████████████████████████████████| 4.2MB 43.2MB/s \n",
            "\u001b[?25hCollecting validators\n",
            "  Downloading https://files.pythonhosted.org/packages/db/2f/7fed3ee94ad665ad2c1de87f858f10a7785251ff75b4fd47987888d07ef1/validators-0.18.2-py3-none-any.whl\n",
            "Collecting blinker\n",
            "\u001b[?25l  Downloading https://files.pythonhosted.org/packages/1b/51/e2a9f3b757eb802f61dc1f2b09c8c99f6eb01cf06416c0671253536517b6/blinker-1.4.tar.gz (111kB)\n",
            "\u001b[K     |████████████████████████████████| 112kB 71.4MB/s \n",
            "\u001b[?25hRequirement already satisfied: tornado>=5.0 in /usr/local/lib/python3.7/dist-packages (from streamlit->simpletransformers) (5.1.1)\n",
            "Requirement already satisfied: toml in /usr/local/lib/python3.7/dist-packages (from streamlit->simpletransformers) (0.10.2)\n",
            "Requirement already satisfied: cachetools>=4.0 in /usr/local/lib/python3.7/dist-packages (from streamlit->simpletransformers) (4.2.2)\n",
            "Requirement already satisfied: tzlocal in /usr/local/lib/python3.7/dist-packages (from streamlit->simpletransformers) (1.5.1)\n",
            "Requirement already satisfied: pytz>=2017.2 in /usr/local/lib/python3.7/dist-packages (from pandas->simpletransformers) (2018.9)\n",
            "Collecting subprocess32>=3.5.3\n",
            "\u001b[?25l  Downloading https://files.pythonhosted.org/packages/32/c8/564be4d12629b912ea431f1a50eb8b3b9d00f1a0b1ceff17f266be190007/subprocess32-3.5.4.tar.gz (97kB)\n",
            "\u001b[K     |████████████████████████████████| 102kB 15.2MB/s \n",
            "\u001b[?25hCollecting pathtools\n",
            "  Downloading https://files.pythonhosted.org/packages/e7/7f/470d6fcdf23f9f3518f6b0b76be9df16dcc8630ad409947f8be2eb0ed13a/pathtools-0.1.2.tar.gz\n",
            "Collecting configparser>=3.8.1\n",
            "  Downloading https://files.pythonhosted.org/packages/fd/01/ff260a18caaf4457eb028c96eeb405c4a230ca06c8ec9c1379f813caa52e/configparser-5.0.2-py3-none-any.whl\n",
            "Requirement already satisfied: promise<3,>=2.0 in /usr/local/lib/python3.7/dist-packages (from wandb->simpletransformers) (2.3)\n",
            "Collecting shortuuid>=0.5.0\n",
            "  Downloading https://files.pythonhosted.org/packages/25/a6/2ecc1daa6a304e7f1b216f0896b26156b78e7c38e1211e9b798b4716c53d/shortuuid-1.0.1-py3-none-any.whl\n",
            "Requirement already satisfied: psutil>=5.0.0 in /usr/local/lib/python3.7/dist-packages (from wandb->simpletransformers) (5.4.8)\n",
            "Collecting docker-pycreds>=0.4.0\n",
            "  Downloading https://files.pythonhosted.org/packages/f5/e8/f6bd1eee09314e7e6dee49cbe2c5e22314ccdb38db16c9fc72d2fa80d054/docker_pycreds-0.4.0-py2.py3-none-any.whl\n",
            "Requirement already satisfied: PyYAML in /usr/local/lib/python3.7/dist-packages (from wandb->simpletransformers) (3.13)\n",
            "Requirement already satisfied: six>=1.13.0 in /usr/local/lib/python3.7/dist-packages (from wandb->simpletransformers) (1.15.0)\n",
            "Collecting sentry-sdk>=0.4.0\n",
            "\u001b[?25l  Downloading https://files.pythonhosted.org/packages/1c/4a/a54b254f67d8f4052338d54ebe90126f200693440a93ef76d254d581e3ec/sentry_sdk-1.1.0-py2.py3-none-any.whl (131kB)\n",
            "\u001b[K     |████████████████████████████████| 133kB 67.2MB/s \n",
            "\u001b[?25hRequirement already satisfied: sacremoses in /usr/local/lib/python3.7/dist-packages (from transformers>=4.2.0->simpletransformers) (0.0.45)\n",
            "Requirement already satisfied: filelock in /usr/local/lib/python3.7/dist-packages (from transformers>=4.2.0->simpletransformers) (3.0.12)\n",
            "Requirement already satisfied: joblib>=0.11 in /usr/local/lib/python3.7/dist-packages (from scikit-learn->simpletransformers) (1.0.1)\n",
            "Requirement already satisfied: zipp>=0.5 in /usr/local/lib/python3.7/dist-packages (from importlib-metadata; python_version < \"3.8\"->datasets->simpletransformers) (3.4.1)\n",
            "Requirement already satisfied: typing-extensions>=3.6.4; python_version < \"3.8\" in /usr/local/lib/python3.7/dist-packages (from importlib-metadata; python_version < \"3.8\"->datasets->simpletransformers) (3.7.4.3)\n",
            "Requirement already satisfied: pyparsing>=2.0.2 in /usr/local/lib/python3.7/dist-packages (from packaging->datasets->simpletransformers) (2.4.7)\n",
            "Requirement already satisfied: entrypoints in /usr/local/lib/python3.7/dist-packages (from altair>=3.2.0->streamlit->simpletransformers) (0.3)\n",
            "Requirement already satisfied: toolz in /usr/local/lib/python3.7/dist-packages (from altair>=3.2.0->streamlit->simpletransformers) (0.11.1)\n",
            "Requirement already satisfied: jinja2 in /usr/local/lib/python3.7/dist-packages (from altair>=3.2.0->streamlit->simpletransformers) (2.11.3)\n",
            "Requirement already satisfied: jsonschema in /usr/local/lib/python3.7/dist-packages (from altair>=3.2.0->streamlit->simpletransformers) (2.6.0)\n",
            "Requirement already satisfied: setuptools in /usr/local/lib/python3.7/dist-packages (from protobuf!=3.11,>=3.6.0->streamlit->simpletransformers) (56.1.0)\n",
            "Collecting gitdb<5,>=4.0.1\n",
            "\u001b[?25l  Downloading https://files.pythonhosted.org/packages/ea/e8/f414d1a4f0bbc668ed441f74f44c116d9816833a48bf81d22b697090dba8/gitdb-4.0.7-py3-none-any.whl (63kB)\n",
            "\u001b[K     |████████████████████████████████| 71kB 11.0MB/s \n",
            "\u001b[?25hCollecting ipykernel>=5.1.2; python_version >= \"3.4\"\n",
            "\u001b[?25l  Downloading https://files.pythonhosted.org/packages/90/6d/6c8fe4b658f77947d4244ce81f60230c4c8d1dc1a21ae83e63b269339178/ipykernel-5.5.5-py3-none-any.whl (120kB)\n",
            "\u001b[K     |████████████████████████████████| 122kB 74.3MB/s \n",
            "\u001b[?25hRequirement already satisfied: traitlets>=4.3.2 in /usr/local/lib/python3.7/dist-packages (from pydeck>=0.1.dev5->streamlit->simpletransformers) (5.0.5)\n",
            "Requirement already satisfied: ipywidgets>=7.0.0 in /usr/local/lib/python3.7/dist-packages (from pydeck>=0.1.dev5->streamlit->simpletransformers) (7.6.3)\n",
            "Requirement already satisfied: decorator>=3.4.0 in /usr/local/lib/python3.7/dist-packages (from validators->streamlit->simpletransformers) (4.4.2)\n",
            "Requirement already satisfied: MarkupSafe>=0.23 in /usr/local/lib/python3.7/dist-packages (from jinja2->altair>=3.2.0->streamlit->simpletransformers) (2.0.1)\n",
            "Collecting smmap<5,>=3.0.1\n",
            "  Downloading https://files.pythonhosted.org/packages/68/ee/d540eb5e5996eb81c26ceffac6ee49041d473bc5125f2aa995cf51ec1cf1/smmap-4.0.0-py2.py3-none-any.whl\n",
            "Requirement already satisfied: ipython>=5.0.0 in /usr/local/lib/python3.7/dist-packages (from ipykernel>=5.1.2; python_version >= \"3.4\"->pydeck>=0.1.dev5->streamlit->simpletransformers) (5.5.0)\n",
            "Requirement already satisfied: jupyter-client in /usr/local/lib/python3.7/dist-packages (from ipykernel>=5.1.2; python_version >= \"3.4\"->pydeck>=0.1.dev5->streamlit->simpletransformers) (5.3.5)\n",
            "Requirement already satisfied: ipython-genutils in /usr/local/lib/python3.7/dist-packages (from traitlets>=4.3.2->pydeck>=0.1.dev5->streamlit->simpletransformers) (0.2.0)\n",
            "Requirement already satisfied: nbformat>=4.2.0 in /usr/local/lib/python3.7/dist-packages (from ipywidgets>=7.0.0->pydeck>=0.1.dev5->streamlit->simpletransformers) (5.1.3)\n",
            "Requirement already satisfied: jupyterlab-widgets>=1.0.0; python_version >= \"3.6\" in /usr/local/lib/python3.7/dist-packages (from ipywidgets>=7.0.0->pydeck>=0.1.dev5->streamlit->simpletransformers) (1.0.0)\n",
            "Requirement already satisfied: widgetsnbextension~=3.5.0 in /usr/local/lib/python3.7/dist-packages (from ipywidgets>=7.0.0->pydeck>=0.1.dev5->streamlit->simpletransformers) (3.5.1)\n",
            "Requirement already satisfied: pexpect; sys_platform != \"win32\" in /usr/local/lib/python3.7/dist-packages (from ipython>=5.0.0->ipykernel>=5.1.2; python_version >= \"3.4\"->pydeck>=0.1.dev5->streamlit->simpletransformers) (4.8.0)\n",
            "Requirement already satisfied: simplegeneric>0.8 in /usr/local/lib/python3.7/dist-packages (from ipython>=5.0.0->ipykernel>=5.1.2; python_version >= \"3.4\"->pydeck>=0.1.dev5->streamlit->simpletransformers) (0.8.1)\n",
            "Requirement already satisfied: pygments in /usr/local/lib/python3.7/dist-packages (from ipython>=5.0.0->ipykernel>=5.1.2; python_version >= \"3.4\"->pydeck>=0.1.dev5->streamlit->simpletransformers) (2.6.1)\n",
            "Requirement already satisfied: prompt-toolkit<2.0.0,>=1.0.4 in /usr/local/lib/python3.7/dist-packages (from ipython>=5.0.0->ipykernel>=5.1.2; python_version >= \"3.4\"->pydeck>=0.1.dev5->streamlit->simpletransformers) (1.0.18)\n",
            "Requirement already satisfied: pickleshare in /usr/local/lib/python3.7/dist-packages (from ipython>=5.0.0->ipykernel>=5.1.2; python_version >= \"3.4\"->pydeck>=0.1.dev5->streamlit->simpletransformers) (0.7.5)\n",
            "Requirement already satisfied: jupyter-core>=4.6.0 in /usr/local/lib/python3.7/dist-packages (from jupyter-client->ipykernel>=5.1.2; python_version >= \"3.4\"->pydeck>=0.1.dev5->streamlit->simpletransformers) (4.7.1)\n",
            "Requirement already satisfied: pyzmq>=13 in /usr/local/lib/python3.7/dist-packages (from jupyter-client->ipykernel>=5.1.2; python_version >= \"3.4\"->pydeck>=0.1.dev5->streamlit->simpletransformers) (22.0.3)\n",
            "Requirement already satisfied: notebook>=4.4.1 in /usr/local/lib/python3.7/dist-packages (from widgetsnbextension~=3.5.0->ipywidgets>=7.0.0->pydeck>=0.1.dev5->streamlit->simpletransformers) (5.3.1)\n",
            "Requirement already satisfied: ptyprocess>=0.5 in /usr/local/lib/python3.7/dist-packages (from pexpect; sys_platform != \"win32\"->ipython>=5.0.0->ipykernel>=5.1.2; python_version >= \"3.4\"->pydeck>=0.1.dev5->streamlit->simpletransformers) (0.7.0)\n",
            "Requirement already satisfied: wcwidth in /usr/local/lib/python3.7/dist-packages (from prompt-toolkit<2.0.0,>=1.0.4->ipython>=5.0.0->ipykernel>=5.1.2; python_version >= \"3.4\"->pydeck>=0.1.dev5->streamlit->simpletransformers) (0.2.5)\n",
            "Requirement already satisfied: nbconvert in /usr/local/lib/python3.7/dist-packages (from notebook>=4.4.1->widgetsnbextension~=3.5.0->ipywidgets>=7.0.0->pydeck>=0.1.dev5->streamlit->simpletransformers) (5.6.1)\n",
            "Requirement already satisfied: terminado>=0.8.1 in /usr/local/lib/python3.7/dist-packages (from notebook>=4.4.1->widgetsnbextension~=3.5.0->ipywidgets>=7.0.0->pydeck>=0.1.dev5->streamlit->simpletransformers) (0.10.0)\n",
            "Requirement already satisfied: Send2Trash in /usr/local/lib/python3.7/dist-packages (from notebook>=4.4.1->widgetsnbextension~=3.5.0->ipywidgets>=7.0.0->pydeck>=0.1.dev5->streamlit->simpletransformers) (1.5.0)\n",
            "Requirement already satisfied: testpath in /usr/local/lib/python3.7/dist-packages (from nbconvert->notebook>=4.4.1->widgetsnbextension~=3.5.0->ipywidgets>=7.0.0->pydeck>=0.1.dev5->streamlit->simpletransformers) (0.5.0)\n",
            "Requirement already satisfied: bleach in /usr/local/lib/python3.7/dist-packages (from nbconvert->notebook>=4.4.1->widgetsnbextension~=3.5.0->ipywidgets>=7.0.0->pydeck>=0.1.dev5->streamlit->simpletransformers) (3.3.0)\n",
            "Requirement already satisfied: pandocfilters>=1.4.1 in /usr/local/lib/python3.7/dist-packages (from nbconvert->notebook>=4.4.1->widgetsnbextension~=3.5.0->ipywidgets>=7.0.0->pydeck>=0.1.dev5->streamlit->simpletransformers) (1.4.3)\n",
            "Requirement already satisfied: mistune<2,>=0.8.1 in /usr/local/lib/python3.7/dist-packages (from nbconvert->notebook>=4.4.1->widgetsnbextension~=3.5.0->ipywidgets>=7.0.0->pydeck>=0.1.dev5->streamlit->simpletransformers) (0.8.4)\n",
            "Requirement already satisfied: defusedxml in /usr/local/lib/python3.7/dist-packages (from nbconvert->notebook>=4.4.1->widgetsnbextension~=3.5.0->ipywidgets>=7.0.0->pydeck>=0.1.dev5->streamlit->simpletransformers) (0.7.1)\n",
            "Requirement already satisfied: webencodings in /usr/local/lib/python3.7/dist-packages (from bleach->nbconvert->notebook>=4.4.1->widgetsnbextension~=3.5.0->ipywidgets>=7.0.0->pydeck>=0.1.dev5->streamlit->simpletransformers) (0.5.1)\n",
            "Building wheels for collected packages: seqeval, blinker, subprocess32, pathtools\n",
            "  Building wheel for seqeval (setup.py) ... \u001b[?25l\u001b[?25hdone\n",
            "  Created wheel for seqeval: filename=seqeval-1.2.2-cp37-none-any.whl size=16172 sha256=fcc3e1781f5b27bc455b8fe06bfd12b1e741962baf711de17daf50a05bc0f3af\n",
            "  Stored in directory: /root/.cache/pip/wheels/52/df/1b/45d75646c37428f7e626214704a0e35bd3cfc32eda37e59e5f\n",
            "  Building wheel for blinker (setup.py) ... \u001b[?25l\u001b[?25hdone\n",
            "  Created wheel for blinker: filename=blinker-1.4-cp37-none-any.whl size=13448 sha256=13c95441d18e3cba80f0a91c247edfe522dc2e05f476608badd93e3c5a75cb0d\n",
            "  Stored in directory: /root/.cache/pip/wheels/92/a0/00/8690a57883956a301d91cf4ec999cc0b258b01e3f548f86e89\n",
            "  Building wheel for subprocess32 (setup.py) ... \u001b[?25l\u001b[?25hdone\n",
            "  Created wheel for subprocess32: filename=subprocess32-3.5.4-cp37-none-any.whl size=6489 sha256=c797f7785dc6fb115be428c94244bf68fde9d0d3d49cfc26a2ef14093e41a871\n",
            "  Stored in directory: /root/.cache/pip/wheels/68/39/1a/5e402bdfdf004af1786c8b853fd92f8c4a04f22aad179654d1\n",
            "  Building wheel for pathtools (setup.py) ... \u001b[?25l\u001b[?25hdone\n",
            "  Created wheel for pathtools: filename=pathtools-0.1.2-cp37-none-any.whl size=8786 sha256=f8ecff0cdbcc271e56858920cf75c96d0bd38fa5498e95800e2124b9944666ea\n",
            "  Stored in directory: /root/.cache/pip/wheels/0b/04/79/c3b0c3a0266a3cb4376da31e5bfe8bba0c489246968a68e843\n",
            "Successfully built seqeval blinker subprocess32 pathtools\n",
            "\u001b[31mERROR: google-colab 1.0.0 has requirement ipykernel~=4.10, but you'll have ipykernel 5.5.5 which is incompatible.\u001b[0m\n",
            "\u001b[31mERROR: datasets 1.7.0 has requirement tqdm<4.50.0,>=4.27, but you'll have tqdm 4.61.0 which is incompatible.\u001b[0m\n",
            "Installing collected packages: tqdm, fsspec, xxhash, datasets, watchdog, base58, smmap, gitdb, gitpython, ipykernel, pydeck, validators, blinker, streamlit, sentencepiece, seqeval, subprocess32, pathtools, configparser, shortuuid, docker-pycreds, sentry-sdk, wandb, tensorboardx, simpletransformers\n",
            "  Found existing installation: tqdm 4.41.1\n",
            "    Uninstalling tqdm-4.41.1:\n",
            "      Successfully uninstalled tqdm-4.41.1\n",
            "  Found existing installation: ipykernel 4.10.1\n",
            "    Uninstalling ipykernel-4.10.1:\n",
            "      Successfully uninstalled ipykernel-4.10.1\n",
            "Successfully installed base58-2.1.0 blinker-1.4 configparser-5.0.2 datasets-1.7.0 docker-pycreds-0.4.0 fsspec-2021.5.0 gitdb-4.0.7 gitpython-3.1.17 ipykernel-5.5.5 pathtools-0.1.2 pydeck-0.6.2 sentencepiece-0.1.95 sentry-sdk-1.1.0 seqeval-1.2.2 shortuuid-1.0.1 simpletransformers-0.61.5 smmap-4.0.0 streamlit-0.82.0 subprocess32-3.5.4 tensorboardx-2.2 tqdm-4.61.0 validators-0.18.2 wandb-0.10.31 watchdog-2.1.2 xxhash-2.0.2\n"
          ],
          "name": "stdout"
        },
        {
          "output_type": "display_data",
          "data": {
            "application/vnd.colab-display-data+json": {
              "pip_warning": {
                "packages": [
                  "ipykernel"
                ]
              }
            }
          },
          "metadata": {
            "tags": []
          }
        }
      ]
    },
    {
      "cell_type": "code",
      "metadata": {
        "id": "OIsAgotZJJTf"
      },
      "source": [
        "import pandas as pd\n",
        "import numpy as np\n",
        "import datetime\n",
        "import time\n",
        "import matplotlib.pyplot as plt\n",
        "import sklearn\n",
        "# import ipdb\n",
        "\n",
        "\n",
        "from sklearn.model_selection import train_test_split\n",
        "from sklearn.metrics import accuracy_score, classification_report\n",
        "from sklearn.manifold import TSNE\n",
        "from sklearn.metrics import confusion_matrix\n",
        "from sklearn.preprocessing import MultiLabelBinarizer\n",
        "\n",
        "from simpletransformers.classification import ClassificationModel, ClassificationArgs\n",
        "from simpletransformers.classification import (\n",
        "    MultiLabelClassificationModel, MultiLabelClassificationArgs\n",
        ")\n",
        "\n",
        "import torch\n",
        "from torch.utils.data import TensorDataset, DataLoader\n",
        "from transformers import BertTokenizer, BertModel, BertConfig\n",
        "import logging"
      ],
      "execution_count": 52,
      "outputs": []
    },
    {
      "cell_type": "code",
      "metadata": {
        "colab": {
          "base_uri": "https://localhost:8080/"
        },
        "id": "woQdJr2VPK6n",
        "outputId": "6363426e-1fe5-40b1-c5c2-f97a9cd58b9b"
      },
      "source": [
        "from google.colab import drive\n",
        "drive.mount('/content/drive/')"
      ],
      "execution_count": 3,
      "outputs": [
        {
          "output_type": "stream",
          "text": [
            "Mounted at /content/drive\n"
          ],
          "name": "stdout"
        }
      ]
    },
    {
      "cell_type": "code",
      "metadata": {
        "id": "0ZPKOjJ4N4VZ"
      },
      "source": [
        "documents_train = pd.read_csv(\"/content/drive/MyDrive/round1/data_round_1/documents_en_train.csv\")\n",
        "sentences_train = pd.read_csv(\"/content/drive/MyDrive/round1/data_round_1/sentences_en_train.csv\")\n",
        "\n",
        "documents_val = pd.read_csv(\"/content/drive/MyDrive/round1/data_round_1/documents_en_val.csv\")\n",
        "sentences_val = pd.read_csv(\"/content/drive/MyDrive/round1/data_round_1/sentences_en_val.csv\")\n",
        "\n",
        "documents_test = pd.read_csv(\"/content/drive/MyDrive/round1/data_round_1/documents_en_test.csv\")\n",
        "sentences_test = pd.read_csv(\"/content/drive/MyDrive/round1/data_round_1/sentences_en_test.csv\")"
      ],
      "execution_count": 10,
      "outputs": []
    },
    {
      "cell_type": "code",
      "metadata": {
        "cell_id": "00001-78bff357-c978-48c5-89d8-153406a65001",
        "deepnote_cell_type": "code",
        "deepnote_to_be_reexecuted": false,
        "execution_millis": 1710,
        "execution_start": 1619186697861,
        "id": "uMNhYZjnGvcS",
        "source_hash": "8935307"
      },
      "source": [
        "documents_train = pd.read_csv(\"data_round_1/documents_en_train.csv\")\n",
        "sentences_train = pd.read_csv(\"data_round_1/sentences_en_train.csv\")\n",
        "\n",
        "documents_val = pd.read_csv(\"data_round_1/documents_en_val.csv\")\n",
        "sentences_val = pd.read_csv(\"data_round_1/sentences_en_val.csv\")\n",
        "\n",
        "documents_test = pd.read_csv(\"data_round_1/documents_en_test.csv\")\n",
        "sentences_test = pd.read_csv(\"data_round_1/sentences_en_test.csv\")\n",
        "#immap_sector_name_to_id.json"
      ],
      "execution_count": null,
      "outputs": []
    },
    {
      "cell_type": "code",
      "metadata": {
        "id": "-VzlcFlLURb1"
      },
      "source": [
        "if torch.cuda.is_available():\n",
        "    device = torch.device(\"cuda\")\n",
        "else:\n",
        "    device = torch.device(\"cpu\")"
      ],
      "execution_count": 11,
      "outputs": []
    },
    {
      "cell_type": "code",
      "metadata": {
        "colab": {
          "base_uri": "https://localhost:8080/"
        },
        "id": "9cjNmQ1oUTVs",
        "outputId": "d3141606-0102-4b42-bde0-27278603aa84"
      },
      "source": [
        "device"
      ],
      "execution_count": 12,
      "outputs": [
        {
          "output_type": "execute_result",
          "data": {
            "text/plain": [
              "device(type='cuda')"
            ]
          },
          "metadata": {
            "tags": []
          },
          "execution_count": 12
        }
      ]
    },
    {
      "cell_type": "markdown",
      "metadata": {
        "cell_id": "00002-73f94c74-9fa2-40a4-8987-a811d3d14faf",
        "deepnote_cell_type": "markdown",
        "id": "Zj_pQqDFGvcS"
      },
      "source": [
        "## Investigate Document data"
      ]
    },
    {
      "cell_type": "code",
      "metadata": {
        "cell_id": "00003-ce0a154c-e309-41cd-b1ef-ed32bdbe8d1d",
        "colab": {
          "base_uri": "https://localhost:8080/",
          "height": 289
        },
        "deepnote_cell_type": "code",
        "deepnote_to_be_reexecuted": false,
        "execution_millis": 11,
        "execution_start": 1619186716077,
        "id": "_Uh0Va5EGvcT",
        "source_hash": "d6d984e6",
        "outputId": "d119bd44-b9b5-4974-bd32-d8f0beef4f18"
      },
      "source": [
        "documents_train.head()"
      ],
      "execution_count": 13,
      "outputs": [
        {
          "output_type": "execute_result",
          "data": {
            "text/html": [
              "<div>\n",
              "<style scoped>\n",
              "    .dataframe tbody tr th:only-of-type {\n",
              "        vertical-align: middle;\n",
              "    }\n",
              "\n",
              "    .dataframe tbody tr th {\n",
              "        vertical-align: top;\n",
              "    }\n",
              "\n",
              "    .dataframe thead th {\n",
              "        text-align: right;\n",
              "    }\n",
              "</style>\n",
              "<table border=\"1\" class=\"dataframe\">\n",
              "  <thead>\n",
              "    <tr style=\"text-align: right;\">\n",
              "      <th></th>\n",
              "      <th>project_name</th>\n",
              "      <th>country_code</th>\n",
              "      <th>lang_code</th>\n",
              "      <th>doc_id</th>\n",
              "      <th>doc_text</th>\n",
              "      <th>doc_url</th>\n",
              "    </tr>\n",
              "  </thead>\n",
              "  <tbody>\n",
              "    <tr>\n",
              "      <th>0</th>\n",
              "      <td>IMMAP/DFS Syria</td>\n",
              "      <td>SYR</td>\n",
              "      <td>en</td>\n",
              "      <td>48582</td>\n",
              "      <td>This website uses cookies to improve your expe...</td>\n",
              "      <td>https://www.syriahr.com/en/203844/</td>\n",
              "    </tr>\n",
              "    <tr>\n",
              "      <th>1</th>\n",
              "      <td>IMMAP/DFS Syria</td>\n",
              "      <td>SYR</td>\n",
              "      <td>en</td>\n",
              "      <td>41032</td>\n",
              "      <td>Please enable Cookies and reload the page.\\n\\n...</td>\n",
              "      <td>https://www.syriahr.com/en/187230/</td>\n",
              "    </tr>\n",
              "    <tr>\n",
              "      <th>2</th>\n",
              "      <td>IMMAP/DFS Burkina Faso</td>\n",
              "      <td>BFA</td>\n",
              "      <td>en</td>\n",
              "      <td>41306</td>\n",
              "      <td>When Burkina Faso’s government called for civi...</td>\n",
              "      <td>https://www.thenewhumanitarian.org/news-featur...</td>\n",
              "    </tr>\n",
              "    <tr>\n",
              "      <th>3</th>\n",
              "      <td>IMMAP/DFS Syria</td>\n",
              "      <td>SYR</td>\n",
              "      <td>en</td>\n",
              "      <td>43779</td>\n",
              "      <td>DAMASCUS – The United Nations World Food Progr...</td>\n",
              "      <td>https://reliefweb.int/report/syrian-arab-repub...</td>\n",
              "    </tr>\n",
              "    <tr>\n",
              "      <th>4</th>\n",
              "      <td>IMMAP/DFS Nigeria</td>\n",
              "      <td>NGA</td>\n",
              "      <td>en</td>\n",
              "      <td>42212</td>\n",
              "      <td>Overview The continuation of conflict in North...</td>\n",
              "      <td>https://reliefweb.int/sites/reliefweb.int/file...</td>\n",
              "    </tr>\n",
              "  </tbody>\n",
              "</table>\n",
              "</div>"
            ],
            "text/plain": [
              "             project_name  ...                                            doc_url\n",
              "0         IMMAP/DFS Syria  ...                 https://www.syriahr.com/en/203844/\n",
              "1         IMMAP/DFS Syria  ...                 https://www.syriahr.com/en/187230/\n",
              "2  IMMAP/DFS Burkina Faso  ...  https://www.thenewhumanitarian.org/news-featur...\n",
              "3         IMMAP/DFS Syria  ...  https://reliefweb.int/report/syrian-arab-repub...\n",
              "4       IMMAP/DFS Nigeria  ...  https://reliefweb.int/sites/reliefweb.int/file...\n",
              "\n",
              "[5 rows x 6 columns]"
            ]
          },
          "metadata": {
            "tags": []
          },
          "execution_count": 13
        }
      ]
    },
    {
      "cell_type": "markdown",
      "metadata": {
        "cell_id": "00004-26838619-14fb-49dd-bd4b-1dccb328711c",
        "deepnote_cell_type": "markdown",
        "id": "9ZPEqOWGGvcT"
      },
      "source": [
        "## Investigate full text data"
      ]
    },
    {
      "cell_type": "code",
      "metadata": {
        "cell_id": "00005-f9e74a0e-7fb5-4c92-9707-ac3f880d115b",
        "deepnote_cell_type": "code",
        "deepnote_to_be_reexecuted": false,
        "execution_millis": 7,
        "execution_start": 1619186721962,
        "id": "OzUqav3PGvcU",
        "source_hash": "e05f7d63"
      },
      "source": [
        "sentences_train.head()"
      ],
      "execution_count": null,
      "outputs": []
    },
    {
      "cell_type": "code",
      "metadata": {
        "cell_id": "00006-dafbc99b-26f9-45ab-9080-687d4e204210",
        "deepnote_cell_type": "code",
        "deepnote_to_be_reexecuted": false,
        "execution_millis": 75,
        "execution_start": 1619187768221,
        "id": "meoELP5-GvcU",
        "source_hash": "5cb89a83",
        "tags": []
      },
      "source": [
        "counts = sentences_train[[\"sentence_id\", \"doc_id\"]].groupby(\"doc_id\").count()\n",
        "print(\"Median sentence lenght of document:\", np.median(counts))\n",
        "counts"
      ],
      "execution_count": null,
      "outputs": []
    },
    {
      "cell_type": "code",
      "metadata": {
        "id": "XzXcb3IWGvcV",
        "scrolled": true
      },
      "source": [
        "import matplotlib.pyplot as plt\n",
        "counts = sentences_train.groupby(\"doc_id\").count()\n",
        "x = counts[\"sentence_id\"]\n",
        "plt.hist(x)\n",
        "plt.show()"
      ],
      "execution_count": null,
      "outputs": []
    },
    {
      "cell_type": "code",
      "metadata": {
        "id": "KN1DfJfoGvcV"
      },
      "source": [
        "all_sectors = []\n",
        "string_list = [\"[\", \"]\", \",\", \" \"]\n",
        "for topics in sentences_train[\"sector_ids\"]:\n",
        "    for topic in topics:\n",
        "        if topic not in string_list:\n",
        "            all_sectors.append(topic)        "
      ],
      "execution_count": null,
      "outputs": []
    },
    {
      "cell_type": "code",
      "metadata": {
        "id": "d2Hdviy3GvcV"
      },
      "source": [
        "plt.hist(sorted(all_sectors))\n",
        "plt.show()"
      ],
      "execution_count": null,
      "outputs": []
    },
    {
      "cell_type": "code",
      "metadata": {
        "id": "-DR7r6l5qWZJ"
      },
      "source": [
        "logging.basicConfig(level=logging.INFO)\n",
        "transformers_logger = logging.getLogger(\"transformers\")\n",
        "transformers_logger.setLevel(logging.WARNING)"
      ],
      "execution_count": null,
      "outputs": []
    },
    {
      "cell_type": "code",
      "metadata": {
        "id": "jMbf7k3HSmPT"
      },
      "source": [
        "sentences_train['sentence_text']"
      ],
      "execution_count": null,
      "outputs": []
    },
    {
      "cell_type": "code",
      "metadata": {
        "id": "Q5TUIEVaTBvY"
      },
      "source": [
        "train_df = pd.DataFrame({\n",
        "    'text': sentences_train['sentence_text'],\n",
        "    'label': sentences_train[\"is_relevant\"]\n",
        "})"
      ],
      "execution_count": null,
      "outputs": []
    },
    {
      "cell_type": "code",
      "metadata": {
        "id": "93AxUpc7TvMz"
      },
      "source": [
        "eval_df = pd.DataFrame({\n",
        "    'text': sentences_val['sentence_text'],\n",
        "    'label': sentences_val[\"is_relevant\"],\n",
        "})"
      ],
      "execution_count": null,
      "outputs": []
    },
    {
      "cell_type": "code",
      "metadata": {
        "id": "jH1sTYooqcPl"
      },
      "source": [
        "# Optional model configuration\n",
        "model_args = ClassificationArgs(num_train_epochs=1)"
      ],
      "execution_count": null,
      "outputs": []
    },
    {
      "cell_type": "code",
      "metadata": {
        "id": "icXbOdZ8Rzlb"
      },
      "source": [
        "# Create a TransformerModel\n",
        "model = ClassificationModel('distilbert', 'distilbert-base-uncased', use_cuda=False)"
      ],
      "execution_count": null,
      "outputs": []
    },
    {
      "cell_type": "code",
      "metadata": {
        "id": "WqfZHzHKU_0c"
      },
      "source": [
        "# Train the model\n",
        "model.train_model(train_df, overwrite_output_dir=True)"
      ],
      "execution_count": null,
      "outputs": []
    },
    {
      "cell_type": "code",
      "metadata": {
        "id": "9fRY9dT3qGxP"
      },
      "source": [
        "CUDA_LAUNCH_BLOCKING=1"
      ],
      "execution_count": null,
      "outputs": []
    },
    {
      "cell_type": "code",
      "metadata": {
        "id": "q22yq7TSps3V"
      },
      "source": [
        "result, model_outputs, wrong_predictions = model.eval_model(eval_df)"
      ],
      "execution_count": null,
      "outputs": []
    },
    {
      "cell_type": "code",
      "metadata": {
        "id": "dFiG4PtKN0EN"
      },
      "source": [
        "result"
      ],
      "execution_count": null,
      "outputs": []
    },
    {
      "cell_type": "code",
      "metadata": {
        "id": "VDzwiBYwN0EN"
      },
      "source": [
        "predictions, raw_outputs = model.predict(sentences_test['sentence_text'].astype(str).values.tolist())"
      ],
      "execution_count": null,
      "outputs": []
    },
    {
      "cell_type": "code",
      "metadata": {
        "id": "QJ_dZ67nN0EN"
      },
      "source": [
        "len(predictions)"
      ],
      "execution_count": null,
      "outputs": []
    },
    {
      "cell_type": "code",
      "metadata": {
        "id": "F_kcjLbzN0EN"
      },
      "source": [
        "submit_df = pd.DataFrame({\n",
        "    'doc_id': sentences_test['doc_id'],\n",
        "    'sentence_id': sentences_test[\"sentence_id\"],\n",
        "    'is_relevant': predictions,\n",
        "})"
      ],
      "execution_count": null,
      "outputs": []
    },
    {
      "cell_type": "code",
      "metadata": {
        "id": "WQg5ISWqN0EO"
      },
      "source": [
        "submit_df.to_csv(\"submissions/submission_relevant_baseline\", index=False)"
      ],
      "execution_count": null,
      "outputs": []
    },
    {
      "cell_type": "markdown",
      "metadata": {
        "id": "lVLoJ2PBN0EO"
      },
      "source": [
        "### Multi-Label Classification"
      ]
    },
    {
      "cell_type": "code",
      "metadata": {
        "id": "6T4kwTC4N0EO"
      },
      "source": [
        "logging.basicConfig(level=logging.INFO)\n",
        "transformers_logger = logging.getLogger(\"transformers\")\n",
        "transformers_logger.setLevel(logging.WARNING)"
      ],
      "execution_count": 14,
      "outputs": []
    },
    {
      "cell_type": "code",
      "metadata": {
        "id": "LbmqZJAkN0EP",
        "outputId": "8b159a09-c7f9-4f91-b544-452db2ccd3f5",
        "colab": {
          "base_uri": "https://localhost:8080/"
        }
      },
      "source": [
        "sentences_train = sentences_train.loc[sentences_train[\"is_relevant\"] == 1]\n",
        "sentences_val = sentences_val.loc[sentences_val[\"is_relevant\"] == 1]"
      ],
      "execution_count": 15,
      "outputs": [
        {
          "output_type": "stream",
          "text": [
            "INFO:numexpr.utils:NumExpr defaulting to 4 threads.\n"
          ],
          "name": "stderr"
        }
      ]
    },
    {
      "cell_type": "code",
      "metadata": {
        "id": "-srIXL9ON0EP"
      },
      "source": [
        "def process_sector_ids(sentences):\n",
        "    mlb = MultiLabelBinarizer()\n",
        "    sectors = pd.DataFrame(mlb.fit_transform(sentences[\"sector_ids\"]),columns=mlb.classes_)\n",
        "    sectors = sectors.drop([\",\", \"[\", \"]\", \" \"], axis = 1)\n",
        "    sectors[\"-1\"] = 0\n",
        "    sectors[\"-1\"][sectors.sum(axis=1) == 0] = 1\n",
        "\n",
        "    return sectors.values"
      ],
      "execution_count": 16,
      "outputs": []
    },
    {
      "cell_type": "code",
      "metadata": {
        "id": "WCEC_MMdN0EP"
      },
      "source": [
        "train_labels = process_sector_ids(sentences_train)\n",
        "val_labels = process_sector_ids(sentences_val)"
      ],
      "execution_count": 17,
      "outputs": []
    },
    {
      "cell_type": "code",
      "metadata": {
        "id": "kZucD8f0N0EP"
      },
      "source": [
        "train_labels = pd.DataFrame(train_labels)\n",
        "val_labels = pd.DataFrame(val_labels)"
      ],
      "execution_count": 18,
      "outputs": []
    },
    {
      "cell_type": "code",
      "metadata": {
        "id": "af576NVcN0EQ"
      },
      "source": [
        "sentences_train = sentences_train.reset_index()\n",
        "sentences_val = sentences_val.reset_index()"
      ],
      "execution_count": 19,
      "outputs": []
    },
    {
      "cell_type": "code",
      "metadata": {
        "id": "OAxys_B8N0EQ"
      },
      "source": [
        "sentences_train['labels'] = train_labels.apply(lambda x: [np.array(x)], axis=1).apply(lambda x: x[0])\n",
        "sentences_val['labels'] = val_labels.apply(lambda x: [np.array(x)], axis=1).apply(lambda x: x[0])"
      ],
      "execution_count": 20,
      "outputs": []
    },
    {
      "cell_type": "code",
      "metadata": {
        "id": "StjhQJZ8N0EQ",
        "outputId": "f1acfaa3-5175-4c6d-9e97-720baf84e6d9",
        "colab": {
          "base_uri": "https://localhost:8080/",
          "height": 589
        }
      },
      "source": [
        "sentences_train"
      ],
      "execution_count": 21,
      "outputs": [
        {
          "output_type": "execute_result",
          "data": {
            "text/html": [
              "<div>\n",
              "<style scoped>\n",
              "    .dataframe tbody tr th:only-of-type {\n",
              "        vertical-align: middle;\n",
              "    }\n",
              "\n",
              "    .dataframe tbody tr th {\n",
              "        vertical-align: top;\n",
              "    }\n",
              "\n",
              "    .dataframe thead th {\n",
              "        text-align: right;\n",
              "    }\n",
              "</style>\n",
              "<table border=\"1\" class=\"dataframe\">\n",
              "  <thead>\n",
              "    <tr style=\"text-align: right;\">\n",
              "      <th></th>\n",
              "      <th>index</th>\n",
              "      <th>doc_id</th>\n",
              "      <th>sentence_id</th>\n",
              "      <th>sentence_text</th>\n",
              "      <th>is_relevant</th>\n",
              "      <th>sector_ids</th>\n",
              "      <th>labels</th>\n",
              "    </tr>\n",
              "  </thead>\n",
              "  <tbody>\n",
              "    <tr>\n",
              "      <th>0</th>\n",
              "      <td>14</td>\n",
              "      <td>51657</td>\n",
              "      <td>14</td>\n",
              "      <td>One in five children in the country has no acc...</td>\n",
              "      <td>1</td>\n",
              "      <td>[2, 5]</td>\n",
              "      <td>[0, 0, 1, 0, 0, 1, 0, 0, 0, 0, 0]</td>\n",
              "    </tr>\n",
              "    <tr>\n",
              "      <th>1</th>\n",
              "      <td>15</td>\n",
              "      <td>51657</td>\n",
              "      <td>15</td>\n",
              "      <td>Many orphaned youth live in poverty and have l...</td>\n",
              "      <td>1</td>\n",
              "      <td>[2, 5]</td>\n",
              "      <td>[0, 0, 1, 0, 0, 1, 0, 0, 0, 0, 0]</td>\n",
              "    </tr>\n",
              "    <tr>\n",
              "      <th>2</th>\n",
              "      <td>16</td>\n",
              "      <td>51657</td>\n",
              "      <td>16</td>\n",
              "      <td>Some children remain living with a single pare...</td>\n",
              "      <td>1</td>\n",
              "      <td>[2, 5]</td>\n",
              "      <td>[0, 0, 1, 0, 0, 1, 0, 0, 0, 0, 0]</td>\n",
              "    </tr>\n",
              "    <tr>\n",
              "      <th>3</th>\n",
              "      <td>17</td>\n",
              "      <td>51657</td>\n",
              "      <td>17</td>\n",
              "      <td>Other youth live in shelters or on the streets.</td>\n",
              "      <td>1</td>\n",
              "      <td>[2, 5]</td>\n",
              "      <td>[0, 0, 1, 0, 0, 1, 0, 0, 0, 0, 0]</td>\n",
              "    </tr>\n",
              "    <tr>\n",
              "      <th>4</th>\n",
              "      <td>19</td>\n",
              "      <td>51542</td>\n",
              "      <td>0</td>\n",
              "      <td>WFP Colombia Country Brief December 2020 Opera...</td>\n",
              "      <td>1</td>\n",
              "      <td>[3]</td>\n",
              "      <td>[0, 0, 0, 1, 0, 0, 0, 0, 0, 0, 0]</td>\n",
              "    </tr>\n",
              "    <tr>\n",
              "      <th>...</th>\n",
              "      <td>...</td>\n",
              "      <td>...</td>\n",
              "      <td>...</td>\n",
              "      <td>...</td>\n",
              "      <td>...</td>\n",
              "      <td>...</td>\n",
              "      <td>...</td>\n",
              "    </tr>\n",
              "    <tr>\n",
              "      <th>41890</th>\n",
              "      <td>261836</td>\n",
              "      <td>34549</td>\n",
              "      <td>46</td>\n",
              "      <td>Anticipatory action is critical to safeguard t...</td>\n",
              "      <td>1</td>\n",
              "      <td>[]</td>\n",
              "      <td>[0, 0, 0, 0, 0, 0, 0, 0, 0, 0, 1]</td>\n",
              "    </tr>\n",
              "    <tr>\n",
              "      <th>41891</th>\n",
              "      <td>261841</td>\n",
              "      <td>34549</td>\n",
              "      <td>51</td>\n",
              "      <td>Cash+ in the form of cash transfers and provis...</td>\n",
              "      <td>1</td>\n",
              "      <td>[0]</td>\n",
              "      <td>[1, 0, 0, 0, 0, 0, 0, 0, 0, 0, 0]</td>\n",
              "    </tr>\n",
              "    <tr>\n",
              "      <th>41892</th>\n",
              "      <td>261842</td>\n",
              "      <td>34549</td>\n",
              "      <td>52</td>\n",
              "      <td>The focus of this intervention is to support v...</td>\n",
              "      <td>1</td>\n",
              "      <td>[0]</td>\n",
              "      <td>[1, 0, 0, 0, 0, 0, 0, 0, 0, 0, 0]</td>\n",
              "    </tr>\n",
              "    <tr>\n",
              "      <th>41893</th>\n",
              "      <td>261843</td>\n",
              "      <td>34549</td>\n",
              "      <td>53</td>\n",
              "      <td>Cash+ in the form of cash transfers and provis...</td>\n",
              "      <td>1</td>\n",
              "      <td>[8]</td>\n",
              "      <td>[0, 0, 0, 0, 0, 0, 0, 0, 1, 0, 0]</td>\n",
              "    </tr>\n",
              "    <tr>\n",
              "      <th>41894</th>\n",
              "      <td>261844</td>\n",
              "      <td>34549</td>\n",
              "      <td>54</td>\n",
              "      <td>Awareness-raising campaigns on methods and pra...</td>\n",
              "      <td>1</td>\n",
              "      <td>[4]</td>\n",
              "      <td>[0, 0, 0, 0, 1, 0, 0, 0, 0, 0, 0]</td>\n",
              "    </tr>\n",
              "  </tbody>\n",
              "</table>\n",
              "<p>41895 rows × 7 columns</p>\n",
              "</div>"
            ],
            "text/plain": [
              "        index  doc_id  ...  sector_ids                             labels\n",
              "0          14   51657  ...      [2, 5]  [0, 0, 1, 0, 0, 1, 0, 0, 0, 0, 0]\n",
              "1          15   51657  ...      [2, 5]  [0, 0, 1, 0, 0, 1, 0, 0, 0, 0, 0]\n",
              "2          16   51657  ...      [2, 5]  [0, 0, 1, 0, 0, 1, 0, 0, 0, 0, 0]\n",
              "3          17   51657  ...      [2, 5]  [0, 0, 1, 0, 0, 1, 0, 0, 0, 0, 0]\n",
              "4          19   51542  ...         [3]  [0, 0, 0, 1, 0, 0, 0, 0, 0, 0, 0]\n",
              "...       ...     ...  ...         ...                                ...\n",
              "41890  261836   34549  ...          []  [0, 0, 0, 0, 0, 0, 0, 0, 0, 0, 1]\n",
              "41891  261841   34549  ...         [0]  [1, 0, 0, 0, 0, 0, 0, 0, 0, 0, 0]\n",
              "41892  261842   34549  ...         [0]  [1, 0, 0, 0, 0, 0, 0, 0, 0, 0, 0]\n",
              "41893  261843   34549  ...         [8]  [0, 0, 0, 0, 0, 0, 0, 0, 1, 0, 0]\n",
              "41894  261844   34549  ...         [4]  [0, 0, 0, 0, 1, 0, 0, 0, 0, 0, 0]\n",
              "\n",
              "[41895 rows x 7 columns]"
            ]
          },
          "metadata": {
            "tags": []
          },
          "execution_count": 21
        }
      ]
    },
    {
      "cell_type": "code",
      "metadata": {
        "id": "8Ua9hZEwN0ER"
      },
      "source": [
        "sentences_train = sentences_train[['sentence_text', 'labels']].copy()\n",
        "sentences_val = sentences_val[['sentence_text', 'labels']].copy()"
      ],
      "execution_count": 22,
      "outputs": []
    },
    {
      "cell_type": "code",
      "metadata": {
        "id": "JpZSd3ZaN0ER"
      },
      "source": [
        "sentences_train.columns = [\"text\", \"labels\"]\n",
        "sentences_val.columns = [\"text\", \"labels\"]"
      ],
      "execution_count": 23,
      "outputs": []
    },
    {
      "cell_type": "code",
      "metadata": {
        "id": "xxDJWCh5N0ER"
      },
      "source": [
        "model_args = MultiLabelClassificationArgs(num_train_epochs=1)"
      ],
      "execution_count": 24,
      "outputs": []
    },
    {
      "cell_type": "code",
      "metadata": {
        "id": "AP3FY1tsN0ER",
        "outputId": "76bd397e-33b5-4b50-dde7-31e6b5ee9b8d",
        "colab": {
          "base_uri": "https://localhost:8080/"
        }
      },
      "source": [
        "# Create a MultiLabelClassificationModel\n",
        "model = MultiLabelClassificationModel(\n",
        "    \"distilbert\", \"distilbert-base-uncased\", num_labels=11, use_cuda=True\n",
        ")"
      ],
      "execution_count": 29,
      "outputs": [
        {
          "output_type": "stream",
          "text": [
            "Some weights of the model checkpoint at distilbert-base-uncased were not used when initializing DistilBertForMultiLabelSequenceClassification: ['vocab_layer_norm.bias', 'vocab_projector.bias', 'vocab_layer_norm.weight', 'vocab_transform.weight', 'vocab_projector.weight', 'vocab_transform.bias']\n",
            "- This IS expected if you are initializing DistilBertForMultiLabelSequenceClassification from the checkpoint of a model trained on another task or with another architecture (e.g. initializing a BertForSequenceClassification model from a BertForPreTraining model).\n",
            "- This IS NOT expected if you are initializing DistilBertForMultiLabelSequenceClassification from the checkpoint of a model that you expect to be exactly identical (initializing a BertForSequenceClassification model from a BertForSequenceClassification model).\n",
            "Some weights of DistilBertForMultiLabelSequenceClassification were not initialized from the model checkpoint at distilbert-base-uncased and are newly initialized: ['classifier.weight', 'classifier.bias', 'pre_classifier.weight', 'pre_classifier.bias']\n",
            "You should probably TRAIN this model on a down-stream task to be able to use it for predictions and inference.\n"
          ],
          "name": "stderr"
        }
      ]
    },
    {
      "cell_type": "code",
      "metadata": {
        "id": "R7RWLWmON0ER",
        "outputId": "323318f9-fe6c-4bcf-9ce4-6a7f760e2ce0",
        "colab": {
          "base_uri": "https://localhost:8080/",
          "height": 419
        }
      },
      "source": [
        "sentences_train"
      ],
      "execution_count": 26,
      "outputs": [
        {
          "output_type": "execute_result",
          "data": {
            "text/html": [
              "<div>\n",
              "<style scoped>\n",
              "    .dataframe tbody tr th:only-of-type {\n",
              "        vertical-align: middle;\n",
              "    }\n",
              "\n",
              "    .dataframe tbody tr th {\n",
              "        vertical-align: top;\n",
              "    }\n",
              "\n",
              "    .dataframe thead th {\n",
              "        text-align: right;\n",
              "    }\n",
              "</style>\n",
              "<table border=\"1\" class=\"dataframe\">\n",
              "  <thead>\n",
              "    <tr style=\"text-align: right;\">\n",
              "      <th></th>\n",
              "      <th>text</th>\n",
              "      <th>labels</th>\n",
              "    </tr>\n",
              "  </thead>\n",
              "  <tbody>\n",
              "    <tr>\n",
              "      <th>0</th>\n",
              "      <td>One in five children in the country has no acc...</td>\n",
              "      <td>[0, 0, 1, 0, 0, 1, 0, 0, 0, 0, 0]</td>\n",
              "    </tr>\n",
              "    <tr>\n",
              "      <th>1</th>\n",
              "      <td>Many orphaned youth live in poverty and have l...</td>\n",
              "      <td>[0, 0, 1, 0, 0, 1, 0, 0, 0, 0, 0]</td>\n",
              "    </tr>\n",
              "    <tr>\n",
              "      <th>2</th>\n",
              "      <td>Some children remain living with a single pare...</td>\n",
              "      <td>[0, 0, 1, 0, 0, 1, 0, 0, 0, 0, 0]</td>\n",
              "    </tr>\n",
              "    <tr>\n",
              "      <th>3</th>\n",
              "      <td>Other youth live in shelters or on the streets.</td>\n",
              "      <td>[0, 0, 1, 0, 0, 1, 0, 0, 0, 0, 0]</td>\n",
              "    </tr>\n",
              "    <tr>\n",
              "      <th>4</th>\n",
              "      <td>WFP Colombia Country Brief December 2020 Opera...</td>\n",
              "      <td>[0, 0, 0, 1, 0, 0, 0, 0, 0, 0, 0]</td>\n",
              "    </tr>\n",
              "    <tr>\n",
              "      <th>...</th>\n",
              "      <td>...</td>\n",
              "      <td>...</td>\n",
              "    </tr>\n",
              "    <tr>\n",
              "      <th>41890</th>\n",
              "      <td>Anticipatory action is critical to safeguard t...</td>\n",
              "      <td>[0, 0, 0, 0, 0, 0, 0, 0, 0, 0, 1]</td>\n",
              "    </tr>\n",
              "    <tr>\n",
              "      <th>41891</th>\n",
              "      <td>Cash+ in the form of cash transfers and provis...</td>\n",
              "      <td>[1, 0, 0, 0, 0, 0, 0, 0, 0, 0, 0]</td>\n",
              "    </tr>\n",
              "    <tr>\n",
              "      <th>41892</th>\n",
              "      <td>The focus of this intervention is to support v...</td>\n",
              "      <td>[1, 0, 0, 0, 0, 0, 0, 0, 0, 0, 0]</td>\n",
              "    </tr>\n",
              "    <tr>\n",
              "      <th>41893</th>\n",
              "      <td>Cash+ in the form of cash transfers and provis...</td>\n",
              "      <td>[0, 0, 0, 0, 0, 0, 0, 0, 1, 0, 0]</td>\n",
              "    </tr>\n",
              "    <tr>\n",
              "      <th>41894</th>\n",
              "      <td>Awareness-raising campaigns on methods and pra...</td>\n",
              "      <td>[0, 0, 0, 0, 1, 0, 0, 0, 0, 0, 0]</td>\n",
              "    </tr>\n",
              "  </tbody>\n",
              "</table>\n",
              "<p>41895 rows × 2 columns</p>\n",
              "</div>"
            ],
            "text/plain": [
              "                                                    text                             labels\n",
              "0      One in five children in the country has no acc...  [0, 0, 1, 0, 0, 1, 0, 0, 0, 0, 0]\n",
              "1      Many orphaned youth live in poverty and have l...  [0, 0, 1, 0, 0, 1, 0, 0, 0, 0, 0]\n",
              "2      Some children remain living with a single pare...  [0, 0, 1, 0, 0, 1, 0, 0, 0, 0, 0]\n",
              "3        Other youth live in shelters or on the streets.  [0, 0, 1, 0, 0, 1, 0, 0, 0, 0, 0]\n",
              "4      WFP Colombia Country Brief December 2020 Opera...  [0, 0, 0, 1, 0, 0, 0, 0, 0, 0, 0]\n",
              "...                                                  ...                                ...\n",
              "41890  Anticipatory action is critical to safeguard t...  [0, 0, 0, 0, 0, 0, 0, 0, 0, 0, 1]\n",
              "41891  Cash+ in the form of cash transfers and provis...  [1, 0, 0, 0, 0, 0, 0, 0, 0, 0, 0]\n",
              "41892  The focus of this intervention is to support v...  [1, 0, 0, 0, 0, 0, 0, 0, 0, 0, 0]\n",
              "41893  Cash+ in the form of cash transfers and provis...  [0, 0, 0, 0, 0, 0, 0, 0, 1, 0, 0]\n",
              "41894  Awareness-raising campaigns on methods and pra...  [0, 0, 0, 0, 1, 0, 0, 0, 0, 0, 0]\n",
              "\n",
              "[41895 rows x 2 columns]"
            ]
          },
          "metadata": {
            "tags": []
          },
          "execution_count": 26
        }
      ]
    },
    {
      "cell_type": "code",
      "metadata": {
        "id": "dg3ZI2nJN0ES",
        "outputId": "9e9df8fe-f1aa-4823-f19b-39eb0b23392e",
        "colab": {
          "base_uri": "https://localhost:8080/",
          "height": 358
        }
      },
      "source": [
        "# Train the model\n",
        "model.train_model(sentences_train, overwrite_output_dir=True)"
      ],
      "execution_count": 48,
      "outputs": [
        {
          "output_type": "error",
          "ename": "ValueError",
          "evalue": "ignored",
          "traceback": [
            "\u001b[0;31m---------------------------------------------------------------------------\u001b[0m",
            "\u001b[0;31mValueError\u001b[0m                                Traceback (most recent call last)",
            "\u001b[0;32m<ipython-input-48-4eb3d4558ec0>\u001b[0m in \u001b[0;36m<module>\u001b[0;34m()\u001b[0m\n\u001b[1;32m      1\u001b[0m \u001b[0;31m# Train the model\u001b[0m\u001b[0;34m\u001b[0m\u001b[0;34m\u001b[0m\u001b[0;34m\u001b[0m\u001b[0m\n\u001b[0;32m----> 2\u001b[0;31m \u001b[0mmodel\u001b[0m\u001b[0;34m.\u001b[0m\u001b[0mtrain_model\u001b[0m\u001b[0;34m(\u001b[0m\u001b[0msentences_train\u001b[0m\u001b[0;34m,\u001b[0m \u001b[0moverwrite_output_dir\u001b[0m\u001b[0;34m=\u001b[0m\u001b[0;32mTrue\u001b[0m\u001b[0;34m)\u001b[0m\u001b[0;34m\u001b[0m\u001b[0;34m\u001b[0m\u001b[0m\n\u001b[0m",
            "\u001b[0;32m/usr/local/lib/python3.7/dist-packages/simpletransformers/classification/multi_label_classification_model.py\u001b[0m in \u001b[0;36mtrain_model\u001b[0;34m(self, train_df, multi_label, eval_df, output_dir, show_running_loss, args, verbose, **kwargs)\u001b[0m\n\u001b[1;32m    286\u001b[0m             \u001b[0mverbose\u001b[0m\u001b[0;34m=\u001b[0m\u001b[0;32mTrue\u001b[0m\u001b[0;34m,\u001b[0m\u001b[0;34m\u001b[0m\u001b[0;34m\u001b[0m\u001b[0m\n\u001b[1;32m    287\u001b[0m             \u001b[0margs\u001b[0m\u001b[0;34m=\u001b[0m\u001b[0margs\u001b[0m\u001b[0;34m,\u001b[0m\u001b[0;34m\u001b[0m\u001b[0;34m\u001b[0m\u001b[0m\n\u001b[0;32m--> 288\u001b[0;31m             \u001b[0;34m**\u001b[0m\u001b[0mkwargs\u001b[0m\u001b[0;34m,\u001b[0m\u001b[0;34m\u001b[0m\u001b[0;34m\u001b[0m\u001b[0m\n\u001b[0m\u001b[1;32m    289\u001b[0m         )\n\u001b[1;32m    290\u001b[0m \u001b[0;34m\u001b[0m\u001b[0m\n",
            "\u001b[0;32m/usr/local/lib/python3.7/dist-packages/simpletransformers/classification/classification_model.py\u001b[0m in \u001b[0;36mtrain_model\u001b[0;34m(self, train_df, multi_label, output_dir, show_running_loss, args, eval_df, verbose, **kwargs)\u001b[0m\n\u001b[1;32m    529\u001b[0m                 \u001b[0;34m\"Output directory ({}) already exists and is not empty.\"\u001b[0m\u001b[0;34m\u001b[0m\u001b[0;34m\u001b[0m\u001b[0m\n\u001b[1;32m    530\u001b[0m                 \" Set overwrite_output_dir: True to automatically overwrite.\".format(\n\u001b[0;32m--> 531\u001b[0;31m                     \u001b[0moutput_dir\u001b[0m\u001b[0;34m\u001b[0m\u001b[0;34m\u001b[0m\u001b[0m\n\u001b[0m\u001b[1;32m    532\u001b[0m                 )\n\u001b[1;32m    533\u001b[0m             )\n",
            "\u001b[0;31mValueError\u001b[0m: Output directory (outputs/) already exists and is not empty. Set overwrite_output_dir: True to automatically overwrite."
          ]
        }
      ]
    },
    {
      "cell_type": "code",
      "metadata": {
        "id": "vG5iI006N0ES",
        "outputId": "2387d2d5-bb26-4bca-d8c5-0b0720abdb8d",
        "colab": {
          "base_uri": "https://localhost:8080/",
          "height": 493,
          "referenced_widgets": [
            "caad2687347b4104a58d38c2056a52d1",
            "8ee44e8a1d51429ab61b14f5fd5c1d00",
            "b5aac1c275f341a4acb773c3441b43a4",
            "3e9b54b4229649c8b7d05d94c005c50d",
            "d2b65693cb854d4a8f0d750a1a823d3c",
            "9f111fdc9201476ebd77d1ca9aa6a9ba",
            "240ed6ca639e45079c8b47d8ded67e1f",
            "51e43455fdf24d05bda29fde747a2cdf",
            "b9187ca73b5b4a1091d24fe3059716dc",
            "327ac225c9db4f1d8e73d43e1ea039dd",
            "c37693189fbf4b8d9fa9c9e1bf1cab25",
            "118afee7ea304fbea2be085ac4b2f25a",
            "f0c9e23eaa3c44c88bb9393ffaa340fc",
            "10c900c510464686b8bb9667af13bea0",
            "05232ce592a544a7b320040a8cc55b13",
            "ee10a72fd28c4b03a07f6e4999425c75",
            "c2a6c40a1bf1470797bf89e1537a28c4",
            "f4da4582a28142b883c38d07f004b0cd",
            "fb7d2961fd4a4835af723b4dd4792a16",
            "bd8e69acebc84d9fb00030e8aa4de342",
            "809c5dc8b3e941779a2db0c9c8d7de72",
            "476b687f3ca14df3bbc2d676e4424326"
          ]
        }
      },
      "source": [
        "# Evaluate the model\n",
        "result, model_outputs, wrong_predictions = model.eval_model(\n",
        "    sentences_val\n",
        ")"
      ],
      "execution_count": 53,
      "outputs": [
        {
          "output_type": "stream",
          "text": [
            "INFO:simpletransformers.classification.classification_utils: Converting to features started. Cache is not used.\n"
          ],
          "name": "stderr"
        },
        {
          "output_type": "display_data",
          "data": {
            "application/vnd.jupyter.widget-view+json": {
              "model_id": "caad2687347b4104a58d38c2056a52d1",
              "version_minor": 0,
              "version_major": 2
            },
            "text/plain": [
              "  0%|          | 0/4927 [00:00<?, ?it/s]"
            ]
          },
          "metadata": {
            "tags": []
          }
        },
        {
          "output_type": "stream",
          "text": [
            "INFO:simpletransformers.classification.classification_utils: Saving features into cached file cache_dir/cached_dev_distilbert_128_0_2\n"
          ],
          "name": "stderr"
        },
        {
          "output_type": "display_data",
          "data": {
            "application/vnd.jupyter.widget-view+json": {
              "model_id": "118afee7ea304fbea2be085ac4b2f25a",
              "version_minor": 0,
              "version_major": 2
            },
            "text/plain": [
              "Running Evaluation:   0%|          | 0/616 [00:00<?, ?it/s]"
            ]
          },
          "metadata": {
            "tags": []
          }
        },
        {
          "output_type": "error",
          "ename": "ValueError",
          "evalue": "ignored",
          "traceback": [
            "\u001b[0;31m---------------------------------------------------------------------------\u001b[0m",
            "\u001b[0;31mValueError\u001b[0m                                Traceback (most recent call last)",
            "\u001b[0;32m<ipython-input-53-91dddeeffa3a>\u001b[0m in \u001b[0;36m<module>\u001b[0;34m()\u001b[0m\n\u001b[1;32m      1\u001b[0m \u001b[0;31m# Evaluate the model\u001b[0m\u001b[0;34m\u001b[0m\u001b[0;34m\u001b[0m\u001b[0;34m\u001b[0m\u001b[0m\n\u001b[1;32m      2\u001b[0m result, model_outputs, wrong_predictions = model.eval_model(\n\u001b[0;32m----> 3\u001b[0;31m     \u001b[0msentences_val\u001b[0m\u001b[0;34m,\u001b[0m \u001b[0macc\u001b[0m\u001b[0;34m=\u001b[0m\u001b[0msklearn\u001b[0m\u001b[0;34m.\u001b[0m\u001b[0mmetrics\u001b[0m\u001b[0;34m.\u001b[0m\u001b[0mhamming_loss\u001b[0m\u001b[0;34m\u001b[0m\u001b[0;34m\u001b[0m\u001b[0m\n\u001b[0m\u001b[1;32m      4\u001b[0m )\n",
            "\u001b[0;32m/usr/local/lib/python3.7/dist-packages/simpletransformers/classification/multi_label_classification_model.py\u001b[0m in \u001b[0;36meval_model\u001b[0;34m(self, eval_df, multi_label, output_dir, verbose, silent, **kwargs)\u001b[0m\n\u001b[1;32m    304\u001b[0m             \u001b[0mverbose\u001b[0m\u001b[0;34m=\u001b[0m\u001b[0mverbose\u001b[0m\u001b[0;34m,\u001b[0m\u001b[0;34m\u001b[0m\u001b[0;34m\u001b[0m\u001b[0m\n\u001b[1;32m    305\u001b[0m             \u001b[0msilent\u001b[0m\u001b[0;34m=\u001b[0m\u001b[0msilent\u001b[0m\u001b[0;34m,\u001b[0m\u001b[0;34m\u001b[0m\u001b[0;34m\u001b[0m\u001b[0m\n\u001b[0;32m--> 306\u001b[0;31m             \u001b[0;34m**\u001b[0m\u001b[0mkwargs\u001b[0m\u001b[0;34m,\u001b[0m\u001b[0;34m\u001b[0m\u001b[0;34m\u001b[0m\u001b[0m\n\u001b[0m\u001b[1;32m    307\u001b[0m         )\n\u001b[1;32m    308\u001b[0m \u001b[0;34m\u001b[0m\u001b[0m\n",
            "\u001b[0;32m/usr/local/lib/python3.7/dist-packages/simpletransformers/classification/classification_model.py\u001b[0m in \u001b[0;36meval_model\u001b[0;34m(self, eval_df, multi_label, output_dir, verbose, silent, wandb_log, **kwargs)\u001b[0m\n\u001b[1;32m   1286\u001b[0m             \u001b[0msilent\u001b[0m\u001b[0;34m=\u001b[0m\u001b[0msilent\u001b[0m\u001b[0;34m,\u001b[0m\u001b[0;34m\u001b[0m\u001b[0;34m\u001b[0m\u001b[0m\n\u001b[1;32m   1287\u001b[0m             \u001b[0mwandb_log\u001b[0m\u001b[0;34m=\u001b[0m\u001b[0mwandb_log\u001b[0m\u001b[0;34m,\u001b[0m\u001b[0;34m\u001b[0m\u001b[0;34m\u001b[0m\u001b[0m\n\u001b[0;32m-> 1288\u001b[0;31m             \u001b[0;34m**\u001b[0m\u001b[0mkwargs\u001b[0m\u001b[0;34m,\u001b[0m\u001b[0;34m\u001b[0m\u001b[0;34m\u001b[0m\u001b[0m\n\u001b[0m\u001b[1;32m   1289\u001b[0m         )\n\u001b[1;32m   1290\u001b[0m         \u001b[0mself\u001b[0m\u001b[0;34m.\u001b[0m\u001b[0mresults\u001b[0m\u001b[0;34m.\u001b[0m\u001b[0mupdate\u001b[0m\u001b[0;34m(\u001b[0m\u001b[0mresult\u001b[0m\u001b[0;34m)\u001b[0m\u001b[0;34m\u001b[0m\u001b[0;34m\u001b[0m\u001b[0m\n",
            "\u001b[0;32m/usr/local/lib/python3.7/dist-packages/simpletransformers/classification/multi_label_classification_model.py\u001b[0m in \u001b[0;36mevaluate\u001b[0;34m(self, eval_df, output_dir, multi_label, prefix, verbose, silent, **kwargs)\u001b[0m\n\u001b[1;32m    324\u001b[0m             \u001b[0mverbose\u001b[0m\u001b[0;34m=\u001b[0m\u001b[0mverbose\u001b[0m\u001b[0;34m,\u001b[0m\u001b[0;34m\u001b[0m\u001b[0;34m\u001b[0m\u001b[0m\n\u001b[1;32m    325\u001b[0m             \u001b[0msilent\u001b[0m\u001b[0;34m=\u001b[0m\u001b[0msilent\u001b[0m\u001b[0;34m,\u001b[0m\u001b[0;34m\u001b[0m\u001b[0;34m\u001b[0m\u001b[0m\n\u001b[0;32m--> 326\u001b[0;31m             \u001b[0;34m**\u001b[0m\u001b[0mkwargs\u001b[0m\u001b[0;34m,\u001b[0m\u001b[0;34m\u001b[0m\u001b[0;34m\u001b[0m\u001b[0m\n\u001b[0m\u001b[1;32m    327\u001b[0m         )\n\u001b[1;32m    328\u001b[0m \u001b[0;34m\u001b[0m\u001b[0m\n",
            "\u001b[0;32m/usr/local/lib/python3.7/dist-packages/simpletransformers/classification/classification_model.py\u001b[0m in \u001b[0;36mevaluate\u001b[0;34m(self, eval_df, output_dir, multi_label, prefix, verbose, silent, wandb_log, **kwargs)\u001b[0m\n\u001b[1;32m   1501\u001b[0m \u001b[0;34m\u001b[0m\u001b[0m\n\u001b[1;32m   1502\u001b[0m         result, wrong = self.compute_metrics(\n\u001b[0;32m-> 1503\u001b[0;31m             \u001b[0mpreds\u001b[0m\u001b[0;34m,\u001b[0m \u001b[0mmodel_outputs\u001b[0m\u001b[0;34m,\u001b[0m \u001b[0mout_label_ids\u001b[0m\u001b[0;34m,\u001b[0m \u001b[0meval_examples\u001b[0m\u001b[0;34m,\u001b[0m \u001b[0;34m**\u001b[0m\u001b[0mkwargs\u001b[0m\u001b[0;34m\u001b[0m\u001b[0;34m\u001b[0m\u001b[0m\n\u001b[0m\u001b[1;32m   1504\u001b[0m         )\n\u001b[1;32m   1505\u001b[0m         \u001b[0mresult\u001b[0m\u001b[0;34m[\u001b[0m\u001b[0;34m\"eval_loss\"\u001b[0m\u001b[0;34m]\u001b[0m \u001b[0;34m=\u001b[0m \u001b[0meval_loss\u001b[0m\u001b[0;34m\u001b[0m\u001b[0;34m\u001b[0m\u001b[0m\n",
            "\u001b[0;32m/usr/local/lib/python3.7/dist-packages/simpletransformers/classification/multi_label_classification_model.py\u001b[0m in \u001b[0;36mcompute_metrics\u001b[0;34m(self, preds, model_outputs, labels, eval_examples, multi_label, **kwargs)\u001b[0m\n\u001b[1;32m    354\u001b[0m             \u001b[0meval_examples\u001b[0m\u001b[0;34m,\u001b[0m\u001b[0;34m\u001b[0m\u001b[0;34m\u001b[0m\u001b[0m\n\u001b[1;32m    355\u001b[0m             \u001b[0mmulti_label\u001b[0m\u001b[0;34m=\u001b[0m\u001b[0mmulti_label\u001b[0m\u001b[0;34m,\u001b[0m\u001b[0;34m\u001b[0m\u001b[0;34m\u001b[0m\u001b[0m\n\u001b[0;32m--> 356\u001b[0;31m             \u001b[0;34m**\u001b[0m\u001b[0mkwargs\u001b[0m\u001b[0;34m,\u001b[0m\u001b[0;34m\u001b[0m\u001b[0;34m\u001b[0m\u001b[0m\n\u001b[0m\u001b[1;32m    357\u001b[0m         )\n\u001b[1;32m    358\u001b[0m \u001b[0;34m\u001b[0m\u001b[0m\n",
            "\u001b[0;32m/usr/local/lib/python3.7/dist-packages/simpletransformers/classification/classification_model.py\u001b[0m in \u001b[0;36mcompute_metrics\u001b[0;34m(self, preds, model_outputs, labels, eval_examples, multi_label, **kwargs)\u001b[0m\n\u001b[1;32m   1766\u001b[0m         \u001b[0mextra_metrics\u001b[0m \u001b[0;34m=\u001b[0m \u001b[0;34m{\u001b[0m\u001b[0;34m}\u001b[0m\u001b[0;34m\u001b[0m\u001b[0;34m\u001b[0m\u001b[0m\n\u001b[1;32m   1767\u001b[0m         \u001b[0;32mfor\u001b[0m \u001b[0mmetric\u001b[0m\u001b[0;34m,\u001b[0m \u001b[0mfunc\u001b[0m \u001b[0;32min\u001b[0m \u001b[0mkwargs\u001b[0m\u001b[0;34m.\u001b[0m\u001b[0mitems\u001b[0m\u001b[0;34m(\u001b[0m\u001b[0;34m)\u001b[0m\u001b[0;34m:\u001b[0m\u001b[0;34m\u001b[0m\u001b[0;34m\u001b[0m\u001b[0m\n\u001b[0;32m-> 1768\u001b[0;31m             \u001b[0mextra_metrics\u001b[0m\u001b[0;34m[\u001b[0m\u001b[0mmetric\u001b[0m\u001b[0;34m]\u001b[0m \u001b[0;34m=\u001b[0m \u001b[0mfunc\u001b[0m\u001b[0;34m(\u001b[0m\u001b[0mlabels\u001b[0m\u001b[0;34m,\u001b[0m \u001b[0mpreds\u001b[0m\u001b[0;34m)\u001b[0m\u001b[0;34m\u001b[0m\u001b[0;34m\u001b[0m\u001b[0m\n\u001b[0m\u001b[1;32m   1769\u001b[0m \u001b[0;34m\u001b[0m\u001b[0m\n\u001b[1;32m   1770\u001b[0m         \u001b[0;32mif\u001b[0m \u001b[0mmulti_label\u001b[0m\u001b[0;34m:\u001b[0m\u001b[0;34m\u001b[0m\u001b[0;34m\u001b[0m\u001b[0m\n",
            "\u001b[0;32m/usr/local/lib/python3.7/dist-packages/sklearn/metrics/_classification.py\u001b[0m in \u001b[0;36mhamming_loss\u001b[0;34m(y_true, y_pred, labels, sample_weight)\u001b[0m\n\u001b[1;32m   2148\u001b[0m     \"\"\"\n\u001b[1;32m   2149\u001b[0m \u001b[0;34m\u001b[0m\u001b[0m\n\u001b[0;32m-> 2150\u001b[0;31m     \u001b[0my_type\u001b[0m\u001b[0;34m,\u001b[0m \u001b[0my_true\u001b[0m\u001b[0;34m,\u001b[0m \u001b[0my_pred\u001b[0m \u001b[0;34m=\u001b[0m \u001b[0m_check_targets\u001b[0m\u001b[0;34m(\u001b[0m\u001b[0my_true\u001b[0m\u001b[0;34m,\u001b[0m \u001b[0my_pred\u001b[0m\u001b[0;34m)\u001b[0m\u001b[0;34m\u001b[0m\u001b[0;34m\u001b[0m\u001b[0m\n\u001b[0m\u001b[1;32m   2151\u001b[0m     \u001b[0mcheck_consistent_length\u001b[0m\u001b[0;34m(\u001b[0m\u001b[0my_true\u001b[0m\u001b[0;34m,\u001b[0m \u001b[0my_pred\u001b[0m\u001b[0;34m,\u001b[0m \u001b[0msample_weight\u001b[0m\u001b[0;34m)\u001b[0m\u001b[0;34m\u001b[0m\u001b[0;34m\u001b[0m\u001b[0m\n\u001b[1;32m   2152\u001b[0m \u001b[0;34m\u001b[0m\u001b[0m\n",
            "\u001b[0;32m/usr/local/lib/python3.7/dist-packages/sklearn/metrics/_classification.py\u001b[0m in \u001b[0;36m_check_targets\u001b[0;34m(y_true, y_pred)\u001b[0m\n\u001b[1;32m     88\u001b[0m     \u001b[0;32mif\u001b[0m \u001b[0mlen\u001b[0m\u001b[0;34m(\u001b[0m\u001b[0my_type\u001b[0m\u001b[0;34m)\u001b[0m \u001b[0;34m>\u001b[0m \u001b[0;36m1\u001b[0m\u001b[0;34m:\u001b[0m\u001b[0;34m\u001b[0m\u001b[0;34m\u001b[0m\u001b[0m\n\u001b[1;32m     89\u001b[0m         raise ValueError(\"Classification metrics can't handle a mix of {0} \"\n\u001b[0;32m---> 90\u001b[0;31m                          \"and {1} targets\".format(type_true, type_pred))\n\u001b[0m\u001b[1;32m     91\u001b[0m \u001b[0;34m\u001b[0m\u001b[0m\n\u001b[1;32m     92\u001b[0m     \u001b[0;31m# We can't have more than one value on y_type => The set is no more needed\u001b[0m\u001b[0;34m\u001b[0m\u001b[0;34m\u001b[0m\u001b[0;34m\u001b[0m\u001b[0m\n",
            "\u001b[0;31mValueError\u001b[0m: Classification metrics can't handle a mix of multilabel-indicator and continuous-multioutput targets"
          ]
        }
      ]
    },
    {
      "cell_type": "code",
      "metadata": {
        "id": "ynouBkI7SLbW",
        "outputId": "7356afca-0b4e-496b-bd5c-cdb9718c437e",
        "colab": {
          "base_uri": "https://localhost:8080/"
        }
      },
      "source": [
        "model_outputs"
      ],
      "execution_count": 55,
      "outputs": [
        {
          "output_type": "execute_result",
          "data": {
            "text/plain": [
              "array([[0.32617188, 0.62451172, 0.01173401, ..., 0.01495361, 0.01119995,\n",
              "        0.16149902],\n",
              "       [0.01390076, 0.23974609, 0.00602722, ..., 0.04434204, 0.00575256,\n",
              "        0.38061523],\n",
              "       [0.33886719, 0.68457031, 0.01422882, ..., 0.0241394 , 0.00930023,\n",
              "        0.12536621],\n",
              "       ...,\n",
              "       [0.0109024 , 0.11279297, 0.00305176, ..., 0.00547028, 0.00540543,\n",
              "        0.76806641],\n",
              "       [0.01646423, 0.20153809, 0.00577545, ..., 0.01473236, 0.00967407,\n",
              "        0.54003906],\n",
              "       [0.01771545, 0.17407227, 0.00871277, ..., 0.01150513, 0.01020813,\n",
              "        0.53808594]])"
            ]
          },
          "metadata": {
            "tags": []
          },
          "execution_count": 55
        }
      ]
    },
    {
      "cell_type": "code",
      "metadata": {
        "id": "5VAqDhgeSHT4",
        "outputId": "c99a2dfa-40e6-4557-cc9b-d5dc64b20373",
        "colab": {
          "base_uri": "https://localhost:8080/",
          "height": 118,
          "referenced_widgets": [
            "ad74569ac12f4ab6b960a66b1d4b7844",
            "3d1adec0feba4852965e93ad015f1564",
            "897335c0ae074cbdbb6dfcdde7375068",
            "3ad53b1cfc554134a0c6b454438b8c3d",
            "df57e998bff1494880753c2e63ff4062",
            "158ed2f4b1ae4744af6386a25641905a",
            "ee2a8f5e924d43cbb5eea45b8f51b513",
            "cf5c7d8ed9d84f458a478e0f48b5f824",
            "0a2804eea6124f65b8b84ab8f1e6c021",
            "dbe3dd94d9fb45479ab7a31b93a7dc62",
            "b109515fdc294868b1ec8d9fe9aa47d6",
            "178275d441fc47779d3bf37846765f58",
            "8debcf2b45b84c25a86da7c6b25f2d4c",
            "d13adb28a6dc4e568eba82ef05fce6e9",
            "596f2158e0244f969522fc84a6dff202",
            "c3fa238e81804b52a0e39bed3613839b",
            "c910dc0da2a84f3da990c51995f7ac71",
            "bab9bffa5dcb4959a02b7680792609eb",
            "cffe9633710742b0b03f011c4106d5a6",
            "33b2b2be8007498c95f791d1522e04e0",
            "aef404da70ae46b8b59117bca612cf46",
            "656b5d8dbd1442cd8c4ba170c311fa71"
          ]
        }
      },
      "source": [
        "# Make predictions with the model\n",
        "predictions, raw_outputs = model.predict(sentences_test['sentence_text'].astype(str).values.tolist())"
      ],
      "execution_count": 37,
      "outputs": [
        {
          "output_type": "stream",
          "text": [
            "INFO:simpletransformers.classification.classification_utils: Converting to features started. Cache is not used.\n"
          ],
          "name": "stderr"
        },
        {
          "output_type": "display_data",
          "data": {
            "application/vnd.jupyter.widget-view+json": {
              "model_id": "ad74569ac12f4ab6b960a66b1d4b7844",
              "version_minor": 0,
              "version_major": 2
            },
            "text/plain": [
              "  0%|          | 0/56689 [00:00<?, ?it/s]"
            ]
          },
          "metadata": {
            "tags": []
          }
        },
        {
          "output_type": "display_data",
          "data": {
            "application/vnd.jupyter.widget-view+json": {
              "model_id": "178275d441fc47779d3bf37846765f58",
              "version_minor": 0,
              "version_major": 2
            },
            "text/plain": [
              "  0%|          | 0/7087 [00:00<?, ?it/s]"
            ]
          },
          "metadata": {
            "tags": []
          }
        }
      ]
    },
    {
      "cell_type": "code",
      "metadata": {
        "id": "Gy8jbq4QUJBL",
        "outputId": "3eb20bcc-cf8a-41b2-9d77-883d57fcf36a",
        "colab": {
          "base_uri": "https://localhost:8080/"
        }
      },
      "source": [
        "raw_outputs"
      ],
      "execution_count": 41,
      "outputs": [
        {
          "output_type": "execute_result",
          "data": {
            "text/plain": [
              "array([[0.03372192, 0.11877441, 0.00933838, ..., 0.04486084, 0.06890869,\n",
              "        0.29931641],\n",
              "       [0.01238251, 0.19555664, 0.01893616, ..., 0.07275391, 0.00769424,\n",
              "        0.39526367],\n",
              "       [0.03662109, 0.31469727, 0.00526047, ..., 0.02310181, 0.00857544,\n",
              "        0.32641602],\n",
              "       ...,\n",
              "       [0.13464355, 0.0333252 , 0.00413513, ..., 0.00847626, 0.00307465,\n",
              "        0.09173584],\n",
              "       [0.06781006, 0.02722168, 0.00333786, ..., 0.00547028, 0.00222588,\n",
              "        0.13745117],\n",
              "       [0.00847626, 0.02207947, 0.01168823, ..., 0.01908875, 0.00503922,\n",
              "        0.64257812]])"
            ]
          },
          "metadata": {
            "tags": []
          },
          "execution_count": 41
        }
      ]
    },
    {
      "cell_type": "code",
      "metadata": {
        "id": "Ip5Zr3XcUYVx"
      },
      "source": [
        "def hamming_score(y_true, y_pred):\n",
        "    # https://link.springer.com/chapter/10.1007/978-3-540-24775-3_5\n",
        "    # please check the source: https://github.com/varunshenoy/simple-metrics/blob/master/simple-metrics.py\n",
        "    acc_list = []\n",
        "    for yt, yp in zip(y_true, y_pred):\n",
        "        set_true = set(yt)\n",
        "        set_pred = set(yp)\n",
        "        tmp_a = None\n",
        "        if len(set_true) == 0 and len(set_pred) == 0:\n",
        "            tmp_a = 1\n",
        "        else:\n",
        "            tmp_a = len(set_true & set_pred) / len(set_true | set_pred)\n",
        "        acc_list.append(tmp_a)\n",
        "    return np.mean(acc_list)"
      ],
      "execution_count": 43,
      "outputs": []
    }
  ]
}